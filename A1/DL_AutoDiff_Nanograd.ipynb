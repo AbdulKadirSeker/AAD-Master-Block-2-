{
 "cells": [
  {
   "cell_type": "markdown",
   "metadata": {
    "id": "HAva8TnYFtFu"
   },
   "source": [
    "# Contents and why we need this lab\n",
    "\n",
    "This lab is about implementing neural networks yourself before we start using other frameworks that hide some computation from you. It builds on the first lab, where you derived the equations for neural network forward and backward propagation and gradient descent parameter updates.\n",
    "\n",
    "All the frameworks for deep learning you will meet from now on use automatic differentiation (autodiff), so you do not have to code the backward step yourself. In this version of this lab, you will develop your own autodif implementation."
   ]
  },
  {
   "cell_type": "markdown",
   "metadata": {
    "id": "sCa7HzwpFtFy"
   },
   "source": [
    "# External source of information\n",
    "\n",
    "[Nanograd](https://github.com/rasmusbergpalm/nanograd) is a minimalistic version of autodiff developed by [Rasmus Berg Palm](https://rasmusbergpalm.github.io) that we use for our framework.\n"
   ]
  },
  {
   "cell_type": "markdown",
   "metadata": {
    "id": "1SjiIp-TFtF0"
   },
   "source": [
    "# This notebook will follow the next steps:\n",
    "\n",
    "1. Nanograd automatic differentiation framework\n",
    "2. Finite difference method\n",
    "3. Data generation\n",
    "4. Defining and initializing the network\n",
    "5. Forward pass\n",
    "6. Training loop\n",
    "7. Testing your model\n",
    "8. Further extensions"
   ]
  },
  {
   "cell_type": "markdown",
   "metadata": {
    "id": "OyXeAA-HuT7s"
   },
   "source": [
    "# Nanograd automatic differention framework"
   ]
  },
  {
   "cell_type": "markdown",
   "metadata": {
    "id": "k6UWKCLKubgA"
   },
   "source": [
    "The [Nanograd](https://github.com/rasmusbergpalm/nanograd) framework defines a class Var which both holds a value and gradient value that we can use to store the intermediate values when we apply the chain rule of differentiation."
   ]
  },
  {
   "cell_type": "code",
   "metadata": {
    "id": "Jd4CoEBNzNWS",
    "ExecuteTime": {
     "end_time": "2024-11-29T15:45:40.870947Z",
     "start_time": "2024-11-29T15:45:40.855018Z"
    }
   },
   "source": [
    "# Copy and pasted from https://github.com/rasmusbergpalm/nanograd/blob/3a1bf9e9e724da813bfccf91a6f309abdade9f39/nanograd.py\n",
    "\n",
    "from math import exp, tanh\n",
    "\n",
    "class Var:\n",
    "    \"\"\"\n",
    "    A variable which holds a float and enables gradient computations.\n",
    "    \"\"\"\n",
    "\n",
    "    def __init__(self, val: float, grad_fn=lambda: []):\n",
    "        assert type(val) == float\n",
    "        self.v = val\n",
    "        self.grad_fn = grad_fn\n",
    "        self.grad = 0.0\n",
    "\n",
    "    def backprop(self, bp):\n",
    "        self.grad += bp\n",
    "        for input, grad in self.grad_fn():\n",
    "            input.backprop(grad * bp)\n",
    "\n",
    "    def backward(self):\n",
    "        self.backprop(1.0)\n",
    "\n",
    "    def __add__(self: 'Var', other: 'Var') -> 'Var':\n",
    "        return Var(self.v + other.v, lambda: [(self, 1.0), (other, 1.0)])\n",
    "\n",
    "    def __mul__(self: 'Var', other: 'Var') -> 'Var':\n",
    "        return Var(self.v * other.v, lambda: [(self, other.v), (other, self.v)])\n",
    "\n",
    "    def __pow__(self, power):\n",
    "        assert type(power) in {float, int}, \"power must be float or int\"\n",
    "        return Var(self.v ** power, lambda: [(self, power * self.v ** (power - 1))])\n",
    "\n",
    "    def __neg__(self: 'Var') -> 'Var':\n",
    "        return Var(-1.0) * self\n",
    "\n",
    "    def __sub__(self: 'Var', other: 'Var') -> 'Var':\n",
    "        return self + (-other)\n",
    "\n",
    "    def __truediv__(self: 'Var', other: 'Var') -> 'Var':\n",
    "        return self * other ** -1\n",
    "\n",
    "    def __repr__(self):\n",
    "        return \"Var(v=%.4f, grad=%.4f)\" % (self.v, self.grad)\n",
    "\n",
    "    def relu(self):\n",
    "        return Var(self.v if self.v > 0.0 else 0.0, lambda: [(self, 1.0 if self.v > 0.0 else 0.0)])\n",
    "\n",
    "    def identity(self):\n",
    "        return Var(self.v, lambda: [(self, 1.0)])\n",
    "\n",
    "    def tanh(self):\n",
    "        t = tanh(self.v)\n",
    "        return Var(t, lambda: [(self, 1.0 - t**2)])\n",
    "    \n",
    "    def sigmoid(self):\n",
    "        s = 1 / (1 + exp(-self.v)) \n",
    "        return Var(s, lambda: [(self, s * (1 - s))])  # Derivative: s * (1 - s)"
   ],
   "outputs": [],
   "execution_count": 119
  },
  {
   "cell_type": "markdown",
   "metadata": {
    "id": "yDX67D6jzcte"
   },
   "source": [
    "A few examples illustrate how we can use this:"
   ]
  },
  {
   "cell_type": "code",
   "metadata": {
    "id": "xk6PeLc3zwPT",
    "ExecuteTime": {
     "end_time": "2024-11-29T15:45:41.284151Z",
     "start_time": "2024-11-29T15:45:41.277087Z"
    }
   },
   "source": [
    "a = Var(3.0)\n",
    "b = Var(5.0)\n",
    "f = a * b\n",
    "\n",
    "f.backward()\n",
    "\n",
    "for v in [a, b, f]:\n",
    "    print(v)"
   ],
   "outputs": [
    {
     "name": "stdout",
     "output_type": "stream",
     "text": [
      "Var(v=3.0000, grad=5.0000)\n",
      "Var(v=5.0000, grad=3.0000)\n",
      "Var(v=15.0000, grad=1.0000)\n"
     ]
    }
   ],
   "execution_count": 120
  },
  {
   "cell_type": "code",
   "metadata": {
    "id": "JmKhYgsY0g_o",
    "ExecuteTime": {
     "end_time": "2024-11-29T15:45:41.311142Z",
     "start_time": "2024-11-29T15:45:41.304158Z"
    }
   },
   "source": [
    "a = Var(3.0)\n",
    "b = Var(5.0)\n",
    "c = a * b\n",
    "d = Var(9.0)\n",
    "e = a * d\n",
    "f = c + e\n",
    "\n",
    "f.backward()\n",
    "\n",
    "for v in [a, b, c, d, e, f]:\n",
    "    print(v)"
   ],
   "outputs": [
    {
     "name": "stdout",
     "output_type": "stream",
     "text": [
      "Var(v=3.0000, grad=14.0000)\n",
      "Var(v=5.0000, grad=3.0000)\n",
      "Var(v=15.0000, grad=1.0000)\n",
      "Var(v=9.0000, grad=3.0000)\n",
      "Var(v=27.0000, grad=1.0000)\n",
      "Var(v=42.0000, grad=1.0000)\n"
     ]
    }
   ],
   "execution_count": 121
  },
  {
   "cell_type": "markdown",
   "metadata": {
    "id": "Fe3B6uEH140p"
   },
   "source": [
    "## Exercise a) What is being calculated?\n",
    "\n",
    "Explain briefly the output of the code? What is the expression we differentiate and with respect to what variables?"
   ]
  },
  {
   "metadata": {},
   "cell_type": "markdown",
   "source": [
    "The code computes and differentiates the following expression:\n",
    "$\n",
    "f = (a \\cdot b) + (a \\cdot d)\n",
    "$\n",
    "\n",
    "The final output \\( f \\) is differentiated with respect to the variables \\( a \\), \\( b \\), and \\( d \\). Intermediate variables \\( c \\) and \\( e \\) are part of the computation graph but are not inputs to the overall function.\n",
    "\n",
    "The gradients for each variable are computed as follows:\n",
    "1. **Gradient with respect to \\( a \\):**\n",
    "   $\n",
    "   \\frac{\\partial f}{\\partial a} = \\frac{\\partial (a \\cdot b)}{\\partial a} + \\frac{\\partial (a \\cdot d)}{\\partial a} = b + d = 5 + 9 = 14\n",
    "   $\n",
    "\n",
    "2. **Gradient with respect to \\( b \\):**\n",
    "   Only the first term depends on \\( b \\):\n",
    "   $\n",
    "   \\frac{\\partial f}{\\partial b} = \\frac{\\partial (a \\cdot b)}{\\partial b} = a = 3\n",
    "   $\n",
    "\n",
    "3. **Gradient with respect to \\( d \\):**\n",
    "   Only the second term depends on \\( d \\):\n",
    "   $\n",
    "   \\frac{\\partial f}{\\partial d} = \\frac{\\partial (a \\cdot d)}{\\partial d} = a = 3\n",
    "   $\n"
   ]
  },
  {
   "cell_type": "markdown",
   "metadata": {
    "id": "q8_Q0t2I3Ruj"
   },
   "source": [
    "## Exercise b) How does the backward function work?\n",
    "\n",
    "You need to understand how the backward function calculates the gradients. We can use the two examples above to help with that.\n",
    "\n",
    "Go through the following four steps and answer the questions on the way:\n",
    "\n",
    "1. We represent the two expressions as graphs as shown below. Fill in the missing expressions for the different derivatives.\n",
    "\n",
    "2. In the remainder, consider the first expression. Make a schematic of the data structure generated when we define the expression for f (e.g., write a list of which objects are created and the corresponding values of their member variables).\n",
    "\n",
    "3. Then execute the backward function by hand to convince yourself that it indeed calculates the gradients with respect to the variables.\n",
    "\n",
    "4. Write down the sequence of calls to backprop."
   ]
  },
  {
   "metadata": {},
   "cell_type": "markdown",
   "source": [
    "---\n",
    "### 1. Filling the missing expressions\n",
    "#### First graph\n",
    "The expression is:\n",
    "$f = a \\cdot b$\n",
    "The derivatives are:\n",
    "$\\frac{\\partial f}{\\partial a} = b$ and $\\frac{\\partial f}{\\partial b} = a$\n",
    "\n",
    "#### Second graph\n",
    "The expression is:\n",
    "$f = (a \\cdot b) + (a \\cdot d)$\n",
    "The derivatives are:\n",
    "$\\frac{\\partial c}{\\partial a} = b$, $\\frac{\\partial c}{\\partial b} = a$, \n",
    "$\\frac{\\partial e}{\\partial a} = d$, and $\\frac{\\partial e}{\\partial d} = a$\n",
    "Also,\n",
    "$\\frac{\\partial f}{\\partial c} = 1$ and $\\frac{\\partial f}{\\partial e} = 1$\n",
    "\n",
    "---\n",
    "\n",
    "### 2. Schema for the data structure $f = (a \\cdot b) + (a \\cdot d)$\n",
    "\n",
    "When we define $f$, the following objects are created with their values and gradient functions:\n",
    "\n",
    "| **Object** | **Value ($v$)** | **Gradient ($\\text{grad}$)** | **Gradient Function ($\\text{grad\\_fn}$)** |\n",
    "|------------|-----------------|-----------------------------|--------------------------------------------|\n",
    "| $a$        | $3.0$           | $0.0$                       | None                                       |\n",
    "| $b$        | $5.0$           | $0.0$                       | None                                       |\n",
    "| $d$        | $9.0$           | $0.0$                       | None                                       |\n",
    "| $c$        | $a \\cdot b = 15.0$ | $0.0$                    | $[(a, b), (b, a)]$                        |\n",
    "| $e$        | $a \\cdot d = 27.0$ | $0.0$                    | $[(a, d), (d, a)]$                        |\n",
    "| $f$        | $c + e = 42.0$    | $0.0$                     | $[(c, 1.0), (e, 1.0)]$                    |\n",
    "\n",
    "---\n",
    "\n",
    "### 3. Execution of the backward function\n",
    "\n",
    "We start with the gradient at $f$:  \n",
    "$\\text{grad}_f = 1.0$\n",
    "\n",
    "#### Propagate to $c$ and $e$\n",
    "For $c$, we get:  \n",
    "$\\text{grad}_c = \\text{grad}_f \\cdot \\frac{\\partial f}{\\partial c} = 1.0 \\cdot 1.0 = 1.0$\n",
    "\n",
    "For $e$, we get:  \n",
    "$\\text{grad}_e = \\text{grad}_f \\cdot \\frac{\\partial f}{\\partial e} = 1.0 \\cdot 1.0 = 1.0$\n",
    "\n",
    "#### Propagate to $a$, $b$, and $d$ from $c$ and $e$\n",
    "For $c = a \\cdot b$:\n",
    "$\\text{grad}_a += \\text{grad}_c \\cdot \\frac{\\partial c}{\\partial a} = 0.0 + 1.0 \\cdot b = 5.0$  \n",
    "$\\text{grad}_b += \\text{grad}_c \\cdot \\frac{\\partial c}{\\partial b} = 0.0 + 1.0 \\cdot a = 3.0$\n",
    "\n",
    "For $e = a \\cdot d$:\n",
    "$\\text{grad}_a += \\text{grad}_e \\cdot \\frac{\\partial e}{\\partial a} = 5.0 + 1.0 \\cdot d = 5.0 + 9.0 = 14.0$  \n",
    "$\\text{grad}_d += \\text{grad}_e \\cdot \\frac{\\partial e}{\\partial d} = 0.0 + 1.0 \\cdot a = 3.0$\n",
    "\n",
    "---\n",
    "\n",
    "### 4. Sequence of calls to backprop\n",
    "\n",
    "The following is how the calls happen during backpropagation:\n",
    "\n",
    "1. **Start at $f$**:  \n",
    "   The gradient at $f$ is $1.0$, and we propagate this to $c$ and $e$.\n",
    "\n",
    "2. **Go to $c$**:  \n",
    "   The gradient at $c$ is $1.0$, and we pass this on to $a$ and $b$.\n",
    "\n",
    "3. **Go to $e$**:  \n",
    "   The gradient at $e$ is $1.0$, and we pass this on to $a$ and $d$.\n",
    "\n",
    "4. **Update $a$, $b$, and $d$**:  \n",
    "   Combine the gradients at $a$: $\\text{grad}_a = 14.0$  \n",
    "   Final gradients: $\\text{grad}_b = 3.0$, $\\text{grad}_d = 3.0$\n",
    "---\n"
   ]
  },
  {
   "cell_type": "code",
   "metadata": {
    "id": "idGr71jYXl26",
    "ExecuteTime": {
     "end_time": "2024-11-29T15:45:41.405507Z",
     "start_time": "2024-11-29T15:45:41.399699Z"
    }
   },
   "source": [
    "# If you have not installed networkx and matplotlib, you can install them by running\n",
    "# !pip install networkx matplotlib\n",
    "\n",
    "import networkx as nx\n",
    "import matplotlib.pyplot as plt"
   ],
   "outputs": [],
   "execution_count": 122
  },
  {
   "cell_type": "code",
   "metadata": {
    "id": "tEieXD0lPiz_",
    "ExecuteTime": {
     "end_time": "2024-11-29T15:45:41.707871Z",
     "start_time": "2024-11-29T15:45:41.451178Z"
    }
   },
   "source": [
    "# Create a directed graph\n",
    "G = nx.DiGraph()\n",
    "\n",
    "# Add edges with labels\n",
    "G.add_edge('a', 'f', label='df/da=?')\n",
    "G.add_edge('b', 'f', label='df/db=?')\n",
    "\n",
    "# Manually define positions for a tree layout\n",
    "pos = {\n",
    "    'a': (0, 1),\n",
    "    'b': (0, -1),\n",
    "    'f': (1, 0),\n",
    "}\n",
    "# Draw the graph nodes and edges\n",
    "nx.draw(G, pos, with_labels=True, node_shape='o', node_size=3000, node_color='lightblue', arrows=True)\n",
    "\n",
    "# Draw edge labels\n",
    "edge_labels = nx.get_edge_attributes(G, 'label')\n",
    "nx.draw_networkx_edge_labels(G, pos, edge_labels=edge_labels)\n",
    "\n",
    "# Show the plot\n",
    "plt.show()"
   ],
   "outputs": [
    {
     "data": {
      "text/plain": [
       "<Figure size 640x480 with 1 Axes>"
      ],
      "image/png": "[encoded data removed]"
     },
     "metadata": {},
     "output_type": "display_data"
    }
   ],
   "execution_count": 123
  },
  {
   "cell_type": "code",
   "metadata": {
    "id": "0nittR-mZFeX",
    "ExecuteTime": {
     "end_time": "2024-11-29T15:45:42.181760Z",
     "start_time": "2024-11-29T15:45:41.714532Z"
    }
   },
   "source": [
    "# Create a directed graph\n",
    "G = nx.DiGraph()\n",
    "\n",
    "# Add edges with labels\n",
    "G.add_edge('a', 'c', label='dc/da=?')\n",
    "G.add_edge('b', 'c', label='dc/db=?')\n",
    "G.add_edge('a', 'e', label='de/da=?')\n",
    "G.add_edge('d', 'e', label='de/dd=?')\n",
    "G.add_edge('c', 'f', label='df/dc=?')\n",
    "G.add_edge('e', 'f', label='df/de=?')\n",
    "\n",
    "# Manually define positions for a tree layout\n",
    "pos = {\n",
    "    'a': (0, 0),\n",
    "    'b': (0, 2),\n",
    "    'c': (1, 1),\n",
    "    'd': (0, -2),\n",
    "    'e': (1, -1),\n",
    "    'f': (2, 0)\n",
    "}\n",
    "\n",
    "# Draw the graph nodes and edges\n",
    "nx.draw(G, pos, with_labels=True, node_shape='o', node_size=3000, node_color='lightblue', arrows=True)\n",
    "\n",
    "# Draw edge labels\n",
    "edge_labels = nx.get_edge_attributes(G, 'label')\n",
    "nx.draw_networkx_edge_labels(G, pos, edge_labels=edge_labels)\n",
    "\n",
    "# Show the plot\n",
    "plt.show()"
   ],
   "outputs": [
    {
     "data": {
      "text/plain": [
       "<Figure size 640x480 with 1 Axes>"
      ],
      "image/png": "[encoded data removed]"
     },
     "metadata": {},
     "output_type": "display_data"
    }
   ],
   "execution_count": 124
  },
  {
   "cell_type": "markdown",
   "metadata": {
    "id": "A5oi21W4gpeM"
   },
   "source": [
    "## Exercise c) What happens if we run backward again?\n",
    "\n",
    "Try to execute the code below. Explain what happens."
   ]
  },
  {
   "cell_type": "code",
   "metadata": {
    "id": "DCtpJyr-gyX1",
    "ExecuteTime": {
     "end_time": "2024-11-29T15:45:42.202612Z",
     "start_time": "2024-11-29T15:45:42.187447Z"
    }
   },
   "source": [
    "f.backward()\n",
    "\n",
    "for v in [a, b, c, d, e, f]:\n",
    "    print(v)"
   ],
   "outputs": [
    {
     "name": "stdout",
     "output_type": "stream",
     "text": [
      "Var(v=3.0000, grad=28.0000)\n",
      "Var(v=5.0000, grad=6.0000)\n",
      "Var(v=15.0000, grad=2.0000)\n",
      "Var(v=9.0000, grad=6.0000)\n",
      "Var(v=27.0000, grad=2.0000)\n",
      "Var(v=42.0000, grad=2.0000)\n"
     ]
    }
   ],
   "execution_count": 125
  },
  {
   "metadata": {},
   "cell_type": "markdown",
   "source": [
    "### The following happens when f.backward() is called again:\n",
    "When f.backward() is called, the backprop method accumulates gradients by adding to the existing ones:\n",
    "   $ \\text{self.grad} += \\text{bp} $ <br>\n",
    "This means that the gradients from the second pass are added to the gradients already computed during the first pass.\n",
    "\n",
    "### Observations:\n",
    "The gradient for each variable doubles after the second backward pass. For example:\n",
    "  - $\\text{grad}_a$ becomes $28.0$ because $14.0 \\times 2 = 28.0$.\n",
    "  - $\\text{grad}_b$ becomes $6.0$ because $3.0 \\times 2 = 6.0$.\n",
    "  - Similar doubling occurs for other variables.\n",
    "\n",
    "### Why does the doubling happen?\n",
    "This doubling happens because each gradient is the sum of the contributions from both backward passes.\n"
   ]
  },
  {
   "cell_type": "markdown",
   "metadata": {
    "id": "e8bPVq2VhsP-"
   },
   "source": [
    "## Exercise d) Zero gradient\n",
    "\n",
    "We can zero the gradient by backpropagating a -1.0 as is shown in the example below. (If you have run backward multiple time then you also have to run the cell below an equal amount of times.) Explain what is going on."
   ]
  },
  {
   "metadata": {},
   "cell_type": "markdown",
   "source": [
    "**What Happens with $f.\\text{backprop}(-1.0)$?**:\n",
    "   - The backpropagation subtracts contributions from the gradients because:\n",
    "     $$\n",
    "     \\text{self.grad} += \\text{bp}\n",
    "     $$\n",
    "   - Passing $-1.0$ subtracts the contributions made during the earlier pass where $f.\\text{backward}()$ added gradients.\n",
    "\n",
    "**After Backpropagation with $-1.0$**:\n",
    "   - The gradients for all variables are updated as:\n",
    "     $$\n",
    "     \\text{grad}_{\\text{new}} = \\text{grad}_{\\text{previous}} - \\text{grad}_{\\text{contribution}}\n",
    "     $$"
   ]
  },
  {
   "cell_type": "code",
   "metadata": {
    "id": "OnyPDQx9lJe0",
    "ExecuteTime": {
     "end_time": "2024-11-29T15:45:42.230960Z",
     "start_time": "2024-11-29T15:45:42.213863Z"
    }
   },
   "source": [
    "a = Var(2.0)\n",
    "\n",
    "for v in [a, b, c, d, e, f]:\n",
    "    print(v)\n",
    "\n",
    "f.backprop(-1.0)\n",
    "\n",
    "for v in [a, b, c, d, e, f]:\n",
    "    print(v)"
   ],
   "outputs": [
    {
     "name": "stdout",
     "output_type": "stream",
     "text": [
      "Var(v=2.0000, grad=0.0000)\n",
      "Var(v=5.0000, grad=6.0000)\n",
      "Var(v=15.0000, grad=2.0000)\n",
      "Var(v=9.0000, grad=6.0000)\n",
      "Var(v=27.0000, grad=2.0000)\n",
      "Var(v=42.0000, grad=2.0000)\n",
      "Var(v=2.0000, grad=0.0000)\n",
      "Var(v=5.0000, grad=3.0000)\n",
      "Var(v=15.0000, grad=1.0000)\n",
      "Var(v=9.0000, grad=3.0000)\n",
      "Var(v=27.0000, grad=1.0000)\n",
      "Var(v=42.0000, grad=1.0000)\n"
     ]
    }
   ],
   "execution_count": 126
  },
  {
   "cell_type": "markdown",
   "metadata": {
    "id": "U4057_ljNvWB"
   },
   "source": [
    "## Exercise e) Test correctness of derivatives with the finite difference method\n",
    "\n",
    "Write a small function that uses [the finite difference method](https://en.wikipedia.org/wiki/Finite_difference_method) to numerically test that backpropation implementation is working. In short we will use\n",
    "$$\n",
    "\\frac{\\partial f(a)}{\\partial a} \\approx \\frac{f(a+da)-f(a)}{da}\n",
    "$$\n",
    "for $da \\ll 1$.\n",
    "\n",
    "As an example, we could approximate the derivative of the function $f(a)=a^2$ in e.g. the value $a=4$ using the finite difference method. This amounts to inserting the relevant values and approximating the gradient $f'(4)$ with the fraction above.\n"
   ]
  },
  {
   "cell_type": "code",
   "metadata": {
    "id": "9TGil92lSXDN",
    "ExecuteTime": {
     "end_time": "2024-11-29T15:45:42.274868Z",
     "start_time": "2024-11-29T15:45:42.241624Z"
    }
   },
   "source": [
    "# f function - try to change the code to test other types of functions as well (such as different polynomials etc.)\n",
    "def f_function(a):\n",
    "    a = Var(a)\n",
    "    b = Var(5.0)\n",
    "    f = a * b\n",
    "    f.backward()\n",
    "    return a, b, f\n",
    "\n",
    "# Insert your finite difference code here\n",
    "def finite_difference(a_value=3.0, da=1e-10):\n",
    "    \"\"\"\n",
    "    This function computes the finite difference approximation for the derivative of f(a) = a * b.\n",
    "\n",
    "    Inputs:\n",
    "    a_value:     The point at which to compute the derivative         (float)\n",
    "    da:          The finite difference                               (float)\n",
    "\n",
    "    Output:\n",
    "    finite_difference: numerical approximation to the derivative     (float)\n",
    "    \"\"\"\n",
    "\n",
    "    # Calculate f(a + da)\n",
    "    a_plus_da, _, f_plus_da = f_function(a_value + da)\n",
    "    fa_da = f_plus_da.v  # Value of f(a + da)\n",
    "\n",
    "    # Calculate f(a)\n",
    "    a, _, f = f_function(a_value)\n",
    "    fa = f.v  # Value of f(a)\n",
    "\n",
    "    # Compute the finite difference\n",
    "    finite_difference = (fa_da - fa) / da\n",
    "\n",
    "    return finite_difference\n",
    "\n",
    "# Testing the finite difference function\n",
    "for v in f_function(3.0):\n",
    "    print(v)\n",
    "\n",
    "print(finite_difference(a_value=3.0))\n"
   ],
   "outputs": [
    {
     "name": "stdout",
     "output_type": "stream",
     "text": [
      "Var(v=3.0000, grad=5.0000)\n",
      "Var(v=5.0000, grad=3.0000)\n",
      "Var(v=15.0000, grad=1.0000)\n",
      "5.000000413701855\n"
     ]
    }
   ],
   "execution_count": 127
  },
  {
   "cell_type": "markdown",
   "metadata": {
    "id": "6pZar5RKaUkg"
   },
   "source": [
    "# Create an artificial dataset to play with\n",
    "\n",
    "We create a non-linear 1d regression task. The generator supports various noise levels and it creates train, validation and test sets. You can modify it yourself if you want more or less challenging tasks."
   ]
  },
  {
   "cell_type": "code",
   "metadata": {
    "id": "Y6yfMAQ8aduj",
    "ExecuteTime": {
     "end_time": "2024-11-29T15:45:42.307784Z",
     "start_time": "2024-11-29T15:45:42.287090Z"
    }
   },
   "source": [
    "import numpy as np\n",
    "import matplotlib.pyplot as plt\n",
    "\n",
    "np.random.seed(42)"
   ],
   "outputs": [],
   "execution_count": 128
  },
  {
   "cell_type": "code",
   "metadata": {
    "id": "4YabfD43ajNh",
    "ExecuteTime": {
     "end_time": "2024-11-29T15:45:42.470446Z",
     "start_time": "2024-11-29T15:45:42.444163Z"
    }
   },
   "source": [
    "def data_generator(noise=0.1, n_samples=300, D1=True):\n",
    "    # Create covariates and response variable\n",
    "    if D1:\n",
    "        X = np.linspace(-3, 3, num=n_samples).reshape(-1,1) # 1-D\n",
    "        np.random.shuffle(X)\n",
    "        y = np.random.normal((0.5*np.sin(X[:,0]*3) + X[:,0]), noise) # 1-D with trend\n",
    "    else:\n",
    "        X = np.random.multivariate_normal(np.zeros(3), noise*np.eye(3), size = n_samples) # 3-D\n",
    "        np.random.shuffle(X)\n",
    "        y = np.sin(X[:,0]) - 5*(X[:,1]**2) + 0.5*X[:,2] # 3-D\n",
    "\n",
    "    # Stack them together vertically to split data set\n",
    "    data_set = np.vstack((X.T,y)).T\n",
    "\n",
    "    train, validation, test = np.split(data_set, [int(0.35*n_samples), int(0.7*n_samples)], axis=0)\n",
    "\n",
    "    # Standardization of the data, remember we do the standardization with the training set mean and standard deviation\n",
    "    train_mu = np.mean(train, axis=0)\n",
    "    train_sigma = np.std(train, axis=0)\n",
    "\n",
    "    train = (train-train_mu)/train_sigma\n",
    "    validation = (validation-train_mu)/train_sigma\n",
    "    test = (test-train_mu)/train_sigma\n",
    "\n",
    "    x_train, x_validation, x_test = train[:,:-1], validation[:,:-1], test[:,:-1]\n",
    "    y_train, y_validation, y_test = train[:,-1], validation[:,-1], test[:,-1]\n",
    "\n",
    "    return x_train, y_train,  x_validation, y_validation, x_test, y_test"
   ],
   "outputs": [],
   "execution_count": 129
  },
  {
   "cell_type": "code",
   "metadata": {
    "id": "u1oDngHLapIz",
    "ExecuteTime": {
     "end_time": "2024-11-29T15:45:42.932701Z",
     "start_time": "2024-11-29T15:45:42.921649Z"
    }
   },
   "source": [
    "D1 = True\n",
    "x_train, y_train,  x_validation, y_validation, x_test, y_test = data_generator(noise=0.5, D1=D1)"
   ],
   "outputs": [],
   "execution_count": 130
  },
  {
   "cell_type": "code",
   "metadata": {
    "id": "Ysfa3FsBavlm",
    "ExecuteTime": {
     "end_time": "2024-11-29T15:45:43.475905Z",
     "start_time": "2024-11-29T15:45:43.169985Z"
    }
   },
   "source": [
    "if D1:\n",
    "    plt.scatter(x_train[:,0], y_train);\n",
    "    plt.scatter(x_validation[:,0], y_validation);\n",
    "    plt.scatter(x_test[:,0], y_test);\n",
    "else:\n",
    "    plt.scatter(x_train[:,1], y_train);\n",
    "    plt.scatter(x_validation[:,1], y_validation);\n",
    "    plt.scatter(x_test[:,1], y_test);\n",
    "plt.show()"
   ],
   "outputs": [
    {
     "data": {
      "text/plain": [
       "<Figure size 640x480 with 1 Axes>"
      ],
      "image/png": "[encoded data removed]"
     },
     "metadata": {},
     "output_type": "display_data"
    }
   ],
   "execution_count": 131
  },
  {
   "cell_type": "code",
   "metadata": {
    "id": "zac2HHNlgbpm",
    "ExecuteTime": {
     "end_time": "2024-11-29T15:45:43.497775Z",
     "start_time": "2024-11-29T15:45:43.481923Z"
    }
   },
   "source": [
    "# convert from nparray to Var\n",
    "def nparray_to_Var(x):\n",
    "  if x.ndim==1:\n",
    "    y = [[Var(float(x[i]))] for i in range(x.shape[0])] # always work with list of list\n",
    "  else:\n",
    "    y = [[Var(float(x[i,j])) for j in range(x.shape[1])] for i in range(x.shape[0])]\n",
    "  return y\n",
    "\n",
    "x_train = nparray_to_Var(x_train)\n",
    "y_train = nparray_to_Var(y_train)\n",
    "x_validation = nparray_to_Var(x_validation)\n",
    "y_validation = nparray_to_Var(y_validation)\n",
    "x_test = nparray_to_Var(x_test)\n",
    "y_test = nparray_to_Var(y_test)\n"
   ],
   "outputs": [],
   "execution_count": 132
  },
  {
   "cell_type": "markdown",
   "metadata": {
    "id": "VbjrqcpVFtGe"
   },
   "source": [
    "# Defining and initializing the network\n",
    "\n",
    "The steps to create a feed forward neural network are the following:\n",
    "\n",
    "1. **Number of hidden layer and hidden units**. We have to define the number of hidden units in each layer. The number of features in X and the output dimensionality (the size of Y) are given but the numbers in between are set by the researcher. Remember that for each unit in each layer beside in the input has a bias term.\n",
    "2. **Activation functions** for each hidden layer. Each hidden layer in your list must have an activation function (it can also be the linear activation which is equivalent to identity function). The power of neural networks comes from non-linear activation functions that learn representations (features) from the data allowing us to learn from it.\n",
    "3. **Parameter initialization**. We will initialize the weights to have random values. This is done in practice by drawing pseudo random numbers from a Gaussian or uniform distribution. It turns out that for deeper models we have to be careful about how we scale the random numbers. This will be the topic of the exercise below. For now we will just use unit variance Gaussians.  \n",
    "\n",
    "In order to make life easier for ourselves we define a DenseLayer class that takes care of initialization and the forward pass. We can also extend it later with print and advanced initialization capabilities. For the latter we have introduced a Initializer class.\n",
    "\n",
    "Note that we use Sequence in the code below. A Sequence is an ordered list. This means the order we insert and access items are the same."
   ]
  },
  {
   "cell_type": "code",
   "metadata": {
    "id": "ij_ieRsAt7Xt",
    "ExecuteTime": {
     "end_time": "2024-11-29T15:45:43.512727Z",
     "start_time": "2024-11-29T15:45:43.502801Z"
    }
   },
   "source": [
    "class Initializer:\n",
    "\n",
    "  def init_weights(self, n_in, n_out):\n",
    "    raise NotImplementedError\n",
    "\n",
    "  def init_bias(self, n_out):\n",
    "    raise NotImplementedError"
   ],
   "outputs": [],
   "execution_count": 133
  },
  {
   "cell_type": "code",
   "metadata": {
    "id": "eb18N5phuIha",
    "ExecuteTime": {
     "end_time": "2024-11-29T15:45:43.618656Z",
     "start_time": "2024-11-29T15:45:43.604205Z"
    }
   },
   "source": [
    "import random\n",
    "\n",
    "class NormalInitializer(Initializer):\n",
    "\n",
    "  def __init__(self, mean=0, std=0.1):\n",
    "    self.mean = mean\n",
    "    self.std = std\n",
    "\n",
    "  def init_weights(self, n_in, n_out):\n",
    "    return [[Var(random.gauss(self.mean, self.std)) for _ in range(n_out)] for _ in range(n_in)]\n",
    "\n",
    "  def init_bias(self, n_out):\n",
    "    return [Var(0.0) for _ in range(n_out)]\n",
    "\n",
    "class ConstantInitializer(Initializer):\n",
    "\n",
    "  def __init__(self, weight=1.0, bias=0.0):\n",
    "    self.weight = weight\n",
    "    self.bias = bias\n",
    "\n",
    "  def init_weights(self, n_in, n_out):\n",
    "    return [[Var(self.weight) for _ in range(n_out)] for _ in range(n_in)]\n",
    "\n",
    "  def init_bias(self, n_out):\n",
    "    return [Var(self.bias) for _ in range(n_out)]"
   ],
   "outputs": [],
   "execution_count": 134
  },
  {
   "cell_type": "code",
   "metadata": {
    "id": "jOLYGnZKuM6W",
    "ExecuteTime": {
     "end_time": "2024-11-29T15:45:43.685711Z",
     "start_time": "2024-11-29T15:45:43.666188Z"
    }
   },
   "source": [
    "from typing import Sequence\n",
    "\n",
    "class DenseLayer:\n",
    "    def __init__(self, n_in: int, n_out: int, act_fn, initializer = NormalInitializer()):\n",
    "        self.weights = initializer.init_weights(n_in, n_out)\n",
    "        self.bias = initializer.init_bias(n_out)\n",
    "        self.act_fn = act_fn\n",
    "\n",
    "    def __repr__(self):\n",
    "        return 'Weights: ' + repr(self.weights) + ' Biases: ' + repr(self.bias)\n",
    "\n",
    "    def parameters(self) -> Sequence[Var]:\n",
    "      params = []\n",
    "      for r in self.weights:\n",
    "        params += r\n",
    "\n",
    "      return params + self.bias\n",
    "\n",
    "    def forward(self, single_input: Sequence[Var]) -> Sequence[Var]:\n",
    "        # self.weights is a matrix with dimension n_in x n_out. We check that the dimensionality of the input\n",
    "        # to the current layer matches the number of nodes in the current layer\n",
    "        assert len(self.weights) == len(single_input), \"weights and single_input must match in first dimension\"\n",
    "        weights = self.weights\n",
    "        out = []\n",
    "        # For some given data point single_input, we now want to calculate the resulting value in each node in the current layer\n",
    "        # We therefore loop over the (number of) nodes in the current layer:\n",
    "        for j in range(len(weights[0])):\n",
    "            # Initialize the node value depending on its corresponding parameters.\n",
    "            node = Var(0.0) # <- Insert code\n",
    "            # We now finish the linear transformation corresponding to the parameters of the currently considered node.\n",
    "            for i in range(len(single_input)):\n",
    "                node += Var(0.0)  # <- Insert code\n",
    "            node = self.act_fn(node)\n",
    "            out.append(node)\n",
    "\n",
    "        return out"
   ],
   "outputs": [],
   "execution_count": 135
  },
  {
   "cell_type": "markdown",
   "metadata": {
    "id": "jpIZPBpNI0pO"
   },
   "source": [
    "## Exercise f) Add more activation functions\n",
    "\n",
    "To have a full definition of the neural network, we must define an activation function for every layer. Several activation functions have been proposed and have different characteristics. In the Var class we have already defined the rectified linear init (relu).\n",
    "\n",
    "Implement the following activation functions in the Var class:\n",
    "\n",
    "* Identity: $$\\mathrm{identity}(x) = x$$\n",
    "* Hyperbolic tangent: $$\\tanh(x)$$\n",
    "* Sigmoid (or logistic function): $$\\mathrm{sigmoid}(x) = \\frac{1}{1.0 + \\exp(-x ) }$$  Hint: $\\mathrm{sigmoid}'(x)= \\mathrm{sigmoid}(x)(1-\\mathrm{sigmoid}(x))$.  \n",
    "\n",
    "Hint: You can seek inspiration in the relu method in the Var class."
   ]
  },
  {
   "cell_type": "markdown",
   "metadata": {
    "id": "p_8n_SKnIW2F"
   },
   "source": [
    "## Exercise g) Complete the forward pass\n",
    "\n",
    "In the code below we initialize a 1-5-1 network and pass the training set through it. *The forward method in DenseLayer is **not** complete*. It just outputs zeros right now. The method forward should perform an [affine transformation](https://en.wikipedia.org/wiki/Affine_transformation) on the input followed by an application of the activation function."
   ]
  },
  {
   "cell_type": "code",
   "metadata": {
    "id": "xDEjtePxE7Mv",
    "ExecuteTime": {
     "end_time": "2024-11-29T15:45:44.072860Z",
     "start_time": "2024-11-29T15:45:44.051494Z"
    }
   },
   "source": [
    "NN = [\n",
    "    DenseLayer(1, 5, lambda x: x.relu()),\n",
    "    DenseLayer(5, 1, lambda x: x.identity())\n",
    "]\n",
    "\n",
    "def forward(input, network):\n",
    "\n",
    "  def forward_single(x, network):\n",
    "    for layer in network:\n",
    "        x = layer.forward(x)\n",
    "    return x\n",
    "\n",
    "  output = [ forward_single(input[n], network) for n in range(len(input))]\n",
    "  return output\n",
    "\n",
    "print(forward(x_train, NN))\n"
   ],
   "outputs": [
    {
     "name": "stdout",
     "output_type": "stream",
     "text": [
      "[[Var(v=0.0000, grad=0.0000)], [Var(v=0.0000, grad=0.0000)], [Var(v=0.0000, grad=0.0000)], [Var(v=0.0000, grad=0.0000)], [Var(v=0.0000, grad=0.0000)], [Var(v=0.0000, grad=0.0000)], [Var(v=0.0000, grad=0.0000)], [Var(v=0.0000, grad=0.0000)], [Var(v=0.0000, grad=0.0000)], [Var(v=0.0000, grad=0.0000)], [Var(v=0.0000, grad=0.0000)], [Var(v=0.0000, grad=0.0000)], [Var(v=0.0000, grad=0.0000)], [Var(v=0.0000, grad=0.0000)], [Var(v=0.0000, grad=0.0000)], [Var(v=0.0000, grad=0.0000)], [Var(v=0.0000, grad=0.0000)], [Var(v=0.0000, grad=0.0000)], [Var(v=0.0000, grad=0.0000)], [Var(v=0.0000, grad=0.0000)], [Var(v=0.0000, grad=0.0000)], [Var(v=0.0000, grad=0.0000)], [Var(v=0.0000, grad=0.0000)], [Var(v=0.0000, grad=0.0000)], [Var(v=0.0000, grad=0.0000)], [Var(v=0.0000, grad=0.0000)], [Var(v=0.0000, grad=0.0000)], [Var(v=0.0000, grad=0.0000)], [Var(v=0.0000, grad=0.0000)], [Var(v=0.0000, grad=0.0000)], [Var(v=0.0000, grad=0.0000)], [Var(v=0.0000, grad=0.0000)], [Var(v=0.0000, grad=0.0000)], [Var(v=0.0000, grad=0.0000)], [Var(v=0.0000, grad=0.0000)], [Var(v=0.0000, grad=0.0000)], [Var(v=0.0000, grad=0.0000)], [Var(v=0.0000, grad=0.0000)], [Var(v=0.0000, grad=0.0000)], [Var(v=0.0000, grad=0.0000)], [Var(v=0.0000, grad=0.0000)], [Var(v=0.0000, grad=0.0000)], [Var(v=0.0000, grad=0.0000)], [Var(v=0.0000, grad=0.0000)], [Var(v=0.0000, grad=0.0000)], [Var(v=0.0000, grad=0.0000)], [Var(v=0.0000, grad=0.0000)], [Var(v=0.0000, grad=0.0000)], [Var(v=0.0000, grad=0.0000)], [Var(v=0.0000, grad=0.0000)], [Var(v=0.0000, grad=0.0000)], [Var(v=0.0000, grad=0.0000)], [Var(v=0.0000, grad=0.0000)], [Var(v=0.0000, grad=0.0000)], [Var(v=0.0000, grad=0.0000)], [Var(v=0.0000, grad=0.0000)], [Var(v=0.0000, grad=0.0000)], [Var(v=0.0000, grad=0.0000)], [Var(v=0.0000, grad=0.0000)], [Var(v=0.0000, grad=0.0000)], [Var(v=0.0000, grad=0.0000)], [Var(v=0.0000, grad=0.0000)], [Var(v=0.0000, grad=0.0000)], [Var(v=0.0000, grad=0.0000)], [Var(v=0.0000, grad=0.0000)], [Var(v=0.0000, grad=0.0000)], [Var(v=0.0000, grad=0.0000)], [Var(v=0.0000, grad=0.0000)], [Var(v=0.0000, grad=0.0000)], [Var(v=0.0000, grad=0.0000)], [Var(v=0.0000, grad=0.0000)], [Var(v=0.0000, grad=0.0000)], [Var(v=0.0000, grad=0.0000)], [Var(v=0.0000, grad=0.0000)], [Var(v=0.0000, grad=0.0000)], [Var(v=0.0000, grad=0.0000)], [Var(v=0.0000, grad=0.0000)], [Var(v=0.0000, grad=0.0000)], [Var(v=0.0000, grad=0.0000)], [Var(v=0.0000, grad=0.0000)], [Var(v=0.0000, grad=0.0000)], [Var(v=0.0000, grad=0.0000)], [Var(v=0.0000, grad=0.0000)], [Var(v=0.0000, grad=0.0000)], [Var(v=0.0000, grad=0.0000)], [Var(v=0.0000, grad=0.0000)], [Var(v=0.0000, grad=0.0000)], [Var(v=0.0000, grad=0.0000)], [Var(v=0.0000, grad=0.0000)], [Var(v=0.0000, grad=0.0000)], [Var(v=0.0000, grad=0.0000)], [Var(v=0.0000, grad=0.0000)], [Var(v=0.0000, grad=0.0000)], [Var(v=0.0000, grad=0.0000)], [Var(v=0.0000, grad=0.0000)], [Var(v=0.0000, grad=0.0000)], [Var(v=0.0000, grad=0.0000)], [Var(v=0.0000, grad=0.0000)], [Var(v=0.0000, grad=0.0000)], [Var(v=0.0000, grad=0.0000)], [Var(v=0.0000, grad=0.0000)], [Var(v=0.0000, grad=0.0000)], [Var(v=0.0000, grad=0.0000)], [Var(v=0.0000, grad=0.0000)], [Var(v=0.0000, grad=0.0000)]]\n"
     ]
    }
   ],
   "execution_count": 136
  },
  {
   "cell_type": "markdown",
   "metadata": {
    "id": "oLrGJytZFtGm"
   },
   "source": [
    "## Exercise h) Print all network parameters\n",
    "\n",
    "Make a function that prints all the parameters of the network (weights and biases) with information about in which layer the appear. In the object oriented spirit you should introduce a method in the DenseLayer class to print the parameters of a layer. Hint: You can take inspiration from the corresponding method in Var."
   ]
  },
  {
   "cell_type": "code",
   "metadata": {
    "id": "iac-VwYGFtGm",
    "ExecuteTime": {
     "end_time": "2024-11-29T15:45:44.188729Z",
     "start_time": "2024-11-29T15:45:44.177818Z"
    }
   },
   "source": [
    "# Insert code here and in the DenseLayer class\n",
    "def print_network_parameters(network):\n",
    "    for layer_index, layer in enumerate(network):\n",
    "        layer.print_parameters(layer_index)"
   ],
   "outputs": [],
   "execution_count": 137
  },
  {
   "cell_type": "markdown",
   "metadata": {
    "id": "_79HOAXrFtHK"
   },
   "source": [
    "## Visualization\n",
    "\n",
    "Now that we have defined our activation functions we can visualize them to see what they look like:"
   ]
  },
  {
   "cell_type": "code",
   "metadata": {
    "id": "1FcylHqLTl-Z",
    "ExecuteTime": {
     "end_time": "2024-11-29T15:45:44.721628Z",
     "start_time": "2024-11-29T15:45:44.428527Z"
    }
   },
   "source": [
    "x = np.linspace(-6, 6, 100)\n",
    "\n",
    "# convert from Var to ndarray\n",
    "def Var_to_nparray(x):\n",
    "  y = np.zeros((len(x),len(x[0])))\n",
    "  for i in range(len(x)):\n",
    "    for j in range(len(x[0])):\n",
    "      y[i,j] = x[i][j].v\n",
    "  return y\n",
    "\n",
    "# define 1-1 network with weight = 1 and relu activation\n",
    "NN = [ DenseLayer(1, 1, lambda x: x.relu(), initializer = ConstantInitializer(1.0)) ]\n",
    "y = Var_to_nparray(forward(nparray_to_Var(x), NN))\n",
    "\n",
    "#y = Var_to_nparray(relu(nparray_to_Var(x)))\n",
    "plt.plot(x,y)"
   ],
   "outputs": [
    {
     "data": {
      "text/plain": [
       "[<matplotlib.lines.Line2D at 0x1e37a466a50>]"
      ]
     },
     "execution_count": 138,
     "metadata": {},
     "output_type": "execute_result"
    },
    {
     "data": {
      "text/plain": [
       "<Figure size 640x480 with 1 Axes>"
      ],
      "image/png": "[encoded data removed]"
     },
     "metadata": {},
     "output_type": "display_data"
    }
   ],
   "execution_count": 138
  },
  {
   "cell_type": "code",
   "metadata": {
    "id": "oOL2UolJFtHL",
    "ExecuteTime": {
     "end_time": "2024-11-29T15:45:45.113031Z",
     "start_time": "2024-11-29T15:45:44.727279Z"
    }
   },
   "source": [
    "# Testing all activation layers\n",
    "\n",
    "x = np.linspace(-6, 6, 100)\n",
    "units = {\n",
    "    \"identity\": lambda x: x.identity(),\n",
    "    \"sigmoid\": lambda x: x.sigmoid(),\n",
    "    \"relu\": lambda x: x.relu(),\n",
    "    \"tanh\": lambda x: x.tanh()\n",
    "}\n",
    "\n",
    "plt.figure(figsize=(5, 5))\n",
    "[plt.plot(x, Var_to_nparray(forward(nparray_to_Var(x), [DenseLayer(1, 1, unit, initializer = ConstantInitializer(1.0))]) ), label=unit_name, lw=2) for unit_name, unit in units.items()] # unit(nparray_to_Var(x))), label=unit_name, lw=2) for unit_name, unit in units.items()]\n",
    "plt.legend(loc=2, fontsize=16)\n",
    "plt.title('Our activation functions', fontsize=20)\n",
    "plt.ylim([-2, 5])\n",
    "plt.xlim([-6, 6])\n",
    "plt.show()"
   ],
   "outputs": [
    {
     "data": {
      "text/plain": [
       "<Figure size 500x500 with 1 Axes>"
      ],
      "image/png": "[encoded data removed]"
     },
     "metadata": {},
     "output_type": "display_data"
    }
   ],
   "execution_count": 139
  },
  {
   "cell_type": "markdown",
   "metadata": {
    "id": "b-jdEl-7FtGs"
   },
   "source": [
    "# Advanced initialization schemes\n",
    "\n",
    "If we are not careful with initialization, the signals we propagate forward ($a^{(l)}$, $l=1,\\ldots,L$) and backward ($\\delta^l$, $l=L,L-1,\\ldots,1$) can blow up or shrink to zero. A statistical analysis of the variance of the signals for different activation functions can be found in these two papers: [Glorot initialization](http://proceedings.mlr.press/v9/glorot10a/glorot10a.pdf) and [He initialization](https://arxiv.org/pdf/1502.01852v1.pdf).\n",
    "\n",
    "The result of the analyses are proposals for how to make the initialization such that the variance of the signals (forward and backward) are kept approxmimatly constant when propagating from layer to layer. The exact expressions depend upon the non-linear activation function used. In Glorot initialization, the aim is to keep both the forward and backward variances constant whereas He only aims at keeping the variance in the forward pass constant.\n",
    "\n",
    "We define $n_{in}$ and $n_{out}$ as the number of input units and output units of a particular layer.\n",
    "\n",
    "The Glorot initialization has the form:\n",
    "\n",
    "$$w_{ij} \\sim N \\bigg( 0, \\, \\frac{2 \\alpha }{n_{in} + n_{out}} \\bigg) \\ . $$\n",
    "\n",
    "where $N(\\mu,\\sigma^2)$ is a Gaussian distribution with mean $\\mu$ and variance $\\sigma^2$ and $\\alpha$ is a parameter that depends upon the activation function used. For $\\tanh$, $\\alpha=1$ and for Rectified Linear Unit (ReLU) activations, $\\alpha=2$. (It is also possible to use a uniform distribution for initialization, see [this blog post](https://mmuratarat.github.io/2019-02-25/xavier-glorot-he-weight-init).)\n",
    "\n",
    "The He initialization is very similar\n",
    "\n",
    "$$w_{ij} \\sim N \\bigg( 0, \\, \\frac{\\alpha}{n_{in}} \\bigg) \\ . $$"
   ]
  },
  {
   "cell_type": "markdown",
   "metadata": {
    "id": "mqeyab9qFtGs"
   },
   "source": [
    "## Exercise i) Glorot and He initialization\n",
    "\n",
    "Using the Initializer class, implement functions that implement Glorot and He\n",
    "\n",
    "Explain briefly how you would test numerically that these initializations have the sought after property. Hint: See plots in Glorot paper.\n",
    "\n",
    "Comment: If you want to be more advanced then try to make a universal initializer taking both the activation function and type (Glorot or He) as argument."
   ]
  },
  {
   "cell_type": "code",
   "metadata": {
    "id": "Qyk01CgaFtGt",
    "ExecuteTime": {
     "end_time": "2024-11-29T15:45:45.131171Z",
     "start_time": "2024-11-29T15:45:45.119613Z"
    }
   },
   "source": [
    "## Glorot\n",
    "def DenseLayer_Glorot_tanh(n_in: int, n_out: int):\n",
    "  std = (2.0 / (n_in + n_out)) ** 0.5 # <- we replaced it  with proper initialization\n",
    "  return DenseLayer(n_in, n_out, lambda x: x.tanh(), initializer = NormalInitializer(std))\n",
    "\n",
    "## He\n",
    "def DenseLayer_He_relu(n_in: int, n_out: int):\n",
    "  std = (2.0 / n_in) ** 0.5  # He initialization with alpha=2 (ReLU)\n",
    "  return DenseLayer(n_in, n_out, lambda x: x.relu(), initializer = NormalInitializer(std))"
   ],
   "outputs": [],
   "execution_count": 140
  },
  {
   "cell_type": "markdown",
   "metadata": {
    "id": "-XyXBD37FtHk"
   },
   "source": [
    "## Exercise j) Forward pass unit test\n",
    "\n",
    "Write a bit of code to make a unit test that the forward pass works. This can be done by defining a simple network with for example all weights equal to one (using the ConstantInitializer method) and identity activation functions.\n",
    "\n",
    "Hints: Use the [assert](https://www.w3schools.com/python/ref_keyword_assert.asp), the nparray_to_Var and the Var_to_nparray commands."
   ]
  },
  {
   "cell_type": "code",
   "metadata": {
    "id": "k0miqRUAFtHl",
    "ExecuteTime": {
     "end_time": "2024-11-29T15:45:45.147501Z",
     "start_time": "2024-11-29T15:45:45.135301Z"
    }
   },
   "source": [
    "def test_forward_pass():\n",
    "    input = [Var(1.0), Var(1.0)]  # Example input\n",
    "    network = [DenseLayer(2, 2, lambda x: x.identity(), initializer=ConstantInitializer())]\n",
    "    output = forward([input], network)\n",
    "    expected_output = [[Var(2.0), Var(2.0)]]  # Example based on constant weights\n",
    "    assert output == expected_output, \"Forward pass test failed\"\n"
   ],
   "outputs": [],
   "execution_count": 141
  },
  {
   "cell_type": "markdown",
   "metadata": {
    "id": "faCxhfFnFtHp"
   },
   "source": [
    "# Loss functions\n",
    "\n",
    "We are only missing a loss function to we need to define a loss function and its derivative with respect to the output of the neural network $y$"
   ]
  },
  {
   "cell_type": "code",
   "metadata": {
    "id": "I2eDYKvAFtHq",
    "ExecuteTime": {
     "end_time": "2024-11-29T15:45:45.318548Z",
     "start_time": "2024-11-29T15:45:45.299259Z"
    }
   },
   "source": [
    "def squared_loss(t, y):\n",
    "\n",
    "  # add check that sizes agree\n",
    "\n",
    "  def squared_loss_single(t, y):\n",
    "    Loss = Var(0.0)\n",
    "    for i in range(len(t)): # sum over outputs\n",
    "      Loss += (t[i]-y[i]) ** 2\n",
    "    return Loss\n",
    "\n",
    "  Loss = Var(0.0)\n",
    "  for n in range(len(t)): # sum over training data\n",
    "    Loss += squared_loss_single(t[n],y[n])\n",
    "  return Loss"
   ],
   "outputs": [],
   "execution_count": 142
  },
  {
   "cell_type": "markdown",
   "metadata": {
    "id": "SrwSJ2UWFtHu"
   },
   "source": [
    "## Exercise k) Implement cross entropy loss\n",
    "\n",
    "Insert code below to implement cross-entropy loss for general dimensionality of $t$. Use a logits formulation:\n",
    "$$\n",
    "\\rm{Loss} = - \\sum_i t_i \\, log \\, p_i\n",
    "$$\n",
    "with $p$ given by the the softmax function in terms of the logits $h$:\n",
    "$$\n",
    "p_i = \\frac{\\exp(h_i)}{\\sum_{i'} \\exp(h_{i'})} .\n",
    "$$\n",
    "Inserting $p$ in the expression for the loss gives\n",
    "$$\n",
    "\\rm{Loss} = - \\sum_i t_i h_i + \\rm{LogSumExp}(h) \\ ,\n",
    "$$\n",
    "where\n",
    "$$\n",
    "\\rm{LogSumExp}(h) = \\log \\sum_i \\exp h_i \\ .\n",
    "$$\n",
    "This is true for $t$ being a one-hot vector.\n",
    "\n",
    "Call the function to convince yourself it works.\n",
    "\n",
    "In practice you want to implement a [numerically stable](https://leimao.github.io/blog/LogSumExp/) version of LogSumExp. But we will not bother about that here.\n",
    "\n",
    "Help: You can add these methods in the Var class:\n",
    "\n",
    "    def exp(self):\n",
    "        return Var(exp(self.v), lambda: [(self, exp(self.v))])\n",
    "    \n",
    "    def log(self):\n",
    "        return Var(log(self.v), lambda: [(self, self.v ** -1)])"
   ]
  },
  {
   "cell_type": "code",
   "metadata": {
    "id": "6nMuxyfzFtHv",
    "ExecuteTime": {
     "end_time": "2024-11-29T15:45:45.626930Z",
     "start_time": "2024-11-29T15:45:45.608983Z"
    }
   },
   "source": [
    "def cross_entropy_loss(t, h):\n",
    "    logsumexp = Var(0.0)\n",
    "    for i in range(len(h)):\n",
    "        logsumexp += h[i].exp()\n",
    "    logsumexp = logsumexp.log()\n",
    "    \n",
    "    loss = Var(0.0)\n",
    "    for i in range(len(t)):\n",
    "        loss += -t[i] * h[i] + logsumexp\n",
    "    return loss\n"
   ],
   "outputs": [],
   "execution_count": 143
  },
  {
   "cell_type": "markdown",
   "metadata": {
    "id": "8fAF5ew4FtHy"
   },
   "source": [
    "# Backward pass\n",
    "\n",
    "Now the magic happens! We get the calculation of the gradients for free. Just do:"
   ]
  },
  {
   "cell_type": "code",
   "metadata": {
    "id": "iHyfPPI9Qqwu",
    "ExecuteTime": {
     "end_time": "2024-11-29T15:45:47.039430Z",
     "start_time": "2024-11-29T15:45:46.976298Z"
    }
   },
   "source": [
    "NN = [\n",
    "    DenseLayer(1, 5, lambda x: x.relu()),\n",
    "    DenseLayer(5, 1, lambda x: x.identity())\n",
    "]\n",
    "\n",
    "output = forward(x_train, NN)\n",
    "\n",
    "Loss = squared_loss(y_train,output)\n",
    "Loss.backward()"
   ],
   "outputs": [],
   "execution_count": 144
  },
  {
   "cell_type": "markdown",
   "metadata": {
    "id": "49biIAYKQ1oG"
   },
   "source": [
    "and the gradients will be calculated:"
   ]
  },
  {
   "cell_type": "code",
   "metadata": {
    "id": "_rGt1bq_Q7uk",
    "ExecuteTime": {
     "end_time": "2024-11-29T15:45:47.253987Z",
     "start_time": "2024-11-29T15:45:47.237748Z"
    }
   },
   "source": [
    "[print('Layer', i, '\\n', NN[i]) for i in range(len(NN))]"
   ],
   "outputs": [
    {
     "name": "stdout",
     "output_type": "stream",
     "text": [
      "Layer 0 \n",
      " Weights: [[Var(v=0.0937, grad=0.0000), Var(v=-0.1409, grad=0.0000), Var(v=-0.0848, grad=0.0000), Var(v=-0.1460, grad=0.0000), Var(v=0.0230, grad=0.0000)]] Biases: [Var(v=0.0000, grad=0.0000), Var(v=0.0000, grad=0.0000), Var(v=0.0000, grad=0.0000), Var(v=0.0000, grad=0.0000), Var(v=0.0000, grad=0.0000)]\n",
      "Layer 1 \n",
      " Weights: [[Var(v=-0.0229, grad=0.0000)], [Var(v=0.0650, grad=0.0000)], [Var(v=-0.0070, grad=0.0000)], [Var(v=0.0452, grad=0.0000)], [Var(v=0.0731, grad=0.0000)]] Biases: [Var(v=0.0000, grad=0.0000)]\n"
     ]
    },
    {
     "data": {
      "text/plain": [
       "[None, None]"
      ]
     },
     "execution_count": 145,
     "metadata": {},
     "output_type": "execute_result"
    }
   ],
   "execution_count": 145
  },
  {
   "cell_type": "markdown",
   "metadata": {
    "id": "D7d7qK0uFtH9"
   },
   "source": [
    "# Backward pass unit test\n",
    "\n",
    "Above we used finite differences to test that Nanograd is actually doing what it is supposed to do. We can in principle try the same for the neural network. But we will trust that the test above is enough."
   ]
  },
  {
   "cell_type": "markdown",
   "metadata": {
    "id": "WgBi8GOSFtIN"
   },
   "source": [
    "# Training and validation\n",
    "\n",
    "We are ready to train some neural networks!\n",
    "\n",
    "We initialize again:"
   ]
  },
  {
   "cell_type": "code",
   "metadata": {
    "id": "01ePmzBzRtdh",
    "ExecuteTime": {
     "end_time": "2024-11-29T15:45:49.131763Z",
     "start_time": "2024-11-29T15:45:47.455154Z"
    }
   },
   "source": [
    "NN = [\n",
    "    DenseLayer(1, 15, lambda x: x.relu()),\n",
    "    DenseLayer(15, 50, lambda x: x.relu()),\n",
    "    DenseLayer(50, 1, lambda x: x.identity())\n",
    "]\n",
    "\n",
    "output = forward(x_train, NN)\n",
    "\n",
    "Loss = squared_loss(y_train,output)\n",
    "Loss.backward()"
   ],
   "outputs": [],
   "execution_count": 146
  },
  {
   "cell_type": "markdown",
   "metadata": {
    "id": "10iRPiQ1ISHw"
   },
   "source": [
    "and make an update:\n",
    "\n",
    "We introduce a help function parameters to have a handle in all parameters in the network."
   ]
  },
  {
   "cell_type": "code",
   "metadata": {
    "id": "dhAI7eyeznia",
    "ExecuteTime": {
     "end_time": "2024-11-29T15:45:49.174268Z",
     "start_time": "2024-11-29T15:45:49.137293Z"
    }
   },
   "source": [
    "print('Network before update:')\n",
    "[print('Layer', i, '\\n', NN[i]) for i in range(len(NN))]\n",
    "\n",
    "def parameters(network):\n",
    "  params = []\n",
    "  for layer in range(len(network)):\n",
    "    params += network[layer].parameters()\n",
    "  return params\n",
    "\n",
    "def update_parameters(params, learning_rate=0.01):\n",
    "  for p in params:\n",
    "    p.v -= learning_rate*p.grad\n",
    "\n",
    "def zero_gradients(params):\n",
    "  for p in params:\n",
    "    p.grad = 0.0\n",
    "\n",
    "update_parameters(parameters(NN))\n",
    "\n",
    "print('\\nNetwork after update:')\n",
    "[print('Layer', i, '\\n', NN[i]) for i in range(len(NN))]\n",
    "\n",
    "zero_gradients(parameters(NN))\n",
    "\n",
    "print('\\nNetwork after zeroing gradients:')\n",
    "[print('Layer', i, '\\n', NN[i]) for i in range(len(NN))]"
   ],
   "outputs": [
    {
     "name": "stdout",
     "output_type": "stream",
     "text": [
      "Network before update:\n",
      "Layer 0 \n",
      " Weights: [[Var(v=0.1898, grad=0.0000), Var(v=0.0812, grad=0.0000), Var(v=0.0083, grad=0.0000), Var(v=0.0032, grad=0.0000), Var(v=-0.1654, grad=0.0000), Var(v=0.0194, grad=0.0000), Var(v=-0.0218, grad=0.0000), Var(v=-0.2620, grad=0.0000), Var(v=-0.0352, grad=0.0000), Var(v=0.0513, grad=0.0000), Var(v=-0.1256, grad=0.0000), Var(v=0.0273, grad=0.0000), Var(v=-0.0227, grad=0.0000), Var(v=-0.0496, grad=0.0000), Var(v=0.1561, grad=0.0000)]] Biases: [Var(v=0.0000, grad=0.0000), Var(v=0.0000, grad=0.0000), Var(v=0.0000, grad=0.0000), Var(v=0.0000, grad=0.0000), Var(v=0.0000, grad=0.0000), Var(v=0.0000, grad=0.0000), Var(v=0.0000, grad=0.0000), Var(v=0.0000, grad=0.0000), Var(v=0.0000, grad=0.0000), Var(v=0.0000, grad=0.0000), Var(v=0.0000, grad=0.0000), Var(v=0.0000, grad=0.0000), Var(v=0.0000, grad=0.0000), Var(v=0.0000, grad=0.0000), Var(v=0.0000, grad=0.0000)]\n",
      "Layer 1 \n",
      " Weights: [[Var(v=0.0368, grad=0.0000), Var(v=0.0567, grad=0.0000), Var(v=0.0216, grad=0.0000), Var(v=-0.0879, grad=0.0000), Var(v=0.0667, grad=0.0000), Var(v=-0.1277, grad=0.0000), Var(v=0.1136, grad=0.0000), Var(v=0.0064, grad=0.0000), Var(v=0.0671, grad=0.0000), Var(v=-0.0424, grad=0.0000), Var(v=0.1072, grad=0.0000), Var(v=-0.1283, grad=0.0000), Var(v=0.1097, grad=0.0000), Var(v=-0.0407, grad=0.0000), Var(v=-0.0022, grad=0.0000), Var(v=0.0171, grad=0.0000), Var(v=-0.1214, grad=0.0000), Var(v=-0.2462, grad=0.0000), Var(v=0.0421, grad=0.0000), Var(v=-0.1115, grad=0.0000), Var(v=0.0789, grad=0.0000), Var(v=0.0387, grad=0.0000), Var(v=0.0129, grad=0.0000), Var(v=0.1425, grad=0.0000), Var(v=0.0057, grad=0.0000), Var(v=-0.0091, grad=0.0000), Var(v=-0.1452, grad=0.0000), Var(v=0.0425, grad=0.0000), Var(v=-0.0965, grad=0.0000), Var(v=-0.0345, grad=0.0000), Var(v=0.0555, grad=0.0000), Var(v=0.1054, grad=0.0000), Var(v=-0.1086, grad=0.0000), Var(v=0.0320, grad=0.0000), Var(v=0.1721, grad=0.0000), Var(v=0.0911, grad=0.0000), Var(v=0.0129, grad=0.0000), Var(v=-0.1353, grad=0.0000), Var(v=-0.1581, grad=0.0000), Var(v=0.1118, grad=0.0000), Var(v=-0.0079, grad=0.0000), Var(v=-0.0181, grad=0.0000), Var(v=-0.0527, grad=0.0000), Var(v=0.0546, grad=0.0000), Var(v=0.0311, grad=0.0000), Var(v=-0.0973, grad=0.0000), Var(v=-0.0838, grad=0.0000), Var(v=0.0053, grad=0.0000), Var(v=-0.0478, grad=0.0000), Var(v=-0.1417, grad=0.0000)], [Var(v=0.1271, grad=0.0000), Var(v=0.2597, grad=0.0000), Var(v=0.0319, grad=0.0000), Var(v=-0.1088, grad=0.0000), Var(v=-0.0252, grad=0.0000), Var(v=0.1259, grad=0.0000), Var(v=-0.1103, grad=0.0000), Var(v=0.0100, grad=0.0000), Var(v=0.1434, grad=0.0000), Var(v=-0.0969, grad=0.0000), Var(v=0.2013, grad=0.0000), Var(v=0.0378, grad=0.0000), Var(v=0.0875, grad=0.0000), Var(v=-0.0011, grad=0.0000), Var(v=-0.0597, grad=0.0000), Var(v=-0.0989, grad=0.0000), Var(v=0.0952, grad=0.0000), Var(v=0.1783, grad=0.0000), Var(v=-0.0655, grad=0.0000), Var(v=-0.0815, grad=0.0000), Var(v=0.0780, grad=0.0000), Var(v=-0.0387, grad=0.0000), Var(v=0.0224, grad=0.0000), Var(v=-0.1627, grad=0.0000), Var(v=-0.1653, grad=0.0000), Var(v=0.0482, grad=0.0000), Var(v=0.0109, grad=0.0000), Var(v=0.0169, grad=0.0000), Var(v=-0.1394, grad=0.0000), Var(v=0.1271, grad=0.0000), Var(v=0.1325, grad=0.0000), Var(v=0.0338, grad=0.0000), Var(v=0.1121, grad=0.0000), Var(v=0.0345, grad=0.0000), Var(v=-0.1302, grad=0.0000), Var(v=-0.0219, grad=0.0000), Var(v=-0.1620, grad=0.0000), Var(v=0.0374, grad=0.0000), Var(v=0.0761, grad=0.0000), Var(v=-0.1544, grad=0.0000), Var(v=0.0479, grad=0.0000), Var(v=-0.1538, grad=0.0000), Var(v=-0.0567, grad=0.0000), Var(v=-0.1769, grad=0.0000), Var(v=0.0841, grad=0.0000), Var(v=0.0654, grad=0.0000), Var(v=0.0136, grad=0.0000), Var(v=0.1320, grad=0.0000), Var(v=-0.0923, grad=0.0000), Var(v=-0.0596, grad=0.0000)], [Var(v=-0.0769, grad=0.0000), Var(v=0.1366, grad=0.0000), Var(v=-0.0974, grad=0.0000), Var(v=-0.0082, grad=0.0000), Var(v=0.1831, grad=0.0000), Var(v=0.1802, grad=0.0000), Var(v=0.0434, grad=0.0000), Var(v=0.0447, grad=0.0000), Var(v=0.0315, grad=0.0000), Var(v=-0.1239, grad=0.0000), Var(v=-0.1124, grad=0.0000), Var(v=0.1324, grad=0.0000), Var(v=0.1144, grad=0.0000), Var(v=0.0929, grad=0.0000), Var(v=-0.0295, grad=0.0000), Var(v=0.1332, grad=0.0000), Var(v=-0.0196, grad=0.0000), Var(v=-0.0426, grad=0.0000), Var(v=-0.0150, grad=0.0000), Var(v=-0.0419, grad=0.0000), Var(v=0.0327, grad=0.0000), Var(v=-0.0425, grad=0.0000), Var(v=-0.0200, grad=0.0000), Var(v=0.1804, grad=0.0000), Var(v=0.0839, grad=0.0000), Var(v=-0.0342, grad=0.0000), Var(v=0.0669, grad=0.0000), Var(v=-0.0550, grad=0.0000), Var(v=0.0435, grad=0.0000), Var(v=0.1999, grad=0.0000), Var(v=0.0125, grad=0.0000), Var(v=-0.0775, grad=0.0000), Var(v=0.0628, grad=0.0000), Var(v=0.1308, grad=0.0000), Var(v=0.0283, grad=0.0000), Var(v=0.0046, grad=0.0000), Var(v=-0.0730, grad=0.0000), Var(v=0.0717, grad=0.0000), Var(v=0.0140, grad=0.0000), Var(v=-0.1057, grad=0.0000), Var(v=-0.1449, grad=0.0000), Var(v=0.0393, grad=0.0000), Var(v=-0.0190, grad=0.0000), Var(v=-0.0865, grad=0.0000), Var(v=-0.0123, grad=0.0000), Var(v=-0.0080, grad=0.0000), Var(v=0.0590, grad=0.0000), Var(v=0.2426, grad=0.0000), Var(v=-0.1389, grad=0.0000), Var(v=0.0087, grad=0.0000)], [Var(v=-0.0842, grad=0.0000), Var(v=-0.0165, grad=0.0000), Var(v=-0.0417, grad=0.0000), Var(v=-0.0677, grad=0.0000), Var(v=0.0667, grad=0.0000), Var(v=-0.0155, grad=0.0000), Var(v=0.0300, grad=0.0000), Var(v=-0.1729, grad=0.0000), Var(v=0.2634, grad=0.0000), Var(v=0.2327, grad=0.0000), Var(v=0.0105, grad=0.0000), Var(v=-0.0616, grad=0.0000), Var(v=0.2373, grad=0.0000), Var(v=0.1488, grad=0.0000), Var(v=-0.1125, grad=0.0000), Var(v=-0.0271, grad=0.0000), Var(v=-0.1176, grad=0.0000), Var(v=-0.0703, grad=0.0000), Var(v=-0.0402, grad=0.0000), Var(v=0.0191, grad=0.0000), Var(v=-0.0203, grad=0.0000), Var(v=-0.0039, grad=0.0000), Var(v=0.0132, grad=0.0000), Var(v=-0.0129, grad=0.0000), Var(v=0.1619, grad=0.0000), Var(v=0.0134, grad=0.0000), Var(v=-0.0113, grad=0.0000), Var(v=0.1030, grad=0.0000), Var(v=-0.0627, grad=0.0000), Var(v=0.0455, grad=0.0000), Var(v=-0.1887, grad=0.0000), Var(v=-0.0257, grad=0.0000), Var(v=0.1917, grad=0.0000), Var(v=-0.0067, grad=0.0000), Var(v=-0.0814, grad=0.0000), Var(v=-0.1739, grad=0.0000), Var(v=-0.0342, grad=0.0000), Var(v=0.1125, grad=0.0000), Var(v=0.0943, grad=0.0000), Var(v=0.0176, grad=0.0000), Var(v=0.2041, grad=0.0000), Var(v=0.0098, grad=0.0000), Var(v=-0.0089, grad=0.0000), Var(v=-0.0386, grad=0.0000), Var(v=-0.1148, grad=0.0000), Var(v=0.1388, grad=0.0000), Var(v=-0.0509, grad=0.0000), Var(v=0.1063, grad=0.0000), Var(v=0.0496, grad=0.0000), Var(v=-0.0524, grad=0.0000)], [Var(v=0.1533, grad=0.0000), Var(v=0.0442, grad=0.0000), Var(v=0.0004, grad=0.0000), Var(v=-0.0469, grad=0.0000), Var(v=-0.0380, grad=0.0000), Var(v=0.0320, grad=0.0000), Var(v=0.0619, grad=0.0000), Var(v=0.1147, grad=0.0000), Var(v=0.1854, grad=0.0000), Var(v=0.0196, grad=0.0000), Var(v=0.1435, grad=0.0000), Var(v=-0.2069, grad=0.0000), Var(v=0.0393, grad=0.0000), Var(v=0.1481, grad=0.0000), Var(v=-0.0968, grad=0.0000), Var(v=-0.0922, grad=0.0000), Var(v=0.0082, grad=0.0000), Var(v=-0.1918, grad=0.0000), Var(v=-0.0744, grad=0.0000), Var(v=0.0040, grad=0.0000), Var(v=-0.2199, grad=0.0000), Var(v=-0.1444, grad=0.0000), Var(v=0.1674, grad=0.0000), Var(v=0.0012, grad=0.0000), Var(v=-0.0012, grad=0.0000), Var(v=0.0702, grad=0.0000), Var(v=-0.0291, grad=0.0000), Var(v=-0.1083, grad=0.0000), Var(v=-0.0430, grad=0.0000), Var(v=0.0468, grad=0.0000), Var(v=0.0058, grad=0.0000), Var(v=0.2843, grad=0.0000), Var(v=-0.0700, grad=0.0000), Var(v=-0.0592, grad=0.0000), Var(v=0.2117, grad=0.0000), Var(v=-0.0113, grad=0.0000), Var(v=-0.0693, grad=0.0000), Var(v=0.1605, grad=0.0000), Var(v=-0.0022, grad=0.0000), Var(v=-0.1425, grad=0.0000), Var(v=0.0199, grad=0.0000), Var(v=0.0671, grad=0.0000), Var(v=-0.0686, grad=0.0000), Var(v=-0.1486, grad=0.0000), Var(v=-0.0015, grad=0.0000), Var(v=-0.0479, grad=0.0000), Var(v=-0.0130, grad=0.0000), Var(v=-0.0080, grad=0.0000), Var(v=-0.1173, grad=0.0000), Var(v=-0.0626, grad=0.0000)], [Var(v=-0.1617, grad=0.0000), Var(v=0.0983, grad=0.0000), Var(v=0.0426, grad=0.0000), Var(v=0.1097, grad=0.0000), Var(v=-0.0227, grad=0.0000), Var(v=-0.1658, grad=0.0000), Var(v=-0.0516, grad=0.0000), Var(v=0.0299, grad=0.0000), Var(v=0.0374, grad=0.0000), Var(v=-0.0257, grad=0.0000), Var(v=0.1305, grad=0.0000), Var(v=-0.0718, grad=0.0000), Var(v=-0.1268, grad=0.0000), Var(v=-0.0330, grad=0.0000), Var(v=-0.0083, grad=0.0000), Var(v=-0.0419, grad=0.0000), Var(v=0.0238, grad=0.0000), Var(v=-0.1436, grad=0.0000), Var(v=0.0126, grad=0.0000), Var(v=-0.0219, grad=0.0000), Var(v=-0.1477, grad=0.0000), Var(v=-0.0488, grad=0.0000), Var(v=0.0143, grad=0.0000), Var(v=0.1674, grad=0.0000), Var(v=-0.0272, grad=0.0000), Var(v=0.0303, grad=0.0000), Var(v=0.1898, grad=0.0000), Var(v=-0.1061, grad=0.0000), Var(v=0.1760, grad=0.0000), Var(v=-0.1642, grad=0.0000), Var(v=-0.1476, grad=0.0000), Var(v=-0.1469, grad=0.0000), Var(v=0.0240, grad=0.0000), Var(v=-0.0338, grad=0.0000), Var(v=0.1002, grad=0.0000), Var(v=0.0017, grad=0.0000), Var(v=-0.0229, grad=0.0000), Var(v=0.0639, grad=0.0000), Var(v=-0.0103, grad=0.0000), Var(v=-0.0177, grad=0.0000), Var(v=-0.1614, grad=0.0000), Var(v=0.0242, grad=0.0000), Var(v=0.1577, grad=0.0000), Var(v=-0.1460, grad=0.0000), Var(v=-0.2093, grad=0.0000), Var(v=-0.0583, grad=0.0000), Var(v=0.0142, grad=0.0000), Var(v=-0.0631, grad=0.0000), Var(v=-0.0028, grad=0.0000), Var(v=-0.2064, grad=0.0000)], [Var(v=-0.0231, grad=0.0000), Var(v=0.0505, grad=0.0000), Var(v=-0.1773, grad=0.0000), Var(v=0.0212, grad=0.0000), Var(v=-0.0138, grad=0.0000), Var(v=0.0585, grad=0.0000), Var(v=-0.0542, grad=0.0000), Var(v=0.1137, grad=0.0000), Var(v=0.0226, grad=0.0000), Var(v=0.2275, grad=0.0000), Var(v=-0.0275, grad=0.0000), Var(v=-0.0802, grad=0.0000), Var(v=-0.0127, grad=0.0000), Var(v=0.1451, grad=0.0000), Var(v=0.0372, grad=0.0000), Var(v=-0.0066, grad=0.0000), Var(v=0.1452, grad=0.0000), Var(v=-0.0605, grad=0.0000), Var(v=-0.0464, grad=0.0000), Var(v=-0.0663, grad=0.0000), Var(v=0.1218, grad=0.0000), Var(v=-0.1374, grad=0.0000), Var(v=-0.0195, grad=0.0000), Var(v=-0.1064, grad=0.0000), Var(v=-0.0384, grad=0.0000), Var(v=-0.0818, grad=0.0000), Var(v=0.1439, grad=0.0000), Var(v=-0.0112, grad=0.0000), Var(v=0.0132, grad=0.0000), Var(v=0.0168, grad=0.0000), Var(v=0.0893, grad=0.0000), Var(v=0.0379, grad=0.0000), Var(v=-0.0619, grad=0.0000), Var(v=0.1254, grad=0.0000), Var(v=-0.0851, grad=0.0000), Var(v=0.2229, grad=0.0000), Var(v=-0.3044, grad=0.0000), Var(v=-0.1392, grad=0.0000), Var(v=0.0825, grad=0.0000), Var(v=0.0480, grad=0.0000), Var(v=-0.2229, grad=0.0000), Var(v=0.0426, grad=0.0000), Var(v=0.0047, grad=0.0000), Var(v=-0.0165, grad=0.0000), Var(v=0.1425, grad=0.0000), Var(v=-0.1306, grad=0.0000), Var(v=0.0922, grad=0.0000), Var(v=0.0623, grad=0.0000), Var(v=-0.1483, grad=0.0000), Var(v=0.0966, grad=0.0000)], [Var(v=0.0419, grad=0.0000), Var(v=0.0053, grad=0.0000), Var(v=0.0700, grad=0.0000), Var(v=-0.0058, grad=0.0000), Var(v=0.2298, grad=0.0000), Var(v=-0.1069, grad=0.0000), Var(v=-0.0154, grad=0.0000), Var(v=-0.0269, grad=0.0000), Var(v=-0.0808, grad=0.0000), Var(v=-0.0815, grad=0.0000), Var(v=-0.0924, grad=0.0000), Var(v=0.1313, grad=0.0000), Var(v=0.1573, grad=0.0000), Var(v=0.2208, grad=0.0000), Var(v=-0.0263, grad=0.0000), Var(v=0.1180, grad=0.0000), Var(v=-0.0143, grad=0.0000), Var(v=0.0580, grad=0.0000), Var(v=0.0470, grad=0.0000), Var(v=0.1480, grad=0.0000), Var(v=0.0227, grad=0.0000), Var(v=0.0679, grad=0.0000), Var(v=0.1208, grad=0.0000), Var(v=0.0925, grad=0.0000), Var(v=-0.0142, grad=0.0000), Var(v=0.2101, grad=0.0000), Var(v=0.0298, grad=0.0000), Var(v=-0.0325, grad=0.0000), Var(v=-0.0620, grad=0.0000), Var(v=0.0794, grad=0.0000), Var(v=0.0689, grad=0.0000), Var(v=0.1639, grad=0.0000), Var(v=0.0900, grad=0.0000), Var(v=-0.0308, grad=0.0000), Var(v=0.0877, grad=0.0000), Var(v=0.1583, grad=0.0000), Var(v=-0.0767, grad=0.0000), Var(v=0.1023, grad=0.0000), Var(v=-0.1835, grad=0.0000), Var(v=-0.0225, grad=0.0000), Var(v=-0.0550, grad=0.0000), Var(v=-0.1204, grad=0.0000), Var(v=-0.0488, grad=0.0000), Var(v=0.0426, grad=0.0000), Var(v=0.1315, grad=0.0000), Var(v=-0.0568, grad=0.0000), Var(v=0.0146, grad=0.0000), Var(v=0.0639, grad=0.0000), Var(v=0.0460, grad=0.0000), Var(v=-0.0454, grad=0.0000)], [Var(v=-0.0386, grad=0.0000), Var(v=0.0851, grad=0.0000), Var(v=-0.0312, grad=0.0000), Var(v=-0.0342, grad=0.0000), Var(v=-0.0150, grad=0.0000), Var(v=0.0111, grad=0.0000), Var(v=0.1009, grad=0.0000), Var(v=0.0678, grad=0.0000), Var(v=-0.1238, grad=0.0000), Var(v=0.0095, grad=0.0000), Var(v=0.3586, grad=0.0000), Var(v=0.1263, grad=0.0000), Var(v=-0.1658, grad=0.0000), Var(v=-0.0499, grad=0.0000), Var(v=0.1139, grad=0.0000), Var(v=-0.0194, grad=0.0000), Var(v=0.0993, grad=0.0000), Var(v=-0.0153, grad=0.0000), Var(v=0.0643, grad=0.0000), Var(v=-0.0012, grad=0.0000), Var(v=0.1000, grad=0.0000), Var(v=-0.0531, grad=0.0000), Var(v=-0.0448, grad=0.0000), Var(v=0.0248, grad=0.0000), Var(v=0.1902, grad=0.0000), Var(v=0.0605, grad=0.0000), Var(v=0.1561, grad=0.0000), Var(v=-0.0383, grad=0.0000), Var(v=-0.0217, grad=0.0000), Var(v=-0.1123, grad=0.0000), Var(v=0.1054, grad=0.0000), Var(v=0.0119, grad=0.0000), Var(v=0.0226, grad=0.0000), Var(v=0.0867, grad=0.0000), Var(v=0.0111, grad=0.0000), Var(v=0.1525, grad=0.0000), Var(v=0.0404, grad=0.0000), Var(v=-0.0177, grad=0.0000), Var(v=0.0282, grad=0.0000), Var(v=0.1021, grad=0.0000), Var(v=-0.0479, grad=0.0000), Var(v=0.0037, grad=0.0000), Var(v=0.1062, grad=0.0000), Var(v=-0.1376, grad=0.0000), Var(v=-0.0957, grad=0.0000), Var(v=0.0807, grad=0.0000), Var(v=-0.0401, grad=0.0000), Var(v=-0.1197, grad=0.0000), Var(v=0.0085, grad=0.0000), Var(v=0.0493, grad=0.0000)], [Var(v=0.1550, grad=0.0000), Var(v=0.2001, grad=0.0000), Var(v=0.0188, grad=0.0000), Var(v=-0.0437, grad=0.0000), Var(v=0.1230, grad=0.0000), Var(v=-0.0522, grad=0.0000), Var(v=0.0265, grad=0.0000), Var(v=-0.1818, grad=0.0000), Var(v=-0.1247, grad=0.0000), Var(v=-0.2259, grad=0.0000), Var(v=-0.0311, grad=0.0000), Var(v=-0.0041, grad=0.0000), Var(v=0.1956, grad=0.0000), Var(v=0.0579, grad=0.0000), Var(v=0.0560, grad=0.0000), Var(v=-0.0713, grad=0.0000), Var(v=-0.1578, grad=0.0000), Var(v=-0.0429, grad=0.0000), Var(v=0.0269, grad=0.0000), Var(v=-0.0706, grad=0.0000), Var(v=0.0444, grad=0.0000), Var(v=0.1692, grad=0.0000), Var(v=0.0032, grad=0.0000), Var(v=0.0184, grad=0.0000), Var(v=0.0005, grad=0.0000), Var(v=-0.0126, grad=0.0000), Var(v=0.1663, grad=0.0000), Var(v=-0.0446, grad=0.0000), Var(v=0.0677, grad=0.0000), Var(v=-0.0986, grad=0.0000), Var(v=0.0536, grad=0.0000), Var(v=-0.1775, grad=0.0000), Var(v=-0.1669, grad=0.0000), Var(v=-0.0455, grad=0.0000), Var(v=0.1640, grad=0.0000), Var(v=-0.0043, grad=0.0000), Var(v=0.0761, grad=0.0000), Var(v=-0.0636, grad=0.0000), Var(v=0.0157, grad=0.0000), Var(v=-0.0267, grad=0.0000), Var(v=-0.2411, grad=0.0000), Var(v=0.0124, grad=0.0000), Var(v=0.0242, grad=0.0000), Var(v=0.0912, grad=0.0000), Var(v=0.0699, grad=0.0000), Var(v=0.0749, grad=0.0000), Var(v=0.0182, grad=0.0000), Var(v=-0.0053, grad=0.0000), Var(v=0.0578, grad=0.0000), Var(v=-0.0174, grad=0.0000)], [Var(v=0.2057, grad=0.0000), Var(v=0.0580, grad=0.0000), Var(v=0.0389, grad=0.0000), Var(v=-0.0061, grad=0.0000), Var(v=-0.0033, grad=0.0000), Var(v=0.0992, grad=0.0000), Var(v=-0.0768, grad=0.0000), Var(v=-0.0321, grad=0.0000), Var(v=0.0774, grad=0.0000), Var(v=-0.1334, grad=0.0000), Var(v=0.1041, grad=0.0000), Var(v=0.0276, grad=0.0000), Var(v=0.1006, grad=0.0000), Var(v=0.0738, grad=0.0000), Var(v=-0.0297, grad=0.0000), Var(v=0.0900, grad=0.0000), Var(v=0.0314, grad=0.0000), Var(v=0.0277, grad=0.0000), Var(v=0.0597, grad=0.0000), Var(v=0.0921, grad=0.0000), Var(v=0.0111, grad=0.0000), Var(v=0.0834, grad=0.0000), Var(v=-0.1341, grad=0.0000), Var(v=-0.0164, grad=0.0000), Var(v=0.0782, grad=0.0000), Var(v=0.1129, grad=0.0000), Var(v=0.1807, grad=0.0000), Var(v=0.0706, grad=0.0000), Var(v=0.0084, grad=0.0000), Var(v=0.1167, grad=0.0000), Var(v=0.0765, grad=0.0000), Var(v=0.1495, grad=0.0000), Var(v=0.0300, grad=0.0000), Var(v=-0.0259, grad=0.0000), Var(v=-0.1645, grad=0.0000), Var(v=-0.1639, grad=0.0000), Var(v=-0.0592, grad=0.0000), Var(v=-0.0546, grad=0.0000), Var(v=-0.0276, grad=0.0000), Var(v=-0.0404, grad=0.0000), Var(v=-0.0533, grad=0.0000), Var(v=-0.0808, grad=0.0000), Var(v=-0.0261, grad=0.0000), Var(v=-0.0176, grad=0.0000), Var(v=-0.0609, grad=0.0000), Var(v=-0.1180, grad=0.0000), Var(v=-0.1720, grad=0.0000), Var(v=-0.2085, grad=0.0000), Var(v=-0.0057, grad=0.0000), Var(v=-0.0121, grad=0.0000)], [Var(v=0.0011, grad=0.0000), Var(v=-0.1919, grad=0.0000), Var(v=0.0209, grad=0.0000), Var(v=-0.0470, grad=0.0000), Var(v=-0.0663, grad=0.0000), Var(v=-0.1055, grad=0.0000), Var(v=0.0280, grad=0.0000), Var(v=-0.0196, grad=0.0000), Var(v=-0.0182, grad=0.0000), Var(v=-0.0885, grad=0.0000), Var(v=0.1230, grad=0.0000), Var(v=0.0664, grad=0.0000), Var(v=0.0622, grad=0.0000), Var(v=-0.1418, grad=0.0000), Var(v=-0.1342, grad=0.0000), Var(v=0.0852, grad=0.0000), Var(v=-0.0358, grad=0.0000), Var(v=-0.0311, grad=0.0000), Var(v=-0.0444, grad=0.0000), Var(v=0.0430, grad=0.0000), Var(v=-0.0394, grad=0.0000), Var(v=0.0652, grad=0.0000), Var(v=0.0296, grad=0.0000), Var(v=-0.0651, grad=0.0000), Var(v=0.1346, grad=0.0000), Var(v=-0.1822, grad=0.0000), Var(v=0.0491, grad=0.0000), Var(v=0.0505, grad=0.0000), Var(v=-0.0423, grad=0.0000), Var(v=-0.0194, grad=0.0000), Var(v=0.0145, grad=0.0000), Var(v=0.0831, grad=0.0000), Var(v=0.0695, grad=0.0000), Var(v=-0.0677, grad=0.0000), Var(v=0.0902, grad=0.0000), Var(v=-0.1041, grad=0.0000), Var(v=0.0474, grad=0.0000), Var(v=0.2290, grad=0.0000), Var(v=0.1004, grad=0.0000), Var(v=0.1723, grad=0.0000), Var(v=-0.0546, grad=0.0000), Var(v=-0.0449, grad=0.0000), Var(v=-0.0877, grad=0.0000), Var(v=0.1256, grad=0.0000), Var(v=0.1122, grad=0.0000), Var(v=0.0490, grad=0.0000), Var(v=0.0190, grad=0.0000), Var(v=-0.1067, grad=0.0000), Var(v=0.0062, grad=0.0000), Var(v=-0.0808, grad=0.0000)], [Var(v=0.0407, grad=0.0000), Var(v=0.1072, grad=0.0000), Var(v=0.1440, grad=0.0000), Var(v=0.0925, grad=0.0000), Var(v=0.1421, grad=0.0000), Var(v=-0.1146, grad=0.0000), Var(v=-0.0996, grad=0.0000), Var(v=0.0953, grad=0.0000), Var(v=-0.0875, grad=0.0000), Var(v=-0.0845, grad=0.0000), Var(v=-0.0727, grad=0.0000), Var(v=-0.0366, grad=0.0000), Var(v=0.0673, grad=0.0000), Var(v=-0.1985, grad=0.0000), Var(v=-0.0572, grad=0.0000), Var(v=-0.1099, grad=0.0000), Var(v=-0.0627, grad=0.0000), Var(v=-0.0621, grad=0.0000), Var(v=0.0352, grad=0.0000), Var(v=-0.1095, grad=0.0000), Var(v=-0.0715, grad=0.0000), Var(v=0.0150, grad=0.0000), Var(v=0.0699, grad=0.0000), Var(v=0.0049, grad=0.0000), Var(v=0.0999, grad=0.0000), Var(v=0.0185, grad=0.0000), Var(v=-0.1081, grad=0.0000), Var(v=-0.0125, grad=0.0000), Var(v=-0.0570, grad=0.0000), Var(v=0.1210, grad=0.0000), Var(v=-0.0206, grad=0.0000), Var(v=0.0161, grad=0.0000), Var(v=0.0710, grad=0.0000), Var(v=-0.0111, grad=0.0000), Var(v=0.1839, grad=0.0000), Var(v=0.2040, grad=0.0000), Var(v=-0.1187, grad=0.0000), Var(v=-0.1511, grad=0.0000), Var(v=-0.0450, grad=0.0000), Var(v=-0.0102, grad=0.0000), Var(v=0.0536, grad=0.0000), Var(v=-0.0751, grad=0.0000), Var(v=-0.0883, grad=0.0000), Var(v=0.0537, grad=0.0000), Var(v=-0.0231, grad=0.0000), Var(v=-0.0550, grad=0.0000), Var(v=0.1345, grad=0.0000), Var(v=0.0498, grad=0.0000), Var(v=-0.0680, grad=0.0000), Var(v=0.0073, grad=0.0000)], [Var(v=0.1598, grad=0.0000), Var(v=0.0822, grad=0.0000), Var(v=0.1803, grad=0.0000), Var(v=-0.0817, grad=0.0000), Var(v=0.0399, grad=0.0000), Var(v=-0.0170, grad=0.0000), Var(v=0.0750, grad=0.0000), Var(v=0.1979, grad=0.0000), Var(v=0.0330, grad=0.0000), Var(v=0.0526, grad=0.0000), Var(v=0.1178, grad=0.0000), Var(v=0.1687, grad=0.0000), Var(v=0.0110, grad=0.0000), Var(v=-0.0213, grad=0.0000), Var(v=-0.0502, grad=0.0000), Var(v=-0.0708, grad=0.0000), Var(v=0.2172, grad=0.0000), Var(v=0.0496, grad=0.0000), Var(v=-0.0471, grad=0.0000), Var(v=0.1295, grad=0.0000), Var(v=0.1434, grad=0.0000), Var(v=-0.0374, grad=0.0000), Var(v=0.1686, grad=0.0000), Var(v=-0.0924, grad=0.0000), Var(v=-0.0817, grad=0.0000), Var(v=0.0433, grad=0.0000), Var(v=0.0352, grad=0.0000), Var(v=-0.0353, grad=0.0000), Var(v=0.1444, grad=0.0000), Var(v=-0.0311, grad=0.0000), Var(v=0.2194, grad=0.0000), Var(v=-0.0144, grad=0.0000), Var(v=-0.0004, grad=0.0000), Var(v=-0.1059, grad=0.0000), Var(v=0.2144, grad=0.0000), Var(v=-0.2675, grad=0.0000), Var(v=0.0161, grad=0.0000), Var(v=0.0696, grad=0.0000), Var(v=-0.1427, grad=0.0000), Var(v=-0.1355, grad=0.0000), Var(v=-0.1848, grad=0.0000), Var(v=0.0467, grad=0.0000), Var(v=0.0481, grad=0.0000), Var(v=-0.1719, grad=0.0000), Var(v=0.1023, grad=0.0000), Var(v=0.0144, grad=0.0000), Var(v=-0.1229, grad=0.0000), Var(v=0.1654, grad=0.0000), Var(v=0.0719, grad=0.0000), Var(v=-0.0762, grad=0.0000)], [Var(v=0.0393, grad=0.0000), Var(v=-0.0127, grad=0.0000), Var(v=-0.1224, grad=0.0000), Var(v=0.1438, grad=0.0000), Var(v=0.0436, grad=0.0000), Var(v=-0.0958, grad=0.0000), Var(v=0.0123, grad=0.0000), Var(v=-0.0353, grad=0.0000), Var(v=-0.0624, grad=0.0000), Var(v=-0.0497, grad=0.0000), Var(v=0.0773, grad=0.0000), Var(v=0.0741, grad=0.0000), Var(v=0.0627, grad=0.0000), Var(v=0.0003, grad=0.0000), Var(v=0.2590, grad=0.0000), Var(v=0.0776, grad=0.0000), Var(v=0.0025, grad=0.0000), Var(v=0.0857, grad=0.0000), Var(v=0.2174, grad=0.0000), Var(v=0.0740, grad=0.0000), Var(v=-0.0518, grad=0.0000), Var(v=0.1056, grad=0.0000), Var(v=-0.0170, grad=0.0000), Var(v=-0.1755, grad=0.0000), Var(v=0.0869, grad=0.0000), Var(v=0.0712, grad=0.0000), Var(v=-0.0950, grad=0.0000), Var(v=0.1108, grad=0.0000), Var(v=-0.1369, grad=0.0000), Var(v=0.1154, grad=0.0000), Var(v=-0.0486, grad=0.0000), Var(v=0.0380, grad=0.0000), Var(v=-0.1195, grad=0.0000), Var(v=0.0224, grad=0.0000), Var(v=0.0743, grad=0.0000), Var(v=0.0773, grad=0.0000), Var(v=-0.0724, grad=0.0000), Var(v=-0.0985, grad=0.0000), Var(v=-0.0384, grad=0.0000), Var(v=0.2761, grad=0.0000), Var(v=0.0980, grad=0.0000), Var(v=0.0807, grad=0.0000), Var(v=0.2132, grad=0.0000), Var(v=0.2336, grad=0.0000), Var(v=0.1734, grad=0.0000), Var(v=-0.0283, grad=0.0000), Var(v=-0.0914, grad=0.0000), Var(v=-0.0721, grad=0.0000), Var(v=-0.0430, grad=0.0000), Var(v=-0.1265, grad=0.0000)]] Biases: [Var(v=0.0000, grad=0.0000), Var(v=0.0000, grad=0.0000), Var(v=0.0000, grad=0.0000), Var(v=0.0000, grad=0.0000), Var(v=0.0000, grad=0.0000), Var(v=0.0000, grad=0.0000), Var(v=0.0000, grad=0.0000), Var(v=0.0000, grad=0.0000), Var(v=0.0000, grad=0.0000), Var(v=0.0000, grad=0.0000), Var(v=0.0000, grad=0.0000), Var(v=0.0000, grad=0.0000), Var(v=0.0000, grad=0.0000), Var(v=0.0000, grad=0.0000), Var(v=0.0000, grad=0.0000), Var(v=0.0000, grad=0.0000), Var(v=0.0000, grad=0.0000), Var(v=0.0000, grad=0.0000), Var(v=0.0000, grad=0.0000), Var(v=0.0000, grad=0.0000), Var(v=0.0000, grad=0.0000), Var(v=0.0000, grad=0.0000), Var(v=0.0000, grad=0.0000), Var(v=0.0000, grad=0.0000), Var(v=0.0000, grad=0.0000), Var(v=0.0000, grad=0.0000), Var(v=0.0000, grad=0.0000), Var(v=0.0000, grad=0.0000), Var(v=0.0000, grad=0.0000), Var(v=0.0000, grad=0.0000), Var(v=0.0000, grad=0.0000), Var(v=0.0000, grad=0.0000), Var(v=0.0000, grad=0.0000), Var(v=0.0000, grad=0.0000), Var(v=0.0000, grad=0.0000), Var(v=0.0000, grad=0.0000), Var(v=0.0000, grad=0.0000), Var(v=0.0000, grad=0.0000), Var(v=0.0000, grad=0.0000), Var(v=0.0000, grad=0.0000), Var(v=0.0000, grad=0.0000), Var(v=0.0000, grad=0.0000), Var(v=0.0000, grad=0.0000), Var(v=0.0000, grad=0.0000), Var(v=0.0000, grad=0.0000), Var(v=0.0000, grad=0.0000), Var(v=0.0000, grad=0.0000), Var(v=0.0000, grad=0.0000), Var(v=0.0000, grad=0.0000), Var(v=0.0000, grad=0.0000)]\n",
      "Layer 2 \n",
      " Weights: [[Var(v=0.0156, grad=0.0000)], [Var(v=-0.0255, grad=0.0000)], [Var(v=0.0125, grad=0.0000)], [Var(v=0.1007, grad=0.0000)], [Var(v=-0.0018, grad=0.0000)], [Var(v=-0.0073, grad=0.0000)], [Var(v=-0.0598, grad=0.0000)], [Var(v=-0.0222, grad=0.0000)], [Var(v=0.0222, grad=0.0000)], [Var(v=0.0092, grad=0.0000)], [Var(v=-0.0130, grad=0.0000)], [Var(v=0.0241, grad=0.0000)], [Var(v=-0.0768, grad=0.0000)], [Var(v=-0.1679, grad=0.0000)], [Var(v=-0.0915, grad=0.0000)], [Var(v=-0.2319, grad=0.0000)], [Var(v=0.0705, grad=0.0000)], [Var(v=-0.0066, grad=0.0000)], [Var(v=0.1528, grad=0.0000)], [Var(v=0.2079, grad=0.0000)], [Var(v=-0.1633, grad=0.0000)], [Var(v=0.0311, grad=0.0000)], [Var(v=-0.2601, grad=0.0000)], [Var(v=0.1907, grad=0.0000)], [Var(v=-0.0165, grad=0.0000)], [Var(v=-0.1059, grad=0.0000)], [Var(v=-0.0258, grad=0.0000)], [Var(v=-0.0229, grad=0.0000)], [Var(v=-0.1685, grad=0.0000)], [Var(v=0.1000, grad=0.0000)], [Var(v=-0.0050, grad=0.0000)], [Var(v=-0.1876, grad=0.0000)], [Var(v=-0.1425, grad=0.0000)], [Var(v=0.0475, grad=0.0000)], [Var(v=-0.0594, grad=0.0000)], [Var(v=-0.0066, grad=0.0000)], [Var(v=-0.1830, grad=0.0000)], [Var(v=-0.0017, grad=0.0000)], [Var(v=-0.0802, grad=0.0000)], [Var(v=0.1402, grad=0.0000)], [Var(v=-0.0765, grad=0.0000)], [Var(v=-0.0130, grad=0.0000)], [Var(v=0.1019, grad=0.0000)], [Var(v=0.0248, grad=0.0000)], [Var(v=0.0128, grad=0.0000)], [Var(v=-0.0072, grad=0.0000)], [Var(v=0.0596, grad=0.0000)], [Var(v=0.0397, grad=0.0000)], [Var(v=-0.1775, grad=0.0000)], [Var(v=0.0501, grad=0.0000)]] Biases: [Var(v=0.0000, grad=0.0000)]\n",
      "\n",
      "Network after update:\n",
      "Layer 0 \n",
      " Weights: [[Var(v=0.1898, grad=0.0000), Var(v=0.0812, grad=0.0000), Var(v=0.0083, grad=0.0000), Var(v=0.0032, grad=0.0000), Var(v=-0.1654, grad=0.0000), Var(v=0.0194, grad=0.0000), Var(v=-0.0218, grad=0.0000), Var(v=-0.2620, grad=0.0000), Var(v=-0.0352, grad=0.0000), Var(v=0.0513, grad=0.0000), Var(v=-0.1256, grad=0.0000), Var(v=0.0273, grad=0.0000), Var(v=-0.0227, grad=0.0000), Var(v=-0.0496, grad=0.0000), Var(v=0.1561, grad=0.0000)]] Biases: [Var(v=0.0000, grad=0.0000), Var(v=0.0000, grad=0.0000), Var(v=0.0000, grad=0.0000), Var(v=0.0000, grad=0.0000), Var(v=0.0000, grad=0.0000), Var(v=0.0000, grad=0.0000), Var(v=0.0000, grad=0.0000), Var(v=0.0000, grad=0.0000), Var(v=0.0000, grad=0.0000), Var(v=0.0000, grad=0.0000), Var(v=0.0000, grad=0.0000), Var(v=0.0000, grad=0.0000), Var(v=0.0000, grad=0.0000), Var(v=0.0000, grad=0.0000), Var(v=0.0000, grad=0.0000)]\n",
      "Layer 1 \n",
      " Weights: [[Var(v=0.0368, grad=0.0000), Var(v=0.0567, grad=0.0000), Var(v=0.0216, grad=0.0000), Var(v=-0.0879, grad=0.0000), Var(v=0.0667, grad=0.0000), Var(v=-0.1277, grad=0.0000), Var(v=0.1136, grad=0.0000), Var(v=0.0064, grad=0.0000), Var(v=0.0671, grad=0.0000), Var(v=-0.0424, grad=0.0000), Var(v=0.1072, grad=0.0000), Var(v=-0.1283, grad=0.0000), Var(v=0.1097, grad=0.0000), Var(v=-0.0407, grad=0.0000), Var(v=-0.0022, grad=0.0000), Var(v=0.0171, grad=0.0000), Var(v=-0.1214, grad=0.0000), Var(v=-0.2462, grad=0.0000), Var(v=0.0421, grad=0.0000), Var(v=-0.1115, grad=0.0000), Var(v=0.0789, grad=0.0000), Var(v=0.0387, grad=0.0000), Var(v=0.0129, grad=0.0000), Var(v=0.1425, grad=0.0000), Var(v=0.0057, grad=0.0000), Var(v=-0.0091, grad=0.0000), Var(v=-0.1452, grad=0.0000), Var(v=0.0425, grad=0.0000), Var(v=-0.0965, grad=0.0000), Var(v=-0.0345, grad=0.0000), Var(v=0.0555, grad=0.0000), Var(v=0.1054, grad=0.0000), Var(v=-0.1086, grad=0.0000), Var(v=0.0320, grad=0.0000), Var(v=0.1721, grad=0.0000), Var(v=0.0911, grad=0.0000), Var(v=0.0129, grad=0.0000), Var(v=-0.1353, grad=0.0000), Var(v=-0.1581, grad=0.0000), Var(v=0.1118, grad=0.0000), Var(v=-0.0079, grad=0.0000), Var(v=-0.0181, grad=0.0000), Var(v=-0.0527, grad=0.0000), Var(v=0.0546, grad=0.0000), Var(v=0.0311, grad=0.0000), Var(v=-0.0973, grad=0.0000), Var(v=-0.0838, grad=0.0000), Var(v=0.0053, grad=0.0000), Var(v=-0.0478, grad=0.0000), Var(v=-0.1417, grad=0.0000)], [Var(v=0.1271, grad=0.0000), Var(v=0.2597, grad=0.0000), Var(v=0.0319, grad=0.0000), Var(v=-0.1088, grad=0.0000), Var(v=-0.0252, grad=0.0000), Var(v=0.1259, grad=0.0000), Var(v=-0.1103, grad=0.0000), Var(v=0.0100, grad=0.0000), Var(v=0.1434, grad=0.0000), Var(v=-0.0969, grad=0.0000), Var(v=0.2013, grad=0.0000), Var(v=0.0378, grad=0.0000), Var(v=0.0875, grad=0.0000), Var(v=-0.0011, grad=0.0000), Var(v=-0.0597, grad=0.0000), Var(v=-0.0989, grad=0.0000), Var(v=0.0952, grad=0.0000), Var(v=0.1783, grad=0.0000), Var(v=-0.0655, grad=0.0000), Var(v=-0.0815, grad=0.0000), Var(v=0.0780, grad=0.0000), Var(v=-0.0387, grad=0.0000), Var(v=0.0224, grad=0.0000), Var(v=-0.1627, grad=0.0000), Var(v=-0.1653, grad=0.0000), Var(v=0.0482, grad=0.0000), Var(v=0.0109, grad=0.0000), Var(v=0.0169, grad=0.0000), Var(v=-0.1394, grad=0.0000), Var(v=0.1271, grad=0.0000), Var(v=0.1325, grad=0.0000), Var(v=0.0338, grad=0.0000), Var(v=0.1121, grad=0.0000), Var(v=0.0345, grad=0.0000), Var(v=-0.1302, grad=0.0000), Var(v=-0.0219, grad=0.0000), Var(v=-0.1620, grad=0.0000), Var(v=0.0374, grad=0.0000), Var(v=0.0761, grad=0.0000), Var(v=-0.1544, grad=0.0000), Var(v=0.0479, grad=0.0000), Var(v=-0.1538, grad=0.0000), Var(v=-0.0567, grad=0.0000), Var(v=-0.1769, grad=0.0000), Var(v=0.0841, grad=0.0000), Var(v=0.0654, grad=0.0000), Var(v=0.0136, grad=0.0000), Var(v=0.1320, grad=0.0000), Var(v=-0.0923, grad=0.0000), Var(v=-0.0596, grad=0.0000)], [Var(v=-0.0769, grad=0.0000), Var(v=0.1366, grad=0.0000), Var(v=-0.0974, grad=0.0000), Var(v=-0.0082, grad=0.0000), Var(v=0.1831, grad=0.0000), Var(v=0.1802, grad=0.0000), Var(v=0.0434, grad=0.0000), Var(v=0.0447, grad=0.0000), Var(v=0.0315, grad=0.0000), Var(v=-0.1239, grad=0.0000), Var(v=-0.1124, grad=0.0000), Var(v=0.1324, grad=0.0000), Var(v=0.1144, grad=0.0000), Var(v=0.0929, grad=0.0000), Var(v=-0.0295, grad=0.0000), Var(v=0.1332, grad=0.0000), Var(v=-0.0196, grad=0.0000), Var(v=-0.0426, grad=0.0000), Var(v=-0.0150, grad=0.0000), Var(v=-0.0419, grad=0.0000), Var(v=0.0327, grad=0.0000), Var(v=-0.0425, grad=0.0000), Var(v=-0.0200, grad=0.0000), Var(v=0.1804, grad=0.0000), Var(v=0.0839, grad=0.0000), Var(v=-0.0342, grad=0.0000), Var(v=0.0669, grad=0.0000), Var(v=-0.0550, grad=0.0000), Var(v=0.0435, grad=0.0000), Var(v=0.1999, grad=0.0000), Var(v=0.0125, grad=0.0000), Var(v=-0.0775, grad=0.0000), Var(v=0.0628, grad=0.0000), Var(v=0.1308, grad=0.0000), Var(v=0.0283, grad=0.0000), Var(v=0.0046, grad=0.0000), Var(v=-0.0730, grad=0.0000), Var(v=0.0717, grad=0.0000), Var(v=0.0140, grad=0.0000), Var(v=-0.1057, grad=0.0000), Var(v=-0.1449, grad=0.0000), Var(v=0.0393, grad=0.0000), Var(v=-0.0190, grad=0.0000), Var(v=-0.0865, grad=0.0000), Var(v=-0.0123, grad=0.0000), Var(v=-0.0080, grad=0.0000), Var(v=0.0590, grad=0.0000), Var(v=0.2426, grad=0.0000), Var(v=-0.1389, grad=0.0000), Var(v=0.0087, grad=0.0000)], [Var(v=-0.0842, grad=0.0000), Var(v=-0.0165, grad=0.0000), Var(v=-0.0417, grad=0.0000), Var(v=-0.0677, grad=0.0000), Var(v=0.0667, grad=0.0000), Var(v=-0.0155, grad=0.0000), Var(v=0.0300, grad=0.0000), Var(v=-0.1729, grad=0.0000), Var(v=0.2634, grad=0.0000), Var(v=0.2327, grad=0.0000), Var(v=0.0105, grad=0.0000), Var(v=-0.0616, grad=0.0000), Var(v=0.2373, grad=0.0000), Var(v=0.1488, grad=0.0000), Var(v=-0.1125, grad=0.0000), Var(v=-0.0271, grad=0.0000), Var(v=-0.1176, grad=0.0000), Var(v=-0.0703, grad=0.0000), Var(v=-0.0402, grad=0.0000), Var(v=0.0191, grad=0.0000), Var(v=-0.0203, grad=0.0000), Var(v=-0.0039, grad=0.0000), Var(v=0.0132, grad=0.0000), Var(v=-0.0129, grad=0.0000), Var(v=0.1619, grad=0.0000), Var(v=0.0134, grad=0.0000), Var(v=-0.0113, grad=0.0000), Var(v=0.1030, grad=0.0000), Var(v=-0.0627, grad=0.0000), Var(v=0.0455, grad=0.0000), Var(v=-0.1887, grad=0.0000), Var(v=-0.0257, grad=0.0000), Var(v=0.1917, grad=0.0000), Var(v=-0.0067, grad=0.0000), Var(v=-0.0814, grad=0.0000), Var(v=-0.1739, grad=0.0000), Var(v=-0.0342, grad=0.0000), Var(v=0.1125, grad=0.0000), Var(v=0.0943, grad=0.0000), Var(v=0.0176, grad=0.0000), Var(v=0.2041, grad=0.0000), Var(v=0.0098, grad=0.0000), Var(v=-0.0089, grad=0.0000), Var(v=-0.0386, grad=0.0000), Var(v=-0.1148, grad=0.0000), Var(v=0.1388, grad=0.0000), Var(v=-0.0509, grad=0.0000), Var(v=0.1063, grad=0.0000), Var(v=0.0496, grad=0.0000), Var(v=-0.0524, grad=0.0000)], [Var(v=0.1533, grad=0.0000), Var(v=0.0442, grad=0.0000), Var(v=0.0004, grad=0.0000), Var(v=-0.0469, grad=0.0000), Var(v=-0.0380, grad=0.0000), Var(v=0.0320, grad=0.0000), Var(v=0.0619, grad=0.0000), Var(v=0.1147, grad=0.0000), Var(v=0.1854, grad=0.0000), Var(v=0.0196, grad=0.0000), Var(v=0.1435, grad=0.0000), Var(v=-0.2069, grad=0.0000), Var(v=0.0393, grad=0.0000), Var(v=0.1481, grad=0.0000), Var(v=-0.0968, grad=0.0000), Var(v=-0.0922, grad=0.0000), Var(v=0.0082, grad=0.0000), Var(v=-0.1918, grad=0.0000), Var(v=-0.0744, grad=0.0000), Var(v=0.0040, grad=0.0000), Var(v=-0.2199, grad=0.0000), Var(v=-0.1444, grad=0.0000), Var(v=0.1674, grad=0.0000), Var(v=0.0012, grad=0.0000), Var(v=-0.0012, grad=0.0000), Var(v=0.0702, grad=0.0000), Var(v=-0.0291, grad=0.0000), Var(v=-0.1083, grad=0.0000), Var(v=-0.0430, grad=0.0000), Var(v=0.0468, grad=0.0000), Var(v=0.0058, grad=0.0000), Var(v=0.2843, grad=0.0000), Var(v=-0.0700, grad=0.0000), Var(v=-0.0592, grad=0.0000), Var(v=0.2117, grad=0.0000), Var(v=-0.0113, grad=0.0000), Var(v=-0.0693, grad=0.0000), Var(v=0.1605, grad=0.0000), Var(v=-0.0022, grad=0.0000), Var(v=-0.1425, grad=0.0000), Var(v=0.0199, grad=0.0000), Var(v=0.0671, grad=0.0000), Var(v=-0.0686, grad=0.0000), Var(v=-0.1486, grad=0.0000), Var(v=-0.0015, grad=0.0000), Var(v=-0.0479, grad=0.0000), Var(v=-0.0130, grad=0.0000), Var(v=-0.0080, grad=0.0000), Var(v=-0.1173, grad=0.0000), Var(v=-0.0626, grad=0.0000)], [Var(v=-0.1617, grad=0.0000), Var(v=0.0983, grad=0.0000), Var(v=0.0426, grad=0.0000), Var(v=0.1097, grad=0.0000), Var(v=-0.0227, grad=0.0000), Var(v=-0.1658, grad=0.0000), Var(v=-0.0516, grad=0.0000), Var(v=0.0299, grad=0.0000), Var(v=0.0374, grad=0.0000), Var(v=-0.0257, grad=0.0000), Var(v=0.1305, grad=0.0000), Var(v=-0.0718, grad=0.0000), Var(v=-0.1268, grad=0.0000), Var(v=-0.0330, grad=0.0000), Var(v=-0.0083, grad=0.0000), Var(v=-0.0419, grad=0.0000), Var(v=0.0238, grad=0.0000), Var(v=-0.1436, grad=0.0000), Var(v=0.0126, grad=0.0000), Var(v=-0.0219, grad=0.0000), Var(v=-0.1477, grad=0.0000), Var(v=-0.0488, grad=0.0000), Var(v=0.0143, grad=0.0000), Var(v=0.1674, grad=0.0000), Var(v=-0.0272, grad=0.0000), Var(v=0.0303, grad=0.0000), Var(v=0.1898, grad=0.0000), Var(v=-0.1061, grad=0.0000), Var(v=0.1760, grad=0.0000), Var(v=-0.1642, grad=0.0000), Var(v=-0.1476, grad=0.0000), Var(v=-0.1469, grad=0.0000), Var(v=0.0240, grad=0.0000), Var(v=-0.0338, grad=0.0000), Var(v=0.1002, grad=0.0000), Var(v=0.0017, grad=0.0000), Var(v=-0.0229, grad=0.0000), Var(v=0.0639, grad=0.0000), Var(v=-0.0103, grad=0.0000), Var(v=-0.0177, grad=0.0000), Var(v=-0.1614, grad=0.0000), Var(v=0.0242, grad=0.0000), Var(v=0.1577, grad=0.0000), Var(v=-0.1460, grad=0.0000), Var(v=-0.2093, grad=0.0000), Var(v=-0.0583, grad=0.0000), Var(v=0.0142, grad=0.0000), Var(v=-0.0631, grad=0.0000), Var(v=-0.0028, grad=0.0000), Var(v=-0.2064, grad=0.0000)], [Var(v=-0.0231, grad=0.0000), Var(v=0.0505, grad=0.0000), Var(v=-0.1773, grad=0.0000), Var(v=0.0212, grad=0.0000), Var(v=-0.0138, grad=0.0000), Var(v=0.0585, grad=0.0000), Var(v=-0.0542, grad=0.0000), Var(v=0.1137, grad=0.0000), Var(v=0.0226, grad=0.0000), Var(v=0.2275, grad=0.0000), Var(v=-0.0275, grad=0.0000), Var(v=-0.0802, grad=0.0000), Var(v=-0.0127, grad=0.0000), Var(v=0.1451, grad=0.0000), Var(v=0.0372, grad=0.0000), Var(v=-0.0066, grad=0.0000), Var(v=0.1452, grad=0.0000), Var(v=-0.0605, grad=0.0000), Var(v=-0.0464, grad=0.0000), Var(v=-0.0663, grad=0.0000), Var(v=0.1218, grad=0.0000), Var(v=-0.1374, grad=0.0000), Var(v=-0.0195, grad=0.0000), Var(v=-0.1064, grad=0.0000), Var(v=-0.0384, grad=0.0000), Var(v=-0.0818, grad=0.0000), Var(v=0.1439, grad=0.0000), Var(v=-0.0112, grad=0.0000), Var(v=0.0132, grad=0.0000), Var(v=0.0168, grad=0.0000), Var(v=0.0893, grad=0.0000), Var(v=0.0379, grad=0.0000), Var(v=-0.0619, grad=0.0000), Var(v=0.1254, grad=0.0000), Var(v=-0.0851, grad=0.0000), Var(v=0.2229, grad=0.0000), Var(v=-0.3044, grad=0.0000), Var(v=-0.1392, grad=0.0000), Var(v=0.0825, grad=0.0000), Var(v=0.0480, grad=0.0000), Var(v=-0.2229, grad=0.0000), Var(v=0.0426, grad=0.0000), Var(v=0.0047, grad=0.0000), Var(v=-0.0165, grad=0.0000), Var(v=0.1425, grad=0.0000), Var(v=-0.1306, grad=0.0000), Var(v=0.0922, grad=0.0000), Var(v=0.0623, grad=0.0000), Var(v=-0.1483, grad=0.0000), Var(v=0.0966, grad=0.0000)], [Var(v=0.0419, grad=0.0000), Var(v=0.0053, grad=0.0000), Var(v=0.0700, grad=0.0000), Var(v=-0.0058, grad=0.0000), Var(v=0.2298, grad=0.0000), Var(v=-0.1069, grad=0.0000), Var(v=-0.0154, grad=0.0000), Var(v=-0.0269, grad=0.0000), Var(v=-0.0808, grad=0.0000), Var(v=-0.0815, grad=0.0000), Var(v=-0.0924, grad=0.0000), Var(v=0.1313, grad=0.0000), Var(v=0.1573, grad=0.0000), Var(v=0.2208, grad=0.0000), Var(v=-0.0263, grad=0.0000), Var(v=0.1180, grad=0.0000), Var(v=-0.0143, grad=0.0000), Var(v=0.0580, grad=0.0000), Var(v=0.0470, grad=0.0000), Var(v=0.1480, grad=0.0000), Var(v=0.0227, grad=0.0000), Var(v=0.0679, grad=0.0000), Var(v=0.1208, grad=0.0000), Var(v=0.0925, grad=0.0000), Var(v=-0.0142, grad=0.0000), Var(v=0.2101, grad=0.0000), Var(v=0.0298, grad=0.0000), Var(v=-0.0325, grad=0.0000), Var(v=-0.0620, grad=0.0000), Var(v=0.0794, grad=0.0000), Var(v=0.0689, grad=0.0000), Var(v=0.1639, grad=0.0000), Var(v=0.0900, grad=0.0000), Var(v=-0.0308, grad=0.0000), Var(v=0.0877, grad=0.0000), Var(v=0.1583, grad=0.0000), Var(v=-0.0767, grad=0.0000), Var(v=0.1023, grad=0.0000), Var(v=-0.1835, grad=0.0000), Var(v=-0.0225, grad=0.0000), Var(v=-0.0550, grad=0.0000), Var(v=-0.1204, grad=0.0000), Var(v=-0.0488, grad=0.0000), Var(v=0.0426, grad=0.0000), Var(v=0.1315, grad=0.0000), Var(v=-0.0568, grad=0.0000), Var(v=0.0146, grad=0.0000), Var(v=0.0639, grad=0.0000), Var(v=0.0460, grad=0.0000), Var(v=-0.0454, grad=0.0000)], [Var(v=-0.0386, grad=0.0000), Var(v=0.0851, grad=0.0000), Var(v=-0.0312, grad=0.0000), Var(v=-0.0342, grad=0.0000), Var(v=-0.0150, grad=0.0000), Var(v=0.0111, grad=0.0000), Var(v=0.1009, grad=0.0000), Var(v=0.0678, grad=0.0000), Var(v=-0.1238, grad=0.0000), Var(v=0.0095, grad=0.0000), Var(v=0.3586, grad=0.0000), Var(v=0.1263, grad=0.0000), Var(v=-0.1658, grad=0.0000), Var(v=-0.0499, grad=0.0000), Var(v=0.1139, grad=0.0000), Var(v=-0.0194, grad=0.0000), Var(v=0.0993, grad=0.0000), Var(v=-0.0153, grad=0.0000), Var(v=0.0643, grad=0.0000), Var(v=-0.0012, grad=0.0000), Var(v=0.1000, grad=0.0000), Var(v=-0.0531, grad=0.0000), Var(v=-0.0448, grad=0.0000), Var(v=0.0248, grad=0.0000), Var(v=0.1902, grad=0.0000), Var(v=0.0605, grad=0.0000), Var(v=0.1561, grad=0.0000), Var(v=-0.0383, grad=0.0000), Var(v=-0.0217, grad=0.0000), Var(v=-0.1123, grad=0.0000), Var(v=0.1054, grad=0.0000), Var(v=0.0119, grad=0.0000), Var(v=0.0226, grad=0.0000), Var(v=0.0867, grad=0.0000), Var(v=0.0111, grad=0.0000), Var(v=0.1525, grad=0.0000), Var(v=0.0404, grad=0.0000), Var(v=-0.0177, grad=0.0000), Var(v=0.0282, grad=0.0000), Var(v=0.1021, grad=0.0000), Var(v=-0.0479, grad=0.0000), Var(v=0.0037, grad=0.0000), Var(v=0.1062, grad=0.0000), Var(v=-0.1376, grad=0.0000), Var(v=-0.0957, grad=0.0000), Var(v=0.0807, grad=0.0000), Var(v=-0.0401, grad=0.0000), Var(v=-0.1197, grad=0.0000), Var(v=0.0085, grad=0.0000), Var(v=0.0493, grad=0.0000)], [Var(v=0.1550, grad=0.0000), Var(v=0.2001, grad=0.0000), Var(v=0.0188, grad=0.0000), Var(v=-0.0437, grad=0.0000), Var(v=0.1230, grad=0.0000), Var(v=-0.0522, grad=0.0000), Var(v=0.0265, grad=0.0000), Var(v=-0.1818, grad=0.0000), Var(v=-0.1247, grad=0.0000), Var(v=-0.2259, grad=0.0000), Var(v=-0.0311, grad=0.0000), Var(v=-0.0041, grad=0.0000), Var(v=0.1956, grad=0.0000), Var(v=0.0579, grad=0.0000), Var(v=0.0560, grad=0.0000), Var(v=-0.0713, grad=0.0000), Var(v=-0.1578, grad=0.0000), Var(v=-0.0429, grad=0.0000), Var(v=0.0269, grad=0.0000), Var(v=-0.0706, grad=0.0000), Var(v=0.0444, grad=0.0000), Var(v=0.1692, grad=0.0000), Var(v=0.0032, grad=0.0000), Var(v=0.0184, grad=0.0000), Var(v=0.0005, grad=0.0000), Var(v=-0.0126, grad=0.0000), Var(v=0.1663, grad=0.0000), Var(v=-0.0446, grad=0.0000), Var(v=0.0677, grad=0.0000), Var(v=-0.0986, grad=0.0000), Var(v=0.0536, grad=0.0000), Var(v=-0.1775, grad=0.0000), Var(v=-0.1669, grad=0.0000), Var(v=-0.0455, grad=0.0000), Var(v=0.1640, grad=0.0000), Var(v=-0.0043, grad=0.0000), Var(v=0.0761, grad=0.0000), Var(v=-0.0636, grad=0.0000), Var(v=0.0157, grad=0.0000), Var(v=-0.0267, grad=0.0000), Var(v=-0.2411, grad=0.0000), Var(v=0.0124, grad=0.0000), Var(v=0.0242, grad=0.0000), Var(v=0.0912, grad=0.0000), Var(v=0.0699, grad=0.0000), Var(v=0.0749, grad=0.0000), Var(v=0.0182, grad=0.0000), Var(v=-0.0053, grad=0.0000), Var(v=0.0578, grad=0.0000), Var(v=-0.0174, grad=0.0000)], [Var(v=0.2057, grad=0.0000), Var(v=0.0580, grad=0.0000), Var(v=0.0389, grad=0.0000), Var(v=-0.0061, grad=0.0000), Var(v=-0.0033, grad=0.0000), Var(v=0.0992, grad=0.0000), Var(v=-0.0768, grad=0.0000), Var(v=-0.0321, grad=0.0000), Var(v=0.0774, grad=0.0000), Var(v=-0.1334, grad=0.0000), Var(v=0.1041, grad=0.0000), Var(v=0.0276, grad=0.0000), Var(v=0.1006, grad=0.0000), Var(v=0.0738, grad=0.0000), Var(v=-0.0297, grad=0.0000), Var(v=0.0900, grad=0.0000), Var(v=0.0314, grad=0.0000), Var(v=0.0277, grad=0.0000), Var(v=0.0597, grad=0.0000), Var(v=0.0921, grad=0.0000), Var(v=0.0111, grad=0.0000), Var(v=0.0834, grad=0.0000), Var(v=-0.1341, grad=0.0000), Var(v=-0.0164, grad=0.0000), Var(v=0.0782, grad=0.0000), Var(v=0.1129, grad=0.0000), Var(v=0.1807, grad=0.0000), Var(v=0.0706, grad=0.0000), Var(v=0.0084, grad=0.0000), Var(v=0.1167, grad=0.0000), Var(v=0.0765, grad=0.0000), Var(v=0.1495, grad=0.0000), Var(v=0.0300, grad=0.0000), Var(v=-0.0259, grad=0.0000), Var(v=-0.1645, grad=0.0000), Var(v=-0.1639, grad=0.0000), Var(v=-0.0592, grad=0.0000), Var(v=-0.0546, grad=0.0000), Var(v=-0.0276, grad=0.0000), Var(v=-0.0404, grad=0.0000), Var(v=-0.0533, grad=0.0000), Var(v=-0.0808, grad=0.0000), Var(v=-0.0261, grad=0.0000), Var(v=-0.0176, grad=0.0000), Var(v=-0.0609, grad=0.0000), Var(v=-0.1180, grad=0.0000), Var(v=-0.1720, grad=0.0000), Var(v=-0.2085, grad=0.0000), Var(v=-0.0057, grad=0.0000), Var(v=-0.0121, grad=0.0000)], [Var(v=0.0011, grad=0.0000), Var(v=-0.1919, grad=0.0000), Var(v=0.0209, grad=0.0000), Var(v=-0.0470, grad=0.0000), Var(v=-0.0663, grad=0.0000), Var(v=-0.1055, grad=0.0000), Var(v=0.0280, grad=0.0000), Var(v=-0.0196, grad=0.0000), Var(v=-0.0182, grad=0.0000), Var(v=-0.0885, grad=0.0000), Var(v=0.1230, grad=0.0000), Var(v=0.0664, grad=0.0000), Var(v=0.0622, grad=0.0000), Var(v=-0.1418, grad=0.0000), Var(v=-0.1342, grad=0.0000), Var(v=0.0852, grad=0.0000), Var(v=-0.0358, grad=0.0000), Var(v=-0.0311, grad=0.0000), Var(v=-0.0444, grad=0.0000), Var(v=0.0430, grad=0.0000), Var(v=-0.0394, grad=0.0000), Var(v=0.0652, grad=0.0000), Var(v=0.0296, grad=0.0000), Var(v=-0.0651, grad=0.0000), Var(v=0.1346, grad=0.0000), Var(v=-0.1822, grad=0.0000), Var(v=0.0491, grad=0.0000), Var(v=0.0505, grad=0.0000), Var(v=-0.0423, grad=0.0000), Var(v=-0.0194, grad=0.0000), Var(v=0.0145, grad=0.0000), Var(v=0.0831, grad=0.0000), Var(v=0.0695, grad=0.0000), Var(v=-0.0677, grad=0.0000), Var(v=0.0902, grad=0.0000), Var(v=-0.1041, grad=0.0000), Var(v=0.0474, grad=0.0000), Var(v=0.2290, grad=0.0000), Var(v=0.1004, grad=0.0000), Var(v=0.1723, grad=0.0000), Var(v=-0.0546, grad=0.0000), Var(v=-0.0449, grad=0.0000), Var(v=-0.0877, grad=0.0000), Var(v=0.1256, grad=0.0000), Var(v=0.1122, grad=0.0000), Var(v=0.0490, grad=0.0000), Var(v=0.0190, grad=0.0000), Var(v=-0.1067, grad=0.0000), Var(v=0.0062, grad=0.0000), Var(v=-0.0808, grad=0.0000)], [Var(v=0.0407, grad=0.0000), Var(v=0.1072, grad=0.0000), Var(v=0.1440, grad=0.0000), Var(v=0.0925, grad=0.0000), Var(v=0.1421, grad=0.0000), Var(v=-0.1146, grad=0.0000), Var(v=-0.0996, grad=0.0000), Var(v=0.0953, grad=0.0000), Var(v=-0.0875, grad=0.0000), Var(v=-0.0845, grad=0.0000), Var(v=-0.0727, grad=0.0000), Var(v=-0.0366, grad=0.0000), Var(v=0.0673, grad=0.0000), Var(v=-0.1985, grad=0.0000), Var(v=-0.0572, grad=0.0000), Var(v=-0.1099, grad=0.0000), Var(v=-0.0627, grad=0.0000), Var(v=-0.0621, grad=0.0000), Var(v=0.0352, grad=0.0000), Var(v=-0.1095, grad=0.0000), Var(v=-0.0715, grad=0.0000), Var(v=0.0150, grad=0.0000), Var(v=0.0699, grad=0.0000), Var(v=0.0049, grad=0.0000), Var(v=0.0999, grad=0.0000), Var(v=0.0185, grad=0.0000), Var(v=-0.1081, grad=0.0000), Var(v=-0.0125, grad=0.0000), Var(v=-0.0570, grad=0.0000), Var(v=0.1210, grad=0.0000), Var(v=-0.0206, grad=0.0000), Var(v=0.0161, grad=0.0000), Var(v=0.0710, grad=0.0000), Var(v=-0.0111, grad=0.0000), Var(v=0.1839, grad=0.0000), Var(v=0.2040, grad=0.0000), Var(v=-0.1187, grad=0.0000), Var(v=-0.1511, grad=0.0000), Var(v=-0.0450, grad=0.0000), Var(v=-0.0102, grad=0.0000), Var(v=0.0536, grad=0.0000), Var(v=-0.0751, grad=0.0000), Var(v=-0.0883, grad=0.0000), Var(v=0.0537, grad=0.0000), Var(v=-0.0231, grad=0.0000), Var(v=-0.0550, grad=0.0000), Var(v=0.1345, grad=0.0000), Var(v=0.0498, grad=0.0000), Var(v=-0.0680, grad=0.0000), Var(v=0.0073, grad=0.0000)], [Var(v=0.1598, grad=0.0000), Var(v=0.0822, grad=0.0000), Var(v=0.1803, grad=0.0000), Var(v=-0.0817, grad=0.0000), Var(v=0.0399, grad=0.0000), Var(v=-0.0170, grad=0.0000), Var(v=0.0750, grad=0.0000), Var(v=0.1979, grad=0.0000), Var(v=0.0330, grad=0.0000), Var(v=0.0526, grad=0.0000), Var(v=0.1178, grad=0.0000), Var(v=0.1687, grad=0.0000), Var(v=0.0110, grad=0.0000), Var(v=-0.0213, grad=0.0000), Var(v=-0.0502, grad=0.0000), Var(v=-0.0708, grad=0.0000), Var(v=0.2172, grad=0.0000), Var(v=0.0496, grad=0.0000), Var(v=-0.0471, grad=0.0000), Var(v=0.1295, grad=0.0000), Var(v=0.1434, grad=0.0000), Var(v=-0.0374, grad=0.0000), Var(v=0.1686, grad=0.0000), Var(v=-0.0924, grad=0.0000), Var(v=-0.0817, grad=0.0000), Var(v=0.0433, grad=0.0000), Var(v=0.0352, grad=0.0000), Var(v=-0.0353, grad=0.0000), Var(v=0.1444, grad=0.0000), Var(v=-0.0311, grad=0.0000), Var(v=0.2194, grad=0.0000), Var(v=-0.0144, grad=0.0000), Var(v=-0.0004, grad=0.0000), Var(v=-0.1059, grad=0.0000), Var(v=0.2144, grad=0.0000), Var(v=-0.2675, grad=0.0000), Var(v=0.0161, grad=0.0000), Var(v=0.0696, grad=0.0000), Var(v=-0.1427, grad=0.0000), Var(v=-0.1355, grad=0.0000), Var(v=-0.1848, grad=0.0000), Var(v=0.0467, grad=0.0000), Var(v=0.0481, grad=0.0000), Var(v=-0.1719, grad=0.0000), Var(v=0.1023, grad=0.0000), Var(v=0.0144, grad=0.0000), Var(v=-0.1229, grad=0.0000), Var(v=0.1654, grad=0.0000), Var(v=0.0719, grad=0.0000), Var(v=-0.0762, grad=0.0000)], [Var(v=0.0393, grad=0.0000), Var(v=-0.0127, grad=0.0000), Var(v=-0.1224, grad=0.0000), Var(v=0.1438, grad=0.0000), Var(v=0.0436, grad=0.0000), Var(v=-0.0958, grad=0.0000), Var(v=0.0123, grad=0.0000), Var(v=-0.0353, grad=0.0000), Var(v=-0.0624, grad=0.0000), Var(v=-0.0497, grad=0.0000), Var(v=0.0773, grad=0.0000), Var(v=0.0741, grad=0.0000), Var(v=0.0627, grad=0.0000), Var(v=0.0003, grad=0.0000), Var(v=0.2590, grad=0.0000), Var(v=0.0776, grad=0.0000), Var(v=0.0025, grad=0.0000), Var(v=0.0857, grad=0.0000), Var(v=0.2174, grad=0.0000), Var(v=0.0740, grad=0.0000), Var(v=-0.0518, grad=0.0000), Var(v=0.1056, grad=0.0000), Var(v=-0.0170, grad=0.0000), Var(v=-0.1755, grad=0.0000), Var(v=0.0869, grad=0.0000), Var(v=0.0712, grad=0.0000), Var(v=-0.0950, grad=0.0000), Var(v=0.1108, grad=0.0000), Var(v=-0.1369, grad=0.0000), Var(v=0.1154, grad=0.0000), Var(v=-0.0486, grad=0.0000), Var(v=0.0380, grad=0.0000), Var(v=-0.1195, grad=0.0000), Var(v=0.0224, grad=0.0000), Var(v=0.0743, grad=0.0000), Var(v=0.0773, grad=0.0000), Var(v=-0.0724, grad=0.0000), Var(v=-0.0985, grad=0.0000), Var(v=-0.0384, grad=0.0000), Var(v=0.2761, grad=0.0000), Var(v=0.0980, grad=0.0000), Var(v=0.0807, grad=0.0000), Var(v=0.2132, grad=0.0000), Var(v=0.2336, grad=0.0000), Var(v=0.1734, grad=0.0000), Var(v=-0.0283, grad=0.0000), Var(v=-0.0914, grad=0.0000), Var(v=-0.0721, grad=0.0000), Var(v=-0.0430, grad=0.0000), Var(v=-0.1265, grad=0.0000)]] Biases: [Var(v=0.0000, grad=0.0000), Var(v=0.0000, grad=0.0000), Var(v=0.0000, grad=0.0000), Var(v=0.0000, grad=0.0000), Var(v=0.0000, grad=0.0000), Var(v=0.0000, grad=0.0000), Var(v=0.0000, grad=0.0000), Var(v=0.0000, grad=0.0000), Var(v=0.0000, grad=0.0000), Var(v=0.0000, grad=0.0000), Var(v=0.0000, grad=0.0000), Var(v=0.0000, grad=0.0000), Var(v=0.0000, grad=0.0000), Var(v=0.0000, grad=0.0000), Var(v=0.0000, grad=0.0000), Var(v=0.0000, grad=0.0000), Var(v=0.0000, grad=0.0000), Var(v=0.0000, grad=0.0000), Var(v=0.0000, grad=0.0000), Var(v=0.0000, grad=0.0000), Var(v=0.0000, grad=0.0000), Var(v=0.0000, grad=0.0000), Var(v=0.0000, grad=0.0000), Var(v=0.0000, grad=0.0000), Var(v=0.0000, grad=0.0000), Var(v=0.0000, grad=0.0000), Var(v=0.0000, grad=0.0000), Var(v=0.0000, grad=0.0000), Var(v=0.0000, grad=0.0000), Var(v=0.0000, grad=0.0000), Var(v=0.0000, grad=0.0000), Var(v=0.0000, grad=0.0000), Var(v=0.0000, grad=0.0000), Var(v=0.0000, grad=0.0000), Var(v=0.0000, grad=0.0000), Var(v=0.0000, grad=0.0000), Var(v=0.0000, grad=0.0000), Var(v=0.0000, grad=0.0000), Var(v=0.0000, grad=0.0000), Var(v=0.0000, grad=0.0000), Var(v=0.0000, grad=0.0000), Var(v=0.0000, grad=0.0000), Var(v=0.0000, grad=0.0000), Var(v=0.0000, grad=0.0000), Var(v=0.0000, grad=0.0000), Var(v=0.0000, grad=0.0000), Var(v=0.0000, grad=0.0000), Var(v=0.0000, grad=0.0000), Var(v=0.0000, grad=0.0000), Var(v=0.0000, grad=0.0000)]\n",
      "Layer 2 \n",
      " Weights: [[Var(v=0.0156, grad=0.0000)], [Var(v=-0.0255, grad=0.0000)], [Var(v=0.0125, grad=0.0000)], [Var(v=0.1007, grad=0.0000)], [Var(v=-0.0018, grad=0.0000)], [Var(v=-0.0073, grad=0.0000)], [Var(v=-0.0598, grad=0.0000)], [Var(v=-0.0222, grad=0.0000)], [Var(v=0.0222, grad=0.0000)], [Var(v=0.0092, grad=0.0000)], [Var(v=-0.0130, grad=0.0000)], [Var(v=0.0241, grad=0.0000)], [Var(v=-0.0768, grad=0.0000)], [Var(v=-0.1679, grad=0.0000)], [Var(v=-0.0915, grad=0.0000)], [Var(v=-0.2319, grad=0.0000)], [Var(v=0.0705, grad=0.0000)], [Var(v=-0.0066, grad=0.0000)], [Var(v=0.1528, grad=0.0000)], [Var(v=0.2079, grad=0.0000)], [Var(v=-0.1633, grad=0.0000)], [Var(v=0.0311, grad=0.0000)], [Var(v=-0.2601, grad=0.0000)], [Var(v=0.1907, grad=0.0000)], [Var(v=-0.0165, grad=0.0000)], [Var(v=-0.1059, grad=0.0000)], [Var(v=-0.0258, grad=0.0000)], [Var(v=-0.0229, grad=0.0000)], [Var(v=-0.1685, grad=0.0000)], [Var(v=0.1000, grad=0.0000)], [Var(v=-0.0050, grad=0.0000)], [Var(v=-0.1876, grad=0.0000)], [Var(v=-0.1425, grad=0.0000)], [Var(v=0.0475, grad=0.0000)], [Var(v=-0.0594, grad=0.0000)], [Var(v=-0.0066, grad=0.0000)], [Var(v=-0.1830, grad=0.0000)], [Var(v=-0.0017, grad=0.0000)], [Var(v=-0.0802, grad=0.0000)], [Var(v=0.1402, grad=0.0000)], [Var(v=-0.0765, grad=0.0000)], [Var(v=-0.0130, grad=0.0000)], [Var(v=0.1019, grad=0.0000)], [Var(v=0.0248, grad=0.0000)], [Var(v=0.0128, grad=0.0000)], [Var(v=-0.0072, grad=0.0000)], [Var(v=0.0596, grad=0.0000)], [Var(v=0.0397, grad=0.0000)], [Var(v=-0.1775, grad=0.0000)], [Var(v=0.0501, grad=0.0000)]] Biases: [Var(v=0.0000, grad=0.0000)]\n",
      "\n",
      "Network after zeroing gradients:\n",
      "Layer 0 \n",
      " Weights: [[Var(v=0.1898, grad=0.0000), Var(v=0.0812, grad=0.0000), Var(v=0.0083, grad=0.0000), Var(v=0.0032, grad=0.0000), Var(v=-0.1654, grad=0.0000), Var(v=0.0194, grad=0.0000), Var(v=-0.0218, grad=0.0000), Var(v=-0.2620, grad=0.0000), Var(v=-0.0352, grad=0.0000), Var(v=0.0513, grad=0.0000), Var(v=-0.1256, grad=0.0000), Var(v=0.0273, grad=0.0000), Var(v=-0.0227, grad=0.0000), Var(v=-0.0496, grad=0.0000), Var(v=0.1561, grad=0.0000)]] Biases: [Var(v=0.0000, grad=0.0000), Var(v=0.0000, grad=0.0000), Var(v=0.0000, grad=0.0000), Var(v=0.0000, grad=0.0000), Var(v=0.0000, grad=0.0000), Var(v=0.0000, grad=0.0000), Var(v=0.0000, grad=0.0000), Var(v=0.0000, grad=0.0000), Var(v=0.0000, grad=0.0000), Var(v=0.0000, grad=0.0000), Var(v=0.0000, grad=0.0000), Var(v=0.0000, grad=0.0000), Var(v=0.0000, grad=0.0000), Var(v=0.0000, grad=0.0000), Var(v=0.0000, grad=0.0000)]\n",
      "Layer 1 \n",
      " Weights: [[Var(v=0.0368, grad=0.0000), Var(v=0.0567, grad=0.0000), Var(v=0.0216, grad=0.0000), Var(v=-0.0879, grad=0.0000), Var(v=0.0667, grad=0.0000), Var(v=-0.1277, grad=0.0000), Var(v=0.1136, grad=0.0000), Var(v=0.0064, grad=0.0000), Var(v=0.0671, grad=0.0000), Var(v=-0.0424, grad=0.0000), Var(v=0.1072, grad=0.0000), Var(v=-0.1283, grad=0.0000), Var(v=0.1097, grad=0.0000), Var(v=-0.0407, grad=0.0000), Var(v=-0.0022, grad=0.0000), Var(v=0.0171, grad=0.0000), Var(v=-0.1214, grad=0.0000), Var(v=-0.2462, grad=0.0000), Var(v=0.0421, grad=0.0000), Var(v=-0.1115, grad=0.0000), Var(v=0.0789, grad=0.0000), Var(v=0.0387, grad=0.0000), Var(v=0.0129, grad=0.0000), Var(v=0.1425, grad=0.0000), Var(v=0.0057, grad=0.0000), Var(v=-0.0091, grad=0.0000), Var(v=-0.1452, grad=0.0000), Var(v=0.0425, grad=0.0000), Var(v=-0.0965, grad=0.0000), Var(v=-0.0345, grad=0.0000), Var(v=0.0555, grad=0.0000), Var(v=0.1054, grad=0.0000), Var(v=-0.1086, grad=0.0000), Var(v=0.0320, grad=0.0000), Var(v=0.1721, grad=0.0000), Var(v=0.0911, grad=0.0000), Var(v=0.0129, grad=0.0000), Var(v=-0.1353, grad=0.0000), Var(v=-0.1581, grad=0.0000), Var(v=0.1118, grad=0.0000), Var(v=-0.0079, grad=0.0000), Var(v=-0.0181, grad=0.0000), Var(v=-0.0527, grad=0.0000), Var(v=0.0546, grad=0.0000), Var(v=0.0311, grad=0.0000), Var(v=-0.0973, grad=0.0000), Var(v=-0.0838, grad=0.0000), Var(v=0.0053, grad=0.0000), Var(v=-0.0478, grad=0.0000), Var(v=-0.1417, grad=0.0000)], [Var(v=0.1271, grad=0.0000), Var(v=0.2597, grad=0.0000), Var(v=0.0319, grad=0.0000), Var(v=-0.1088, grad=0.0000), Var(v=-0.0252, grad=0.0000), Var(v=0.1259, grad=0.0000), Var(v=-0.1103, grad=0.0000), Var(v=0.0100, grad=0.0000), Var(v=0.1434, grad=0.0000), Var(v=-0.0969, grad=0.0000), Var(v=0.2013, grad=0.0000), Var(v=0.0378, grad=0.0000), Var(v=0.0875, grad=0.0000), Var(v=-0.0011, grad=0.0000), Var(v=-0.0597, grad=0.0000), Var(v=-0.0989, grad=0.0000), Var(v=0.0952, grad=0.0000), Var(v=0.1783, grad=0.0000), Var(v=-0.0655, grad=0.0000), Var(v=-0.0815, grad=0.0000), Var(v=0.0780, grad=0.0000), Var(v=-0.0387, grad=0.0000), Var(v=0.0224, grad=0.0000), Var(v=-0.1627, grad=0.0000), Var(v=-0.1653, grad=0.0000), Var(v=0.0482, grad=0.0000), Var(v=0.0109, grad=0.0000), Var(v=0.0169, grad=0.0000), Var(v=-0.1394, grad=0.0000), Var(v=0.1271, grad=0.0000), Var(v=0.1325, grad=0.0000), Var(v=0.0338, grad=0.0000), Var(v=0.1121, grad=0.0000), Var(v=0.0345, grad=0.0000), Var(v=-0.1302, grad=0.0000), Var(v=-0.0219, grad=0.0000), Var(v=-0.1620, grad=0.0000), Var(v=0.0374, grad=0.0000), Var(v=0.0761, grad=0.0000), Var(v=-0.1544, grad=0.0000), Var(v=0.0479, grad=0.0000), Var(v=-0.1538, grad=0.0000), Var(v=-0.0567, grad=0.0000), Var(v=-0.1769, grad=0.0000), Var(v=0.0841, grad=0.0000), Var(v=0.0654, grad=0.0000), Var(v=0.0136, grad=0.0000), Var(v=0.1320, grad=0.0000), Var(v=-0.0923, grad=0.0000), Var(v=-0.0596, grad=0.0000)], [Var(v=-0.0769, grad=0.0000), Var(v=0.1366, grad=0.0000), Var(v=-0.0974, grad=0.0000), Var(v=-0.0082, grad=0.0000), Var(v=0.1831, grad=0.0000), Var(v=0.1802, grad=0.0000), Var(v=0.0434, grad=0.0000), Var(v=0.0447, grad=0.0000), Var(v=0.0315, grad=0.0000), Var(v=-0.1239, grad=0.0000), Var(v=-0.1124, grad=0.0000), Var(v=0.1324, grad=0.0000), Var(v=0.1144, grad=0.0000), Var(v=0.0929, grad=0.0000), Var(v=-0.0295, grad=0.0000), Var(v=0.1332, grad=0.0000), Var(v=-0.0196, grad=0.0000), Var(v=-0.0426, grad=0.0000), Var(v=-0.0150, grad=0.0000), Var(v=-0.0419, grad=0.0000), Var(v=0.0327, grad=0.0000), Var(v=-0.0425, grad=0.0000), Var(v=-0.0200, grad=0.0000), Var(v=0.1804, grad=0.0000), Var(v=0.0839, grad=0.0000), Var(v=-0.0342, grad=0.0000), Var(v=0.0669, grad=0.0000), Var(v=-0.0550, grad=0.0000), Var(v=0.0435, grad=0.0000), Var(v=0.1999, grad=0.0000), Var(v=0.0125, grad=0.0000), Var(v=-0.0775, grad=0.0000), Var(v=0.0628, grad=0.0000), Var(v=0.1308, grad=0.0000), Var(v=0.0283, grad=0.0000), Var(v=0.0046, grad=0.0000), Var(v=-0.0730, grad=0.0000), Var(v=0.0717, grad=0.0000), Var(v=0.0140, grad=0.0000), Var(v=-0.1057, grad=0.0000), Var(v=-0.1449, grad=0.0000), Var(v=0.0393, grad=0.0000), Var(v=-0.0190, grad=0.0000), Var(v=-0.0865, grad=0.0000), Var(v=-0.0123, grad=0.0000), Var(v=-0.0080, grad=0.0000), Var(v=0.0590, grad=0.0000), Var(v=0.2426, grad=0.0000), Var(v=-0.1389, grad=0.0000), Var(v=0.0087, grad=0.0000)], [Var(v=-0.0842, grad=0.0000), Var(v=-0.0165, grad=0.0000), Var(v=-0.0417, grad=0.0000), Var(v=-0.0677, grad=0.0000), Var(v=0.0667, grad=0.0000), Var(v=-0.0155, grad=0.0000), Var(v=0.0300, grad=0.0000), Var(v=-0.1729, grad=0.0000), Var(v=0.2634, grad=0.0000), Var(v=0.2327, grad=0.0000), Var(v=0.0105, grad=0.0000), Var(v=-0.0616, grad=0.0000), Var(v=0.2373, grad=0.0000), Var(v=0.1488, grad=0.0000), Var(v=-0.1125, grad=0.0000), Var(v=-0.0271, grad=0.0000), Var(v=-0.1176, grad=0.0000), Var(v=-0.0703, grad=0.0000), Var(v=-0.0402, grad=0.0000), Var(v=0.0191, grad=0.0000), Var(v=-0.0203, grad=0.0000), Var(v=-0.0039, grad=0.0000), Var(v=0.0132, grad=0.0000), Var(v=-0.0129, grad=0.0000), Var(v=0.1619, grad=0.0000), Var(v=0.0134, grad=0.0000), Var(v=-0.0113, grad=0.0000), Var(v=0.1030, grad=0.0000), Var(v=-0.0627, grad=0.0000), Var(v=0.0455, grad=0.0000), Var(v=-0.1887, grad=0.0000), Var(v=-0.0257, grad=0.0000), Var(v=0.1917, grad=0.0000), Var(v=-0.0067, grad=0.0000), Var(v=-0.0814, grad=0.0000), Var(v=-0.1739, grad=0.0000), Var(v=-0.0342, grad=0.0000), Var(v=0.1125, grad=0.0000), Var(v=0.0943, grad=0.0000), Var(v=0.0176, grad=0.0000), Var(v=0.2041, grad=0.0000), Var(v=0.0098, grad=0.0000), Var(v=-0.0089, grad=0.0000), Var(v=-0.0386, grad=0.0000), Var(v=-0.1148, grad=0.0000), Var(v=0.1388, grad=0.0000), Var(v=-0.0509, grad=0.0000), Var(v=0.1063, grad=0.0000), Var(v=0.0496, grad=0.0000), Var(v=-0.0524, grad=0.0000)], [Var(v=0.1533, grad=0.0000), Var(v=0.0442, grad=0.0000), Var(v=0.0004, grad=0.0000), Var(v=-0.0469, grad=0.0000), Var(v=-0.0380, grad=0.0000), Var(v=0.0320, grad=0.0000), Var(v=0.0619, grad=0.0000), Var(v=0.1147, grad=0.0000), Var(v=0.1854, grad=0.0000), Var(v=0.0196, grad=0.0000), Var(v=0.1435, grad=0.0000), Var(v=-0.2069, grad=0.0000), Var(v=0.0393, grad=0.0000), Var(v=0.1481, grad=0.0000), Var(v=-0.0968, grad=0.0000), Var(v=-0.0922, grad=0.0000), Var(v=0.0082, grad=0.0000), Var(v=-0.1918, grad=0.0000), Var(v=-0.0744, grad=0.0000), Var(v=0.0040, grad=0.0000), Var(v=-0.2199, grad=0.0000), Var(v=-0.1444, grad=0.0000), Var(v=0.1674, grad=0.0000), Var(v=0.0012, grad=0.0000), Var(v=-0.0012, grad=0.0000), Var(v=0.0702, grad=0.0000), Var(v=-0.0291, grad=0.0000), Var(v=-0.1083, grad=0.0000), Var(v=-0.0430, grad=0.0000), Var(v=0.0468, grad=0.0000), Var(v=0.0058, grad=0.0000), Var(v=0.2843, grad=0.0000), Var(v=-0.0700, grad=0.0000), Var(v=-0.0592, grad=0.0000), Var(v=0.2117, grad=0.0000), Var(v=-0.0113, grad=0.0000), Var(v=-0.0693, grad=0.0000), Var(v=0.1605, grad=0.0000), Var(v=-0.0022, grad=0.0000), Var(v=-0.1425, grad=0.0000), Var(v=0.0199, grad=0.0000), Var(v=0.0671, grad=0.0000), Var(v=-0.0686, grad=0.0000), Var(v=-0.1486, grad=0.0000), Var(v=-0.0015, grad=0.0000), Var(v=-0.0479, grad=0.0000), Var(v=-0.0130, grad=0.0000), Var(v=-0.0080, grad=0.0000), Var(v=-0.1173, grad=0.0000), Var(v=-0.0626, grad=0.0000)], [Var(v=-0.1617, grad=0.0000), Var(v=0.0983, grad=0.0000), Var(v=0.0426, grad=0.0000), Var(v=0.1097, grad=0.0000), Var(v=-0.0227, grad=0.0000), Var(v=-0.1658, grad=0.0000), Var(v=-0.0516, grad=0.0000), Var(v=0.0299, grad=0.0000), Var(v=0.0374, grad=0.0000), Var(v=-0.0257, grad=0.0000), Var(v=0.1305, grad=0.0000), Var(v=-0.0718, grad=0.0000), Var(v=-0.1268, grad=0.0000), Var(v=-0.0330, grad=0.0000), Var(v=-0.0083, grad=0.0000), Var(v=-0.0419, grad=0.0000), Var(v=0.0238, grad=0.0000), Var(v=-0.1436, grad=0.0000), Var(v=0.0126, grad=0.0000), Var(v=-0.0219, grad=0.0000), Var(v=-0.1477, grad=0.0000), Var(v=-0.0488, grad=0.0000), Var(v=0.0143, grad=0.0000), Var(v=0.1674, grad=0.0000), Var(v=-0.0272, grad=0.0000), Var(v=0.0303, grad=0.0000), Var(v=0.1898, grad=0.0000), Var(v=-0.1061, grad=0.0000), Var(v=0.1760, grad=0.0000), Var(v=-0.1642, grad=0.0000), Var(v=-0.1476, grad=0.0000), Var(v=-0.1469, grad=0.0000), Var(v=0.0240, grad=0.0000), Var(v=-0.0338, grad=0.0000), Var(v=0.1002, grad=0.0000), Var(v=0.0017, grad=0.0000), Var(v=-0.0229, grad=0.0000), Var(v=0.0639, grad=0.0000), Var(v=-0.0103, grad=0.0000), Var(v=-0.0177, grad=0.0000), Var(v=-0.1614, grad=0.0000), Var(v=0.0242, grad=0.0000), Var(v=0.1577, grad=0.0000), Var(v=-0.1460, grad=0.0000), Var(v=-0.2093, grad=0.0000), Var(v=-0.0583, grad=0.0000), Var(v=0.0142, grad=0.0000), Var(v=-0.0631, grad=0.0000), Var(v=-0.0028, grad=0.0000), Var(v=-0.2064, grad=0.0000)], [Var(v=-0.0231, grad=0.0000), Var(v=0.0505, grad=0.0000), Var(v=-0.1773, grad=0.0000), Var(v=0.0212, grad=0.0000), Var(v=-0.0138, grad=0.0000), Var(v=0.0585, grad=0.0000), Var(v=-0.0542, grad=0.0000), Var(v=0.1137, grad=0.0000), Var(v=0.0226, grad=0.0000), Var(v=0.2275, grad=0.0000), Var(v=-0.0275, grad=0.0000), Var(v=-0.0802, grad=0.0000), Var(v=-0.0127, grad=0.0000), Var(v=0.1451, grad=0.0000), Var(v=0.0372, grad=0.0000), Var(v=-0.0066, grad=0.0000), Var(v=0.1452, grad=0.0000), Var(v=-0.0605, grad=0.0000), Var(v=-0.0464, grad=0.0000), Var(v=-0.0663, grad=0.0000), Var(v=0.1218, grad=0.0000), Var(v=-0.1374, grad=0.0000), Var(v=-0.0195, grad=0.0000), Var(v=-0.1064, grad=0.0000), Var(v=-0.0384, grad=0.0000), Var(v=-0.0818, grad=0.0000), Var(v=0.1439, grad=0.0000), Var(v=-0.0112, grad=0.0000), Var(v=0.0132, grad=0.0000), Var(v=0.0168, grad=0.0000), Var(v=0.0893, grad=0.0000), Var(v=0.0379, grad=0.0000), Var(v=-0.0619, grad=0.0000), Var(v=0.1254, grad=0.0000), Var(v=-0.0851, grad=0.0000), Var(v=0.2229, grad=0.0000), Var(v=-0.3044, grad=0.0000), Var(v=-0.1392, grad=0.0000), Var(v=0.0825, grad=0.0000), Var(v=0.0480, grad=0.0000), Var(v=-0.2229, grad=0.0000), Var(v=0.0426, grad=0.0000), Var(v=0.0047, grad=0.0000), Var(v=-0.0165, grad=0.0000), Var(v=0.1425, grad=0.0000), Var(v=-0.1306, grad=0.0000), Var(v=0.0922, grad=0.0000), Var(v=0.0623, grad=0.0000), Var(v=-0.1483, grad=0.0000), Var(v=0.0966, grad=0.0000)], [Var(v=0.0419, grad=0.0000), Var(v=0.0053, grad=0.0000), Var(v=0.0700, grad=0.0000), Var(v=-0.0058, grad=0.0000), Var(v=0.2298, grad=0.0000), Var(v=-0.1069, grad=0.0000), Var(v=-0.0154, grad=0.0000), Var(v=-0.0269, grad=0.0000), Var(v=-0.0808, grad=0.0000), Var(v=-0.0815, grad=0.0000), Var(v=-0.0924, grad=0.0000), Var(v=0.1313, grad=0.0000), Var(v=0.1573, grad=0.0000), Var(v=0.2208, grad=0.0000), Var(v=-0.0263, grad=0.0000), Var(v=0.1180, grad=0.0000), Var(v=-0.0143, grad=0.0000), Var(v=0.0580, grad=0.0000), Var(v=0.0470, grad=0.0000), Var(v=0.1480, grad=0.0000), Var(v=0.0227, grad=0.0000), Var(v=0.0679, grad=0.0000), Var(v=0.1208, grad=0.0000), Var(v=0.0925, grad=0.0000), Var(v=-0.0142, grad=0.0000), Var(v=0.2101, grad=0.0000), Var(v=0.0298, grad=0.0000), Var(v=-0.0325, grad=0.0000), Var(v=-0.0620, grad=0.0000), Var(v=0.0794, grad=0.0000), Var(v=0.0689, grad=0.0000), Var(v=0.1639, grad=0.0000), Var(v=0.0900, grad=0.0000), Var(v=-0.0308, grad=0.0000), Var(v=0.0877, grad=0.0000), Var(v=0.1583, grad=0.0000), Var(v=-0.0767, grad=0.0000), Var(v=0.1023, grad=0.0000), Var(v=-0.1835, grad=0.0000), Var(v=-0.0225, grad=0.0000), Var(v=-0.0550, grad=0.0000), Var(v=-0.1204, grad=0.0000), Var(v=-0.0488, grad=0.0000), Var(v=0.0426, grad=0.0000), Var(v=0.1315, grad=0.0000), Var(v=-0.0568, grad=0.0000), Var(v=0.0146, grad=0.0000), Var(v=0.0639, grad=0.0000), Var(v=0.0460, grad=0.0000), Var(v=-0.0454, grad=0.0000)], [Var(v=-0.0386, grad=0.0000), Var(v=0.0851, grad=0.0000), Var(v=-0.0312, grad=0.0000), Var(v=-0.0342, grad=0.0000), Var(v=-0.0150, grad=0.0000), Var(v=0.0111, grad=0.0000), Var(v=0.1009, grad=0.0000), Var(v=0.0678, grad=0.0000), Var(v=-0.1238, grad=0.0000), Var(v=0.0095, grad=0.0000), Var(v=0.3586, grad=0.0000), Var(v=0.1263, grad=0.0000), Var(v=-0.1658, grad=0.0000), Var(v=-0.0499, grad=0.0000), Var(v=0.1139, grad=0.0000), Var(v=-0.0194, grad=0.0000), Var(v=0.0993, grad=0.0000), Var(v=-0.0153, grad=0.0000), Var(v=0.0643, grad=0.0000), Var(v=-0.0012, grad=0.0000), Var(v=0.1000, grad=0.0000), Var(v=-0.0531, grad=0.0000), Var(v=-0.0448, grad=0.0000), Var(v=0.0248, grad=0.0000), Var(v=0.1902, grad=0.0000), Var(v=0.0605, grad=0.0000), Var(v=0.1561, grad=0.0000), Var(v=-0.0383, grad=0.0000), Var(v=-0.0217, grad=0.0000), Var(v=-0.1123, grad=0.0000), Var(v=0.1054, grad=0.0000), Var(v=0.0119, grad=0.0000), Var(v=0.0226, grad=0.0000), Var(v=0.0867, grad=0.0000), Var(v=0.0111, grad=0.0000), Var(v=0.1525, grad=0.0000), Var(v=0.0404, grad=0.0000), Var(v=-0.0177, grad=0.0000), Var(v=0.0282, grad=0.0000), Var(v=0.1021, grad=0.0000), Var(v=-0.0479, grad=0.0000), Var(v=0.0037, grad=0.0000), Var(v=0.1062, grad=0.0000), Var(v=-0.1376, grad=0.0000), Var(v=-0.0957, grad=0.0000), Var(v=0.0807, grad=0.0000), Var(v=-0.0401, grad=0.0000), Var(v=-0.1197, grad=0.0000), Var(v=0.0085, grad=0.0000), Var(v=0.0493, grad=0.0000)], [Var(v=0.1550, grad=0.0000), Var(v=0.2001, grad=0.0000), Var(v=0.0188, grad=0.0000), Var(v=-0.0437, grad=0.0000), Var(v=0.1230, grad=0.0000), Var(v=-0.0522, grad=0.0000), Var(v=0.0265, grad=0.0000), Var(v=-0.1818, grad=0.0000), Var(v=-0.1247, grad=0.0000), Var(v=-0.2259, grad=0.0000), Var(v=-0.0311, grad=0.0000), Var(v=-0.0041, grad=0.0000), Var(v=0.1956, grad=0.0000), Var(v=0.0579, grad=0.0000), Var(v=0.0560, grad=0.0000), Var(v=-0.0713, grad=0.0000), Var(v=-0.1578, grad=0.0000), Var(v=-0.0429, grad=0.0000), Var(v=0.0269, grad=0.0000), Var(v=-0.0706, grad=0.0000), Var(v=0.0444, grad=0.0000), Var(v=0.1692, grad=0.0000), Var(v=0.0032, grad=0.0000), Var(v=0.0184, grad=0.0000), Var(v=0.0005, grad=0.0000), Var(v=-0.0126, grad=0.0000), Var(v=0.1663, grad=0.0000), Var(v=-0.0446, grad=0.0000), Var(v=0.0677, grad=0.0000), Var(v=-0.0986, grad=0.0000), Var(v=0.0536, grad=0.0000), Var(v=-0.1775, grad=0.0000), Var(v=-0.1669, grad=0.0000), Var(v=-0.0455, grad=0.0000), Var(v=0.1640, grad=0.0000), Var(v=-0.0043, grad=0.0000), Var(v=0.0761, grad=0.0000), Var(v=-0.0636, grad=0.0000), Var(v=0.0157, grad=0.0000), Var(v=-0.0267, grad=0.0000), Var(v=-0.2411, grad=0.0000), Var(v=0.0124, grad=0.0000), Var(v=0.0242, grad=0.0000), Var(v=0.0912, grad=0.0000), Var(v=0.0699, grad=0.0000), Var(v=0.0749, grad=0.0000), Var(v=0.0182, grad=0.0000), Var(v=-0.0053, grad=0.0000), Var(v=0.0578, grad=0.0000), Var(v=-0.0174, grad=0.0000)], [Var(v=0.2057, grad=0.0000), Var(v=0.0580, grad=0.0000), Var(v=0.0389, grad=0.0000), Var(v=-0.0061, grad=0.0000), Var(v=-0.0033, grad=0.0000), Var(v=0.0992, grad=0.0000), Var(v=-0.0768, grad=0.0000), Var(v=-0.0321, grad=0.0000), Var(v=0.0774, grad=0.0000), Var(v=-0.1334, grad=0.0000), Var(v=0.1041, grad=0.0000), Var(v=0.0276, grad=0.0000), Var(v=0.1006, grad=0.0000), Var(v=0.0738, grad=0.0000), Var(v=-0.0297, grad=0.0000), Var(v=0.0900, grad=0.0000), Var(v=0.0314, grad=0.0000), Var(v=0.0277, grad=0.0000), Var(v=0.0597, grad=0.0000), Var(v=0.0921, grad=0.0000), Var(v=0.0111, grad=0.0000), Var(v=0.0834, grad=0.0000), Var(v=-0.1341, grad=0.0000), Var(v=-0.0164, grad=0.0000), Var(v=0.0782, grad=0.0000), Var(v=0.1129, grad=0.0000), Var(v=0.1807, grad=0.0000), Var(v=0.0706, grad=0.0000), Var(v=0.0084, grad=0.0000), Var(v=0.1167, grad=0.0000), Var(v=0.0765, grad=0.0000), Var(v=0.1495, grad=0.0000), Var(v=0.0300, grad=0.0000), Var(v=-0.0259, grad=0.0000), Var(v=-0.1645, grad=0.0000), Var(v=-0.1639, grad=0.0000), Var(v=-0.0592, grad=0.0000), Var(v=-0.0546, grad=0.0000), Var(v=-0.0276, grad=0.0000), Var(v=-0.0404, grad=0.0000), Var(v=-0.0533, grad=0.0000), Var(v=-0.0808, grad=0.0000), Var(v=-0.0261, grad=0.0000), Var(v=-0.0176, grad=0.0000), Var(v=-0.0609, grad=0.0000), Var(v=-0.1180, grad=0.0000), Var(v=-0.1720, grad=0.0000), Var(v=-0.2085, grad=0.0000), Var(v=-0.0057, grad=0.0000), Var(v=-0.0121, grad=0.0000)], [Var(v=0.0011, grad=0.0000), Var(v=-0.1919, grad=0.0000), Var(v=0.0209, grad=0.0000), Var(v=-0.0470, grad=0.0000), Var(v=-0.0663, grad=0.0000), Var(v=-0.1055, grad=0.0000), Var(v=0.0280, grad=0.0000), Var(v=-0.0196, grad=0.0000), Var(v=-0.0182, grad=0.0000), Var(v=-0.0885, grad=0.0000), Var(v=0.1230, grad=0.0000), Var(v=0.0664, grad=0.0000), Var(v=0.0622, grad=0.0000), Var(v=-0.1418, grad=0.0000), Var(v=-0.1342, grad=0.0000), Var(v=0.0852, grad=0.0000), Var(v=-0.0358, grad=0.0000), Var(v=-0.0311, grad=0.0000), Var(v=-0.0444, grad=0.0000), Var(v=0.0430, grad=0.0000), Var(v=-0.0394, grad=0.0000), Var(v=0.0652, grad=0.0000), Var(v=0.0296, grad=0.0000), Var(v=-0.0651, grad=0.0000), Var(v=0.1346, grad=0.0000), Var(v=-0.1822, grad=0.0000), Var(v=0.0491, grad=0.0000), Var(v=0.0505, grad=0.0000), Var(v=-0.0423, grad=0.0000), Var(v=-0.0194, grad=0.0000), Var(v=0.0145, grad=0.0000), Var(v=0.0831, grad=0.0000), Var(v=0.0695, grad=0.0000), Var(v=-0.0677, grad=0.0000), Var(v=0.0902, grad=0.0000), Var(v=-0.1041, grad=0.0000), Var(v=0.0474, grad=0.0000), Var(v=0.2290, grad=0.0000), Var(v=0.1004, grad=0.0000), Var(v=0.1723, grad=0.0000), Var(v=-0.0546, grad=0.0000), Var(v=-0.0449, grad=0.0000), Var(v=-0.0877, grad=0.0000), Var(v=0.1256, grad=0.0000), Var(v=0.1122, grad=0.0000), Var(v=0.0490, grad=0.0000), Var(v=0.0190, grad=0.0000), Var(v=-0.1067, grad=0.0000), Var(v=0.0062, grad=0.0000), Var(v=-0.0808, grad=0.0000)], [Var(v=0.0407, grad=0.0000), Var(v=0.1072, grad=0.0000), Var(v=0.1440, grad=0.0000), Var(v=0.0925, grad=0.0000), Var(v=0.1421, grad=0.0000), Var(v=-0.1146, grad=0.0000), Var(v=-0.0996, grad=0.0000), Var(v=0.0953, grad=0.0000), Var(v=-0.0875, grad=0.0000), Var(v=-0.0845, grad=0.0000), Var(v=-0.0727, grad=0.0000), Var(v=-0.0366, grad=0.0000), Var(v=0.0673, grad=0.0000), Var(v=-0.1985, grad=0.0000), Var(v=-0.0572, grad=0.0000), Var(v=-0.1099, grad=0.0000), Var(v=-0.0627, grad=0.0000), Var(v=-0.0621, grad=0.0000), Var(v=0.0352, grad=0.0000), Var(v=-0.1095, grad=0.0000), Var(v=-0.0715, grad=0.0000), Var(v=0.0150, grad=0.0000), Var(v=0.0699, grad=0.0000), Var(v=0.0049, grad=0.0000), Var(v=0.0999, grad=0.0000), Var(v=0.0185, grad=0.0000), Var(v=-0.1081, grad=0.0000), Var(v=-0.0125, grad=0.0000), Var(v=-0.0570, grad=0.0000), Var(v=0.1210, grad=0.0000), Var(v=-0.0206, grad=0.0000), Var(v=0.0161, grad=0.0000), Var(v=0.0710, grad=0.0000), Var(v=-0.0111, grad=0.0000), Var(v=0.1839, grad=0.0000), Var(v=0.2040, grad=0.0000), Var(v=-0.1187, grad=0.0000), Var(v=-0.1511, grad=0.0000), Var(v=-0.0450, grad=0.0000), Var(v=-0.0102, grad=0.0000), Var(v=0.0536, grad=0.0000), Var(v=-0.0751, grad=0.0000), Var(v=-0.0883, grad=0.0000), Var(v=0.0537, grad=0.0000), Var(v=-0.0231, grad=0.0000), Var(v=-0.0550, grad=0.0000), Var(v=0.1345, grad=0.0000), Var(v=0.0498, grad=0.0000), Var(v=-0.0680, grad=0.0000), Var(v=0.0073, grad=0.0000)], [Var(v=0.1598, grad=0.0000), Var(v=0.0822, grad=0.0000), Var(v=0.1803, grad=0.0000), Var(v=-0.0817, grad=0.0000), Var(v=0.0399, grad=0.0000), Var(v=-0.0170, grad=0.0000), Var(v=0.0750, grad=0.0000), Var(v=0.1979, grad=0.0000), Var(v=0.0330, grad=0.0000), Var(v=0.0526, grad=0.0000), Var(v=0.1178, grad=0.0000), Var(v=0.1687, grad=0.0000), Var(v=0.0110, grad=0.0000), Var(v=-0.0213, grad=0.0000), Var(v=-0.0502, grad=0.0000), Var(v=-0.0708, grad=0.0000), Var(v=0.2172, grad=0.0000), Var(v=0.0496, grad=0.0000), Var(v=-0.0471, grad=0.0000), Var(v=0.1295, grad=0.0000), Var(v=0.1434, grad=0.0000), Var(v=-0.0374, grad=0.0000), Var(v=0.1686, grad=0.0000), Var(v=-0.0924, grad=0.0000), Var(v=-0.0817, grad=0.0000), Var(v=0.0433, grad=0.0000), Var(v=0.0352, grad=0.0000), Var(v=-0.0353, grad=0.0000), Var(v=0.1444, grad=0.0000), Var(v=-0.0311, grad=0.0000), Var(v=0.2194, grad=0.0000), Var(v=-0.0144, grad=0.0000), Var(v=-0.0004, grad=0.0000), Var(v=-0.1059, grad=0.0000), Var(v=0.2144, grad=0.0000), Var(v=-0.2675, grad=0.0000), Var(v=0.0161, grad=0.0000), Var(v=0.0696, grad=0.0000), Var(v=-0.1427, grad=0.0000), Var(v=-0.1355, grad=0.0000), Var(v=-0.1848, grad=0.0000), Var(v=0.0467, grad=0.0000), Var(v=0.0481, grad=0.0000), Var(v=-0.1719, grad=0.0000), Var(v=0.1023, grad=0.0000), Var(v=0.0144, grad=0.0000), Var(v=-0.1229, grad=0.0000), Var(v=0.1654, grad=0.0000), Var(v=0.0719, grad=0.0000), Var(v=-0.0762, grad=0.0000)], [Var(v=0.0393, grad=0.0000), Var(v=-0.0127, grad=0.0000), Var(v=-0.1224, grad=0.0000), Var(v=0.1438, grad=0.0000), Var(v=0.0436, grad=0.0000), Var(v=-0.0958, grad=0.0000), Var(v=0.0123, grad=0.0000), Var(v=-0.0353, grad=0.0000), Var(v=-0.0624, grad=0.0000), Var(v=-0.0497, grad=0.0000), Var(v=0.0773, grad=0.0000), Var(v=0.0741, grad=0.0000), Var(v=0.0627, grad=0.0000), Var(v=0.0003, grad=0.0000), Var(v=0.2590, grad=0.0000), Var(v=0.0776, grad=0.0000), Var(v=0.0025, grad=0.0000), Var(v=0.0857, grad=0.0000), Var(v=0.2174, grad=0.0000), Var(v=0.0740, grad=0.0000), Var(v=-0.0518, grad=0.0000), Var(v=0.1056, grad=0.0000), Var(v=-0.0170, grad=0.0000), Var(v=-0.1755, grad=0.0000), Var(v=0.0869, grad=0.0000), Var(v=0.0712, grad=0.0000), Var(v=-0.0950, grad=0.0000), Var(v=0.1108, grad=0.0000), Var(v=-0.1369, grad=0.0000), Var(v=0.1154, grad=0.0000), Var(v=-0.0486, grad=0.0000), Var(v=0.0380, grad=0.0000), Var(v=-0.1195, grad=0.0000), Var(v=0.0224, grad=0.0000), Var(v=0.0743, grad=0.0000), Var(v=0.0773, grad=0.0000), Var(v=-0.0724, grad=0.0000), Var(v=-0.0985, grad=0.0000), Var(v=-0.0384, grad=0.0000), Var(v=0.2761, grad=0.0000), Var(v=0.0980, grad=0.0000), Var(v=0.0807, grad=0.0000), Var(v=0.2132, grad=0.0000), Var(v=0.2336, grad=0.0000), Var(v=0.1734, grad=0.0000), Var(v=-0.0283, grad=0.0000), Var(v=-0.0914, grad=0.0000), Var(v=-0.0721, grad=0.0000), Var(v=-0.0430, grad=0.0000), Var(v=-0.1265, grad=0.0000)]] Biases: [Var(v=0.0000, grad=0.0000), Var(v=0.0000, grad=0.0000), Var(v=0.0000, grad=0.0000), Var(v=0.0000, grad=0.0000), Var(v=0.0000, grad=0.0000), Var(v=0.0000, grad=0.0000), Var(v=0.0000, grad=0.0000), Var(v=0.0000, grad=0.0000), Var(v=0.0000, grad=0.0000), Var(v=0.0000, grad=0.0000), Var(v=0.0000, grad=0.0000), Var(v=0.0000, grad=0.0000), Var(v=0.0000, grad=0.0000), Var(v=0.0000, grad=0.0000), Var(v=0.0000, grad=0.0000), Var(v=0.0000, grad=0.0000), Var(v=0.0000, grad=0.0000), Var(v=0.0000, grad=0.0000), Var(v=0.0000, grad=0.0000), Var(v=0.0000, grad=0.0000), Var(v=0.0000, grad=0.0000), Var(v=0.0000, grad=0.0000), Var(v=0.0000, grad=0.0000), Var(v=0.0000, grad=0.0000), Var(v=0.0000, grad=0.0000), Var(v=0.0000, grad=0.0000), Var(v=0.0000, grad=0.0000), Var(v=0.0000, grad=0.0000), Var(v=0.0000, grad=0.0000), Var(v=0.0000, grad=0.0000), Var(v=0.0000, grad=0.0000), Var(v=0.0000, grad=0.0000), Var(v=0.0000, grad=0.0000), Var(v=0.0000, grad=0.0000), Var(v=0.0000, grad=0.0000), Var(v=0.0000, grad=0.0000), Var(v=0.0000, grad=0.0000), Var(v=0.0000, grad=0.0000), Var(v=0.0000, grad=0.0000), Var(v=0.0000, grad=0.0000), Var(v=0.0000, grad=0.0000), Var(v=0.0000, grad=0.0000), Var(v=0.0000, grad=0.0000), Var(v=0.0000, grad=0.0000), Var(v=0.0000, grad=0.0000), Var(v=0.0000, grad=0.0000), Var(v=0.0000, grad=0.0000), Var(v=0.0000, grad=0.0000), Var(v=0.0000, grad=0.0000), Var(v=0.0000, grad=0.0000)]\n",
      "Layer 2 \n",
      " Weights: [[Var(v=0.0156, grad=0.0000)], [Var(v=-0.0255, grad=0.0000)], [Var(v=0.0125, grad=0.0000)], [Var(v=0.1007, grad=0.0000)], [Var(v=-0.0018, grad=0.0000)], [Var(v=-0.0073, grad=0.0000)], [Var(v=-0.0598, grad=0.0000)], [Var(v=-0.0222, grad=0.0000)], [Var(v=0.0222, grad=0.0000)], [Var(v=0.0092, grad=0.0000)], [Var(v=-0.0130, grad=0.0000)], [Var(v=0.0241, grad=0.0000)], [Var(v=-0.0768, grad=0.0000)], [Var(v=-0.1679, grad=0.0000)], [Var(v=-0.0915, grad=0.0000)], [Var(v=-0.2319, grad=0.0000)], [Var(v=0.0705, grad=0.0000)], [Var(v=-0.0066, grad=0.0000)], [Var(v=0.1528, grad=0.0000)], [Var(v=0.2079, grad=0.0000)], [Var(v=-0.1633, grad=0.0000)], [Var(v=0.0311, grad=0.0000)], [Var(v=-0.2601, grad=0.0000)], [Var(v=0.1907, grad=0.0000)], [Var(v=-0.0165, grad=0.0000)], [Var(v=-0.1059, grad=0.0000)], [Var(v=-0.0258, grad=0.0000)], [Var(v=-0.0229, grad=0.0000)], [Var(v=-0.1685, grad=0.0000)], [Var(v=0.1000, grad=0.0000)], [Var(v=-0.0050, grad=0.0000)], [Var(v=-0.1876, grad=0.0000)], [Var(v=-0.1425, grad=0.0000)], [Var(v=0.0475, grad=0.0000)], [Var(v=-0.0594, grad=0.0000)], [Var(v=-0.0066, grad=0.0000)], [Var(v=-0.1830, grad=0.0000)], [Var(v=-0.0017, grad=0.0000)], [Var(v=-0.0802, grad=0.0000)], [Var(v=0.1402, grad=0.0000)], [Var(v=-0.0765, grad=0.0000)], [Var(v=-0.0130, grad=0.0000)], [Var(v=0.1019, grad=0.0000)], [Var(v=0.0248, grad=0.0000)], [Var(v=0.0128, grad=0.0000)], [Var(v=-0.0072, grad=0.0000)], [Var(v=0.0596, grad=0.0000)], [Var(v=0.0397, grad=0.0000)], [Var(v=-0.1775, grad=0.0000)], [Var(v=0.0501, grad=0.0000)]] Biases: [Var(v=0.0000, grad=0.0000)]\n"
     ]
    },
    {
     "data": {
      "text/plain": [
       "[None, None, None]"
      ]
     },
     "execution_count": 147,
     "metadata": {},
     "output_type": "execute_result"
    }
   ],
   "execution_count": 147
  },
  {
   "cell_type": "code",
   "metadata": {
    "id": "woWYpdw6FtIO",
    "ExecuteTime": {
     "end_time": "2024-11-29T15:45:49.192366Z",
     "start_time": "2024-11-29T15:45:49.180154Z"
    }
   },
   "source": [
    "# Initialize an arbitrary neural network\n",
    "NN = [\n",
    "    DenseLayer(1, 8, lambda x: x.relu()),\n",
    "    DenseLayer(8, 1, lambda x: x.identity())\n",
    "]\n",
    "\n",
    "# Recommended hyper-parameters for 3-D:\n",
    "#NN = [\n",
    "#    DenseLayer(3, 16, lambda x: x.relu()),\n",
    "#    DenseLayer(16, 1, lambda x: x.identity())\n",
    "#]\n",
    "\n",
    "\n",
    "### Notice that, when we switch from tanh to relu activation, we decrease the learning rate. This is due the stability of the gradients\n",
    "## of the activation functions."
   ],
   "outputs": [],
   "execution_count": 148
  },
  {
   "cell_type": "code",
   "metadata": {
    "id": "mdqaqYBVFtIR",
    "ExecuteTime": {
     "end_time": "2024-11-29T15:45:49.210400Z",
     "start_time": "2024-11-29T15:45:49.198983Z"
    }
   },
   "source": [
    "# Initialize training hyperparameters\n",
    "EPOCHS = 200\n",
    "LEARN_R = 2e-3"
   ],
   "outputs": [],
   "execution_count": 149
  },
  {
   "cell_type": "code",
   "metadata": {
    "id": "5kfg76GMFtIW",
    "scrolled": true,
    "ExecuteTime": {
     "end_time": "2024-11-29T15:46:01.075721Z",
     "start_time": "2024-11-29T15:45:49.222956Z"
    }
   },
   "source": [
    "train_loss = []\n",
    "val_loss = []\n",
    "\n",
    "for e in range(EPOCHS):\n",
    "\n",
    "    # Forward pass and loss computation\n",
    "    Loss = squared_loss(y_train, forward(x_train, NN))\n",
    "\n",
    "    # Backward pass\n",
    "    Loss.backward()\n",
    "\n",
    "    # gradient descent update\n",
    "    update_parameters(parameters(NN), LEARN_R)\n",
    "    zero_gradients(parameters(NN))\n",
    "\n",
    "    # Training loss\n",
    "    train_loss.append(Loss.v)\n",
    "\n",
    "    # Validation\n",
    "    Loss_validation = squared_loss(y_validation, forward(x_validation, NN))\n",
    "    val_loss.append(Loss_validation.v)\n",
    "\n",
    "    if e%10==0:\n",
    "        print(\"{:4d}\".format(e),\n",
    "              \"({:5.2f}%)\".format(e/EPOCHS*100),\n",
    "              \"Train loss: {:4.3f} \\t Validation loss: {:4.3f}\".format(train_loss[-1], val_loss[-1]))\n",
    "\n"
   ],
   "outputs": [
    {
     "name": "stdout",
     "output_type": "stream",
     "text": [
      "   0 ( 0.00%) Train loss: 105.000 \t Validation loss: 107.757\n",
      "  10 ( 5.00%) Train loss: 105.000 \t Validation loss: 107.757\n",
      "  20 (10.00%) Train loss: 105.000 \t Validation loss: 107.757\n",
      "  30 (15.00%) Train loss: 105.000 \t Validation loss: 107.757\n",
      "  40 (20.00%) Train loss: 105.000 \t Validation loss: 107.757\n",
      "  50 (25.00%) Train loss: 105.000 \t Validation loss: 107.757\n",
      "  60 (30.00%) Train loss: 105.000 \t Validation loss: 107.757\n",
      "  70 (35.00%) Train loss: 105.000 \t Validation loss: 107.757\n",
      "  80 (40.00%) Train loss: 105.000 \t Validation loss: 107.757\n",
      "  90 (45.00%) Train loss: 105.000 \t Validation loss: 107.757\n",
      " 100 (50.00%) Train loss: 105.000 \t Validation loss: 107.757\n",
      " 110 (55.00%) Train loss: 105.000 \t Validation loss: 107.757\n",
      " 120 (60.00%) Train loss: 105.000 \t Validation loss: 107.757\n",
      " 130 (65.00%) Train loss: 105.000 \t Validation loss: 107.757\n",
      " 140 (70.00%) Train loss: 105.000 \t Validation loss: 107.757\n",
      " 150 (75.00%) Train loss: 105.000 \t Validation loss: 107.757\n",
      " 160 (80.00%) Train loss: 105.000 \t Validation loss: 107.757\n",
      " 170 (85.00%) Train loss: 105.000 \t Validation loss: 107.757\n",
      " 180 (90.00%) Train loss: 105.000 \t Validation loss: 107.757\n",
      " 190 (95.00%) Train loss: 105.000 \t Validation loss: 107.757\n"
     ]
    }
   ],
   "execution_count": 150
  },
  {
   "cell_type": "code",
   "metadata": {
    "id": "VetyRWFwFtIY",
    "ExecuteTime": {
     "end_time": "2024-11-29T15:46:01.331873Z",
     "start_time": "2024-11-29T15:46:01.078758Z"
    }
   },
   "source": [
    "plt.plot(range(len(train_loss)), train_loss);\n",
    "plt.plot(range(len(val_loss)), val_loss);"
   ],
   "outputs": [
    {
     "data": {
      "text/plain": [
       "<Figure size 640x480 with 1 Axes>"
      ],
      "image/png": "[encoded data removed]"
     },
     "metadata": {},
     "output_type": "display_data"
    }
   ],
   "execution_count": 151
  },
  {
   "cell_type": "markdown",
   "metadata": {
    "id": "8OgmIrM9FtIb"
   },
   "source": [
    "# Testing\n",
    "\n",
    "We have kept the calculation of the test error separate in order to emphasize that you should not use the test set in optimization."
   ]
  },
  {
   "cell_type": "code",
   "metadata": {
    "id": "HmNi7S-vFtIc",
    "ExecuteTime": {
     "end_time": "2024-11-29T15:46:01.355792Z",
     "start_time": "2024-11-29T15:46:01.335492Z"
    }
   },
   "source": [
    "output_test = forward(x_test, NN)"
   ],
   "outputs": [],
   "execution_count": 152
  },
  {
   "cell_type": "code",
   "metadata": {
    "id": "7mmJOTSEFtIf",
    "ExecuteTime": {
     "end_time": "2024-11-29T15:48:10.775099Z",
     "start_time": "2024-11-29T15:48:10.089697Z"
    }
   },
   "source": [
    "y_test_np = Var_to_nparray(y_test)\n",
    "plt.scatter(y_test_np, Var_to_nparray(output_test))\n",
    "plt.plot([np.min(y_test_np), np.max(y_test_np)], [np.min(y_test_np), np.max(y_test_np)], color='k')\n",
    "plt.xlabel(\"y\")\n",
    "plt.ylabel(\"$\\\\hat{y}$\")\n",
    "plt.title(\"Model prediction vs real in the test set, the close to the line the better\")\n",
    "plt.grid(True)\n",
    "plt.axis('equal')\n",
    "plt.tight_layout()\n",
    "\n",
    "Loss_test = squared_loss(y_test, forward(x_test, NN))\n",
    "\n",
    "print(\"Test loss:  {:4.3f}\".format(Loss_test.v))"
   ],
   "outputs": [
    {
     "name": "stdout",
     "output_type": "stream",
     "text": [
      "Test loss:  100.013\n"
     ]
    },
    {
     "data": {
      "text/plain": [
       "<Figure size 640x480 with 1 Axes>"
      ],
      "image/png": "[encoded data removed]"
     },
     "metadata": {},
     "output_type": "display_data"
    }
   ],
   "execution_count": 160
  },
  {
   "cell_type": "code",
   "metadata": {
    "id": "ODi0WlmQFtIh",
    "ExecuteTime": {
     "end_time": "2024-11-29T15:46:02.415496Z",
     "start_time": "2024-11-29T15:46:01.866716Z"
    }
   },
   "source": [
    "x_test_np = Var_to_nparray(x_test)\n",
    "x_train_np = Var_to_nparray(x_train)\n",
    "y_train_np = Var_to_nparray(y_train)\n",
    "if D1:\n",
    "    plt.scatter(x_train_np, y_train_np, label=\"train data\");\n",
    "    plt.scatter(x_test_np, Var_to_nparray(output_test), label=\"test prediction\");\n",
    "    plt.scatter(x_test_np, y_test_np, label=\"test data\");\n",
    "    plt.legend();\n",
    "    plt.xlabel(\"x\");\n",
    "    plt.ylabel(\"y\");\n",
    "else:\n",
    "    plt.scatter(x_train_np[:,1], y_train, label=\"train data\");\n",
    "    plt.scatter(x_test_np[:,1], Var_to_nparray(output_test), label=\"test data prediction\");\n",
    "    plt.scatter(x_test_np[:,1], y_test_np, label=\"test data\");\n",
    "    plt.legend();\n",
    "    plt.xlabel(\"x\");\n",
    "    plt.ylabel(\"y\");"
   ],
   "outputs": [
    {
     "data": {
      "text/plain": [
       "<Figure size 640x480 with 1 Axes>"
      ],
      "image/png": "[encoded data removed]"
     },
     "metadata": {},
     "output_type": "display_data"
    }
   ],
   "execution_count": 154
  },
  {
   "cell_type": "markdown",
   "metadata": {
    "id": "zTBAmjsAFtIk"
   },
   "source": [
    "## Exercise l) Show overfitting, underfitting and just right fitting\n",
    "\n",
    "Vary the architecture and other things to show clear signs of overfitting (=training loss significantly lower than test loss) and underfitting (=not fitting enoung to training data so that test performance is also hurt).\n",
    "\n",
    "See also if you can get a good compromise which leads to a low validation loss.\n",
    "\n",
    "For this problem do you see any big difference between validation and test loss? The answer here will probably be no. Discuss cases where it is important to keep the two separate.\n",
    "\n",
    "_Insert written answer here._\n"
   ]
  },
  {
   "cell_type": "code",
   "metadata": {
    "id": "tQZCn2dxFtIl",
    "ExecuteTime": {
     "end_time": "2024-11-29T15:46:02.430949Z",
     "start_time": "2024-11-29T15:46:02.418536Z"
    }
   },
   "source": [
    "NN_overfit = [\n",
    "    DenseLayer(1, 100, lambda x: x.relu()),\n",
    "    DenseLayer(100, 1, lambda x: x.identity())\n",
    "]\n",
    "\n",
    "NN_underfit = [\n",
    "    DenseLayer(1, 2, lambda x: x.relu()),\n",
    "    DenseLayer(2, 1, lambda x: x.identity())\n",
    "]\n",
    "\n",
    "NN_balanced = [\n",
    "    DenseLayer(1, 10, lambda x: x.relu()),\n",
    "    DenseLayer(10, 1, lambda x: x.identity())\n",
    "]\n"
   ],
   "outputs": [],
   "execution_count": 155
  },
  {
   "cell_type": "markdown",
   "metadata": {
    "id": "fYPZP-eTFtIo"
   },
   "source": [
    "# Next steps - classification\n",
    "\n",
    "It is straight forward to extend what we have done to classification.\n",
    "\n",
    "For numerical stability it is better to make softmax and cross-entropy as one function so we write the cross entropy loss as a function of the logits we talked about last week.\n",
    "\n",
    "Next week we will see how to perform classification in PyTorch."
   ]
  },
  {
   "cell_type": "markdown",
   "metadata": {
    "id": "qsVPul3QFtIo"
   },
   "source": [
    "## Exercise m) optional - Implement backpropagation for classification\n",
    "\n",
    "Should be possible with very few lines of code. :-)"
   ]
  },
  {
   "cell_type": "code",
   "metadata": {
    "id": "oC8QrI2tFtIp",
    "ExecuteTime": {
     "end_time": "2024-11-29T15:46:02.443165Z",
     "start_time": "2024-11-29T15:46:02.436527Z"
    }
   },
   "source": [
    "# Just add code."
   ],
   "outputs": [],
   "execution_count": 156
  },
  {
   "cell_type": "markdown",
   "metadata": {
    "id": "APqhJv3tta1O"
   },
   "source": [
    "## Exercise n) optional - Introduce a NeuralNetwork class\n",
    "\n",
    "The functions we applied on the neural network (parameters, update_parameters and zero_gradients) can more naturally be included as methods in a NeuralNetwork class. Make such a class and modify the code to use it."
   ]
  },
  {
   "cell_type": "code",
   "metadata": {
    "id": "Dqfnor1ouMLq",
    "ExecuteTime": {
     "end_time": "2024-11-29T15:46:02.455409Z",
     "start_time": "2024-11-29T15:46:02.447722Z"
    }
   },
   "source": [
    "# just add some code"
   ],
   "outputs": [],
   "execution_count": 157
  }
 ],
 "metadata": {
  "anaconda-cloud": {},
  "colab": {
   "collapsed_sections": [
    "U4057_ljNvWB",
    "jpIZPBpNI0pO",
    "p_8n_SKnIW2F",
    "oLrGJytZFtGm",
    "_79HOAXrFtHK",
    "mqeyab9qFtGs",
    "-XyXBD37FtHk",
    "SrwSJ2UWFtHu",
    "zTBAmjsAFtIk",
    "qsVPul3QFtIo",
    "APqhJv3tta1O"
   ],
   "provenance": []
  },
  "kernelspec": {
   "display_name": "Python 3 (ipykernel)",
   "language": "python",
   "name": "python3"
  },
  "language_info": {
   "codemirror_mode": {
    "name": "ipython",
    "version": 3
   },
   "file_extension": ".py",
   "mimetype": "text/x-python",
   "name": "python",
   "nbconvert_exporter": "python",
   "pygments_lexer": "ipython3",
   "version": "3.11.7"
  }
 },
 "nbformat": 4,
 "nbformat_minor": 0
}
