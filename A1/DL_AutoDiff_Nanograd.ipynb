{
 "cells": [
  {
   "cell_type": "markdown",
   "metadata": {
    "id": "HAva8TnYFtFu"
   },
   "source": [
    "# Contents and why we need this lab\n",
    "\n",
    "This lab is about implementing neural networks yourself before we start using other frameworks that hide some computation from you. It builds on the first lab, where you derived the equations for neural network forward and backward propagation and gradient descent parameter updates.\n",
    "\n",
    "All the frameworks for deep learning you will meet from now on use automatic differentiation (autodiff), so you do not have to code the backward step yourself. In this version of this lab, you will develop your own autodif implementation."
   ]
  },
  {
   "cell_type": "markdown",
   "metadata": {
    "id": "sCa7HzwpFtFy"
   },
   "source": [
    "# External source of information\n",
    "\n",
    "[Nanograd](https://github.com/rasmusbergpalm/nanograd) is a minimalistic version of autodiff developed by [Rasmus Berg Palm](https://rasmusbergpalm.github.io) that we use for our framework.\n"
   ]
  },
  {
   "cell_type": "markdown",
   "metadata": {
    "id": "1SjiIp-TFtF0"
   },
   "source": [
    "# This notebook will follow the next steps:\n",
    "\n",
    "1. Nanograd automatic differentiation framework\n",
    "2. Finite difference method\n",
    "3. Data generation\n",
    "4. Defining and initializing the network\n",
    "5. Forward pass\n",
    "6. Training loop\n",
    "7. Testing your model\n",
    "8. Further extensions"
   ]
  },
  {
   "cell_type": "markdown",
   "metadata": {
    "id": "OyXeAA-HuT7s"
   },
   "source": [
    "# Nanograd automatic differention framework"
   ]
  },
  {
   "cell_type": "markdown",
   "metadata": {
    "id": "k6UWKCLKubgA"
   },
   "source": [
    "The [Nanograd](https://github.com/rasmusbergpalm/nanograd) framework defines a class Var which both holds a value and gradient value that we can use to store the intermediate values when we apply the chain rule of differentiation."
   ]
  },
  {
   "cell_type": "code",
   "metadata": {
    "id": "Jd4CoEBNzNWS",
    "ExecuteTime": {
     "end_time": "2024-11-29T16:03:48.515655Z",
     "start_time": "2024-11-29T16:03:48.397049Z"
    }
   },
   "source": [
    "# Copy and pasted from https://github.com/rasmusbergpalm/nanograd/blob/3a1bf9e9e724da813bfccf91a6f309abdade9f39/nanograd.py\n",
    "\n",
    "from math import exp, tanh\n",
    "\n",
    "class Var:\n",
    "    \"\"\"\n",
    "    A variable which holds a float and enables gradient computations.\n",
    "    \"\"\"\n",
    "\n",
    "    def __init__(self, val: float, grad_fn=lambda: []):\n",
    "        assert type(val) == float\n",
    "        self.v = val\n",
    "        self.grad_fn = grad_fn\n",
    "        self.grad = 0.0\n",
    "\n",
    "    def backprop(self, bp):\n",
    "        self.grad += bp\n",
    "        for input, grad in self.grad_fn():\n",
    "            input.backprop(grad * bp)\n",
    "\n",
    "    def backward(self):\n",
    "        self.backprop(1.0)\n",
    "\n",
    "    def __add__(self: 'Var', other: 'Var') -> 'Var':\n",
    "        return Var(self.v + other.v, lambda: [(self, 1.0), (other, 1.0)])\n",
    "\n",
    "    def __mul__(self: 'Var', other: 'Var') -> 'Var':\n",
    "        return Var(self.v * other.v, lambda: [(self, other.v), (other, self.v)])\n",
    "\n",
    "    def __pow__(self, power):\n",
    "        assert type(power) in {float, int}, \"power must be float or int\"\n",
    "        return Var(self.v ** power, lambda: [(self, power * self.v ** (power - 1))])\n",
    "\n",
    "    def __neg__(self: 'Var') -> 'Var':\n",
    "        return Var(-1.0) * self\n",
    "\n",
    "    def __sub__(self: 'Var', other: 'Var') -> 'Var':\n",
    "        return self + (-other)\n",
    "\n",
    "    def __truediv__(self: 'Var', other: 'Var') -> 'Var':\n",
    "        return self * other ** -1\n",
    "\n",
    "    def __repr__(self):\n",
    "        return \"Var(v=%.4f, grad=%.4f)\" % (self.v, self.grad)\n",
    "\n",
    "    def relu(self):\n",
    "        return Var(self.v if self.v > 0.0 else 0.0, lambda: [(self, 1.0 if self.v > 0.0 else 0.0)])\n",
    "\n",
    "    def identity(self):\n",
    "        return Var(self.v, lambda: [(self, 1.0)])\n",
    "\n",
    "    def tanh(self):\n",
    "        t = tanh(self.v)\n",
    "        return Var(t, lambda: [(self, 1.0 - t**2)])\n",
    "    \n",
    "    def sigmoid(self):\n",
    "        s = 1 / (1 + exp(-self.v)) \n",
    "        return Var(s, lambda: [(self, s * (1 - s))])  # Derivative: s * (1 - s)"
   ],
   "outputs": [],
   "execution_count": 162
  },
  {
   "cell_type": "markdown",
   "metadata": {
    "id": "yDX67D6jzcte"
   },
   "source": [
    "A few examples illustrate how we can use this:"
   ]
  },
  {
   "cell_type": "code",
   "metadata": {
    "id": "xk6PeLc3zwPT",
    "ExecuteTime": {
     "end_time": "2024-11-29T16:03:49.415486Z",
     "start_time": "2024-11-29T16:03:49.403385Z"
    }
   },
   "source": [
    "a = Var(3.0)\n",
    "b = Var(5.0)\n",
    "f = a * b\n",
    "\n",
    "f.backward()\n",
    "\n",
    "for v in [a, b, f]:\n",
    "    print(v)"
   ],
   "outputs": [
    {
     "name": "stdout",
     "output_type": "stream",
     "text": [
      "Var(v=3.0000, grad=5.0000)\n",
      "Var(v=5.0000, grad=3.0000)\n",
      "Var(v=15.0000, grad=1.0000)\n"
     ]
    }
   ],
   "execution_count": 163
  },
  {
   "cell_type": "code",
   "metadata": {
    "id": "JmKhYgsY0g_o",
    "ExecuteTime": {
     "end_time": "2024-11-29T16:03:49.479188Z",
     "start_time": "2024-11-29T16:03:49.465596Z"
    }
   },
   "source": [
    "a = Var(3.0)\n",
    "b = Var(5.0)\n",
    "c = a * b\n",
    "d = Var(9.0)\n",
    "e = a * d\n",
    "f = c + e\n",
    "\n",
    "f.backward()\n",
    "\n",
    "for v in [a, b, c, d, e, f]:\n",
    "    print(v)"
   ],
   "outputs": [
    {
     "name": "stdout",
     "output_type": "stream",
     "text": [
      "Var(v=3.0000, grad=14.0000)\n",
      "Var(v=5.0000, grad=3.0000)\n",
      "Var(v=15.0000, grad=1.0000)\n",
      "Var(v=9.0000, grad=3.0000)\n",
      "Var(v=27.0000, grad=1.0000)\n",
      "Var(v=42.0000, grad=1.0000)\n"
     ]
    }
   ],
   "execution_count": 164
  },
  {
   "cell_type": "markdown",
   "metadata": {
    "id": "Fe3B6uEH140p"
   },
   "source": [
    "## Exercise a) What is being calculated?\n",
    "\n",
    "Explain briefly the output of the code? What is the expression we differentiate and with respect to what variables?"
   ]
  },
  {
   "metadata": {},
   "cell_type": "markdown",
   "source": [
    "The code computes and differentiates the following expression:\n",
    "$\n",
    "f = (a \\cdot b) + (a \\cdot d)\n",
    "$\n",
    "\n",
    "The final output \\( f \\) is differentiated with respect to the variables \\( a \\), \\( b \\), and \\( d \\). Intermediate variables \\( c \\) and \\( e \\) are part of the computation graph but are not inputs to the overall function.\n",
    "\n",
    "The gradients for each variable are computed as follows:\n",
    "1. **Gradient with respect to \\( a \\):**\n",
    "   $\n",
    "   \\frac{\\partial f}{\\partial a} = \\frac{\\partial (a \\cdot b)}{\\partial a} + \\frac{\\partial (a \\cdot d)}{\\partial a} = b + d = 5 + 9 = 14\n",
    "   $\n",
    "\n",
    "2. **Gradient with respect to \\( b \\):**\n",
    "   Only the first term depends on \\( b \\):\n",
    "   $\n",
    "   \\frac{\\partial f}{\\partial b} = \\frac{\\partial (a \\cdot b)}{\\partial b} = a = 3\n",
    "   $\n",
    "\n",
    "3. **Gradient with respect to \\( d \\):**\n",
    "   Only the second term depends on \\( d \\):\n",
    "   $\n",
    "   \\frac{\\partial f}{\\partial d} = \\frac{\\partial (a \\cdot d)}{\\partial d} = a = 3\n",
    "   $\n"
   ]
  },
  {
   "cell_type": "markdown",
   "metadata": {
    "id": "q8_Q0t2I3Ruj"
   },
   "source": [
    "## Exercise b) How does the backward function work?\n",
    "\n",
    "You need to understand how the backward function calculates the gradients. We can use the two examples above to help with that.\n",
    "\n",
    "Go through the following four steps and answer the questions on the way:\n",
    "\n",
    "1. We represent the two expressions as graphs as shown below. Fill in the missing expressions for the different derivatives.\n",
    "\n",
    "2. In the remainder, consider the first expression. Make a schematic of the data structure generated when we define the expression for f (e.g., write a list of which objects are created and the corresponding values of their member variables).\n",
    "\n",
    "3. Then execute the backward function by hand to convince yourself that it indeed calculates the gradients with respect to the variables.\n",
    "\n",
    "4. Write down the sequence of calls to backprop."
   ]
  },
  {
   "metadata": {},
   "cell_type": "markdown",
   "source": [
    "---\n",
    "### 1. Filling the missing expressions\n",
    "#### First graph\n",
    "The expression is:\n",
    "$f = a \\cdot b$\n",
    "The derivatives are:\n",
    "$\\frac{\\partial f}{\\partial a} = b$ and $\\frac{\\partial f}{\\partial b} = a$\n",
    "\n",
    "#### Second graph\n",
    "The expression is:\n",
    "$f = (a \\cdot b) + (a \\cdot d)$\n",
    "The derivatives are:\n",
    "$\\frac{\\partial c}{\\partial a} = b$, $\\frac{\\partial c}{\\partial b} = a$, \n",
    "$\\frac{\\partial e}{\\partial a} = d$, and $\\frac{\\partial e}{\\partial d} = a$\n",
    "Also,\n",
    "$\\frac{\\partial f}{\\partial c} = 1$ and $\\frac{\\partial f}{\\partial e} = 1$\n",
    "\n",
    "---\n",
    "\n",
    "### 2. Schema for the data structure $f = (a \\cdot b) + (a \\cdot d)$\n",
    "\n",
    "When we define $f$, the following objects are created with their values and gradient functions:\n",
    "\n",
    "| **Object** | **Value ($v$)** | **Gradient ($\\text{grad}$)** | **Gradient Function ($\\text{grad\\_fn}$)** |\n",
    "|------------|-----------------|-----------------------------|--------------------------------------------|\n",
    "| $a$        | $3.0$           | $0.0$                       | None                                       |\n",
    "| $b$        | $5.0$           | $0.0$                       | None                                       |\n",
    "| $d$        | $9.0$           | $0.0$                       | None                                       |\n",
    "| $c$        | $a \\cdot b = 15.0$ | $0.0$                    | $[(a, b), (b, a)]$                        |\n",
    "| $e$        | $a \\cdot d = 27.0$ | $0.0$                    | $[(a, d), (d, a)]$                        |\n",
    "| $f$        | $c + e = 42.0$    | $0.0$                     | $[(c, 1.0), (e, 1.0)]$                    |\n",
    "\n",
    "---\n",
    "\n",
    "### 3. Execution of the backward function\n",
    "\n",
    "We start with the gradient at $f$:  \n",
    "$\\text{grad}_f = 1.0$\n",
    "\n",
    "#### Propagate to $c$ and $e$\n",
    "For $c$, we get:  \n",
    "$\\text{grad}_c = \\text{grad}_f \\cdot \\frac{\\partial f}{\\partial c} = 1.0 \\cdot 1.0 = 1.0$\n",
    "\n",
    "For $e$, we get:  \n",
    "$\\text{grad}_e = \\text{grad}_f \\cdot \\frac{\\partial f}{\\partial e} = 1.0 \\cdot 1.0 = 1.0$\n",
    "\n",
    "#### Propagate to $a$, $b$, and $d$ from $c$ and $e$\n",
    "For $c = a \\cdot b$:\n",
    "$\\text{grad}_a += \\text{grad}_c \\cdot \\frac{\\partial c}{\\partial a} = 0.0 + 1.0 \\cdot b = 5.0$  \n",
    "$\\text{grad}_b += \\text{grad}_c \\cdot \\frac{\\partial c}{\\partial b} = 0.0 + 1.0 \\cdot a = 3.0$\n",
    "\n",
    "For $e = a \\cdot d$:\n",
    "$\\text{grad}_a += \\text{grad}_e \\cdot \\frac{\\partial e}{\\partial a} = 5.0 + 1.0 \\cdot d = 5.0 + 9.0 = 14.0$  \n",
    "$\\text{grad}_d += \\text{grad}_e \\cdot \\frac{\\partial e}{\\partial d} = 0.0 + 1.0 \\cdot a = 3.0$\n",
    "\n",
    "---\n",
    "\n",
    "### 4. Sequence of calls to backprop\n",
    "\n",
    "The following is how the calls happen during backpropagation:\n",
    "\n",
    "1. **Start at $f$**:  \n",
    "   The gradient at $f$ is $1.0$, and we propagate this to $c$ and $e$.\n",
    "\n",
    "2. **Go to $c$**:  \n",
    "   The gradient at $c$ is $1.0$, and we pass this on to $a$ and $b$.\n",
    "\n",
    "3. **Go to $e$**:  \n",
    "   The gradient at $e$ is $1.0$, and we pass this on to $a$ and $d$.\n",
    "\n",
    "4. **Update $a$, $b$, and $d$**:  \n",
    "   Combine the gradients at $a$: $\\text{grad}_a = 14.0$  \n",
    "   Final gradients: $\\text{grad}_b = 3.0$, $\\text{grad}_d = 3.0$\n",
    "---\n"
   ]
  },
  {
   "cell_type": "code",
   "metadata": {
    "id": "idGr71jYXl26",
    "ExecuteTime": {
     "end_time": "2024-11-29T16:03:49.601205Z",
     "start_time": "2024-11-29T16:03:49.592631Z"
    }
   },
   "source": [
    "# If you have not installed networkx and matplotlib, you can install them by running\n",
    "# !pip install networkx matplotlib\n",
    "\n",
    "import networkx as nx\n",
    "import matplotlib.pyplot as plt"
   ],
   "outputs": [],
   "execution_count": 165
  },
  {
   "cell_type": "code",
   "metadata": {
    "id": "tEieXD0lPiz_",
    "ExecuteTime": {
     "end_time": "2024-11-29T16:03:50.493476Z",
     "start_time": "2024-11-29T16:03:49.649608Z"
    }
   },
   "source": [
    "# Create a directed graph\n",
    "G = nx.DiGraph()\n",
    "\n",
    "# Add edges with labels\n",
    "G.add_edge('a', 'f', label='df/da=?')\n",
    "G.add_edge('b', 'f', label='df/db=?')\n",
    "\n",
    "# Manually define positions for a tree layout\n",
    "pos = {\n",
    "    'a': (0, 1),\n",
    "    'b': (0, -1),\n",
    "    'f': (1, 0),\n",
    "}\n",
    "# Draw the graph nodes and edges\n",
    "nx.draw(G, pos, with_labels=True, node_shape='o', node_size=3000, node_color='lightblue', arrows=True)\n",
    "\n",
    "# Draw edge labels\n",
    "edge_labels = nx.get_edge_attributes(G, 'label')\n",
    "nx.draw_networkx_edge_labels(G, pos, edge_labels=edge_labels)\n",
    "\n",
    "# Show the plot\n",
    "plt.show()"
   ],
   "outputs": [
    {
     "data": {
      "text/plain": [
       "<Figure size 640x480 with 1 Axes>"
      ],
      "image/png": "[encoded data removed]"
     },
     "metadata": {},
     "output_type": "display_data"
    }
   ],
   "execution_count": 166
  },
  {
   "cell_type": "code",
   "metadata": {
    "id": "0nittR-mZFeX",
    "ExecuteTime": {
     "end_time": "2024-11-29T16:03:51.350396Z",
     "start_time": "2024-11-29T16:03:50.515302Z"
    }
   },
   "source": [
    "# Create a directed graph\n",
    "G = nx.DiGraph()\n",
    "\n",
    "# Add edges with labels\n",
    "G.add_edge('a', 'c', label='dc/da=?')\n",
    "G.add_edge('b', 'c', label='dc/db=?')\n",
    "G.add_edge('a', 'e', label='de/da=?')\n",
    "G.add_edge('d', 'e', label='de/dd=?')\n",
    "G.add_edge('c', 'f', label='df/dc=?')\n",
    "G.add_edge('e', 'f', label='df/de=?')\n",
    "\n",
    "# Manually define positions for a tree layout\n",
    "pos = {\n",
    "    'a': (0, 0),\n",
    "    'b': (0, 2),\n",
    "    'c': (1, 1),\n",
    "    'd': (0, -2),\n",
    "    'e': (1, -1),\n",
    "    'f': (2, 0)\n",
    "}\n",
    "\n",
    "# Draw the graph nodes and edges\n",
    "nx.draw(G, pos, with_labels=True, node_shape='o', node_size=3000, node_color='lightblue', arrows=True)\n",
    "\n",
    "# Draw edge labels\n",
    "edge_labels = nx.get_edge_attributes(G, 'label')\n",
    "nx.draw_networkx_edge_labels(G, pos, edge_labels=edge_labels)\n",
    "\n",
    "# Show the plot\n",
    "plt.show()"
   ],
   "outputs": [
    {
     "data": {
      "text/plain": [
       "<Figure size 640x480 with 1 Axes>"
      ],
      "image/png": "[encoded data removed]"
     },
     "metadata": {},
     "output_type": "display_data"
    }
   ],
   "execution_count": 167
  },
  {
   "cell_type": "markdown",
   "metadata": {
    "id": "A5oi21W4gpeM"
   },
   "source": [
    "## Exercise c) What happens if we run backward again?\n",
    "\n",
    "Try to execute the code below. Explain what happens."
   ]
  },
  {
   "cell_type": "code",
   "metadata": {
    "id": "DCtpJyr-gyX1",
    "ExecuteTime": {
     "end_time": "2024-11-29T16:03:51.372848Z",
     "start_time": "2024-11-29T16:03:51.357030Z"
    }
   },
   "source": [
    "f.backward()\n",
    "\n",
    "for v in [a, b, c, d, e, f]:\n",
    "    print(v)"
   ],
   "outputs": [
    {
     "name": "stdout",
     "output_type": "stream",
     "text": [
      "Var(v=3.0000, grad=28.0000)\n",
      "Var(v=5.0000, grad=6.0000)\n",
      "Var(v=15.0000, grad=2.0000)\n",
      "Var(v=9.0000, grad=6.0000)\n",
      "Var(v=27.0000, grad=2.0000)\n",
      "Var(v=42.0000, grad=2.0000)\n"
     ]
    }
   ],
   "execution_count": 168
  },
  {
   "metadata": {},
   "cell_type": "markdown",
   "source": [
    "### The following happens when f.backward() is called again:\n",
    "When f.backward() is called, the backprop method accumulates gradients by adding to the existing ones:\n",
    "   $ \\text{self.grad} += \\text{bp} $ <br>\n",
    "This means that the gradients from the second pass are added to the gradients already computed during the first pass.\n",
    "\n",
    "### Observations:\n",
    "The gradient for each variable doubles after the second backward pass. For example:\n",
    "  - $\\text{grad}_a$ becomes $28.0$ because $14.0 \\times 2 = 28.0$.\n",
    "  - $\\text{grad}_b$ becomes $6.0$ because $3.0 \\times 2 = 6.0$.\n",
    "  - Similar doubling occurs for other variables.\n",
    "\n",
    "### Why does the doubling happen?\n",
    "This doubling happens because each gradient is the sum of the contributions from both backward passes.\n"
   ]
  },
  {
   "cell_type": "markdown",
   "metadata": {
    "id": "e8bPVq2VhsP-"
   },
   "source": [
    "## Exercise d) Zero gradient\n",
    "\n",
    "We can zero the gradient by backpropagating a -1.0 as is shown in the example below. (If you have run backward multiple time then you also have to run the cell below an equal amount of times.) Explain what is going on."
   ]
  },
  {
   "metadata": {},
   "cell_type": "markdown",
   "source": [
    "**What Happens with $f.\\text{backprop}(-1.0)$?**:\n",
    "   - The backpropagation subtracts contributions from the gradients because:\n",
    "     $$\n",
    "     \\text{self.grad} += \\text{bp}\n",
    "     $$\n",
    "   - Passing $-1.0$ subtracts the contributions made during the earlier pass where $f.\\text{backward}()$ added gradients.\n",
    "\n",
    "**After Backpropagation with $-1.0$**:\n",
    "   - The gradients for all variables are updated as:\n",
    "     $$\n",
    "     \\text{grad}_{\\text{new}} = \\text{grad}_{\\text{previous}} - \\text{grad}_{\\text{contribution}}\n",
    "     $$"
   ]
  },
  {
   "cell_type": "code",
   "metadata": {
    "id": "OnyPDQx9lJe0",
    "ExecuteTime": {
     "end_time": "2024-11-29T16:03:51.401312Z",
     "start_time": "2024-11-29T16:03:51.382468Z"
    }
   },
   "source": [
    "a = Var(2.0)\n",
    "\n",
    "for v in [a, b, c, d, e, f]:\n",
    "    print(v)\n",
    "\n",
    "f.backprop(-1.0)\n",
    "\n",
    "for v in [a, b, c, d, e, f]:\n",
    "    print(v)"
   ],
   "outputs": [
    {
     "name": "stdout",
     "output_type": "stream",
     "text": [
      "Var(v=2.0000, grad=0.0000)\n",
      "Var(v=5.0000, grad=6.0000)\n",
      "Var(v=15.0000, grad=2.0000)\n",
      "Var(v=9.0000, grad=6.0000)\n",
      "Var(v=27.0000, grad=2.0000)\n",
      "Var(v=42.0000, grad=2.0000)\n",
      "Var(v=2.0000, grad=0.0000)\n",
      "Var(v=5.0000, grad=3.0000)\n",
      "Var(v=15.0000, grad=1.0000)\n",
      "Var(v=9.0000, grad=3.0000)\n",
      "Var(v=27.0000, grad=1.0000)\n",
      "Var(v=42.0000, grad=1.0000)\n"
     ]
    }
   ],
   "execution_count": 169
  },
  {
   "cell_type": "markdown",
   "metadata": {
    "id": "U4057_ljNvWB"
   },
   "source": [
    "## Exercise e) Test correctness of derivatives with the finite difference method\n",
    "\n",
    "Write a small function that uses [the finite difference method](https://en.wikipedia.org/wiki/Finite_difference_method) to numerically test that backpropation implementation is working. In short we will use\n",
    "$$\n",
    "\\frac{\\partial f(a)}{\\partial a} \\approx \\frac{f(a+da)-f(a)}{da}\n",
    "$$\n",
    "for $da \\ll 1$.\n",
    "\n",
    "As an example, we could approximate the derivative of the function $f(a)=a^2$ in e.g. the value $a=4$ using the finite difference method. This amounts to inserting the relevant values and approximating the gradient $f'(4)$ with the fraction above.\n"
   ]
  },
  {
   "cell_type": "code",
   "metadata": {
    "id": "9TGil92lSXDN",
    "ExecuteTime": {
     "end_time": "2024-11-29T16:03:51.439521Z",
     "start_time": "2024-11-29T16:03:51.409744Z"
    }
   },
   "source": [
    "# f function - try to change the code to test other types of functions as well (such as different polynomials etc.)\n",
    "def f_function(a):\n",
    "    a = Var(a)\n",
    "    b = Var(5.0)\n",
    "    f = a * b\n",
    "    f.backward()\n",
    "    return a, b, f\n",
    "\n",
    "# Insert your finite difference code here\n",
    "def finite_difference(a_value=3.0, da=1e-10):\n",
    "    \"\"\"\n",
    "    This function computes the finite difference approximation for the derivative of f(a) = a * b.\n",
    "\n",
    "    Inputs:\n",
    "    a_value:     The point at which to compute the derivative         (float)\n",
    "    da:          The finite difference                               (float)\n",
    "\n",
    "    Output:\n",
    "    finite_difference: numerical approximation to the derivative     (float)\n",
    "    \"\"\"\n",
    "\n",
    "    # Calculate f(a + da)\n",
    "    a_plus_da, _, f_plus_da = f_function(a_value + da)\n",
    "    fa_da = f_plus_da.v  # Value of f(a + da)\n",
    "\n",
    "    # Calculate f(a)\n",
    "    a, _, f = f_function(a_value)\n",
    "    fa = f.v  # Value of f(a)\n",
    "\n",
    "    # Compute the finite difference\n",
    "    finite_difference = (fa_da - fa) / da\n",
    "\n",
    "    return finite_difference\n",
    "\n",
    "# Testing the finite difference function\n",
    "for v in f_function(3.0):\n",
    "    print(v)\n",
    "\n",
    "print(finite_difference(a_value=3.0))\n"
   ],
   "outputs": [
    {
     "name": "stdout",
     "output_type": "stream",
     "text": [
      "Var(v=3.0000, grad=5.0000)\n",
      "Var(v=5.0000, grad=3.0000)\n",
      "Var(v=15.0000, grad=1.0000)\n",
      "5.000000413701855\n"
     ]
    }
   ],
   "execution_count": 170
  },
  {
   "cell_type": "markdown",
   "metadata": {
    "id": "6pZar5RKaUkg"
   },
   "source": [
    "# Create an artificial dataset to play with\n",
    "\n",
    "We create a non-linear 1d regression task. The generator supports various noise levels and it creates train, validation and test sets. You can modify it yourself if you want more or less challenging tasks."
   ]
  },
  {
   "cell_type": "code",
   "metadata": {
    "id": "Y6yfMAQ8aduj",
    "ExecuteTime": {
     "end_time": "2024-11-29T16:03:51.470631Z",
     "start_time": "2024-11-29T16:03:51.450711Z"
    }
   },
   "source": [
    "import numpy as np\n",
    "import matplotlib.pyplot as plt\n",
    "\n",
    "np.random.seed(42)"
   ],
   "outputs": [],
   "execution_count": 171
  },
  {
   "cell_type": "code",
   "metadata": {
    "id": "4YabfD43ajNh",
    "ExecuteTime": {
     "end_time": "2024-11-29T16:03:51.606476Z",
     "start_time": "2024-11-29T16:03:51.533814Z"
    }
   },
   "source": [
    "def data_generator(noise=0.1, n_samples=300, D1=True):\n",
    "    # Create covariates and response variable\n",
    "    if D1:\n",
    "        X = np.linspace(-3, 3, num=n_samples).reshape(-1,1) # 1-D\n",
    "        np.random.shuffle(X)\n",
    "        y = np.random.normal((0.5*np.sin(X[:,0]*3) + X[:,0]), noise) # 1-D with trend\n",
    "    else:\n",
    "        X = np.random.multivariate_normal(np.zeros(3), noise*np.eye(3), size = n_samples) # 3-D\n",
    "        np.random.shuffle(X)\n",
    "        y = np.sin(X[:,0]) - 5*(X[:,1]**2) + 0.5*X[:,2] # 3-D\n",
    "\n",
    "    # Stack them together vertically to split data set\n",
    "    data_set = np.vstack((X.T,y)).T\n",
    "\n",
    "    train, validation, test = np.split(data_set, [int(0.35*n_samples), int(0.7*n_samples)], axis=0)\n",
    "\n",
    "    # Standardization of the data, remember we do the standardization with the training set mean and standard deviation\n",
    "    train_mu = np.mean(train, axis=0)\n",
    "    train_sigma = np.std(train, axis=0)\n",
    "\n",
    "    train = (train-train_mu)/train_sigma\n",
    "    validation = (validation-train_mu)/train_sigma\n",
    "    test = (test-train_mu)/train_sigma\n",
    "\n",
    "    x_train, x_validation, x_test = train[:,:-1], validation[:,:-1], test[:,:-1]\n",
    "    y_train, y_validation, y_test = train[:,-1], validation[:,-1], test[:,-1]\n",
    "\n",
    "    return x_train, y_train,  x_validation, y_validation, x_test, y_test"
   ],
   "outputs": [],
   "execution_count": 172
  },
  {
   "cell_type": "code",
   "metadata": {
    "id": "u1oDngHLapIz",
    "ExecuteTime": {
     "end_time": "2024-11-29T16:03:52.009237Z",
     "start_time": "2024-11-29T16:03:51.993548Z"
    }
   },
   "source": [
    "D1 = True\n",
    "x_train, y_train,  x_validation, y_validation, x_test, y_test = data_generator(noise=0.5, D1=D1)"
   ],
   "outputs": [],
   "execution_count": 173
  },
  {
   "cell_type": "code",
   "metadata": {
    "id": "Ysfa3FsBavlm",
    "ExecuteTime": {
     "end_time": "2024-11-29T16:03:53.802323Z",
     "start_time": "2024-11-29T16:03:52.678685Z"
    }
   },
   "source": [
    "if D1:\n",
    "    plt.scatter(x_train[:,0], y_train);\n",
    "    plt.scatter(x_validation[:,0], y_validation);\n",
    "    plt.scatter(x_test[:,0], y_test);\n",
    "else:\n",
    "    plt.scatter(x_train[:,1], y_train);\n",
    "    plt.scatter(x_validation[:,1], y_validation);\n",
    "    plt.scatter(x_test[:,1], y_test);\n",
    "plt.show()"
   ],
   "outputs": [
    {
     "data": {
      "text/plain": [
       "<Figure size 640x480 with 1 Axes>"
      ],
      "image/png": "[encoded data removed]"
     },
     "metadata": {},
     "output_type": "display_data"
    }
   ],
   "execution_count": 174
  },
  {
   "cell_type": "code",
   "metadata": {
    "id": "zac2HHNlgbpm",
    "ExecuteTime": {
     "end_time": "2024-11-29T16:03:53.891151Z",
     "start_time": "2024-11-29T16:03:53.830767Z"
    }
   },
   "source": [
    "# convert from nparray to Var\n",
    "def nparray_to_Var(x):\n",
    "  if x.ndim==1:\n",
    "    y = [[Var(float(x[i]))] for i in range(x.shape[0])] # always work with list of list\n",
    "  else:\n",
    "    y = [[Var(float(x[i,j])) for j in range(x.shape[1])] for i in range(x.shape[0])]\n",
    "  return y\n",
    "\n",
    "x_train = nparray_to_Var(x_train)\n",
    "y_train = nparray_to_Var(y_train)\n",
    "x_validation = nparray_to_Var(x_validation)\n",
    "y_validation = nparray_to_Var(y_validation)\n",
    "x_test = nparray_to_Var(x_test)\n",
    "y_test = nparray_to_Var(y_test)\n"
   ],
   "outputs": [],
   "execution_count": 175
  },
  {
   "cell_type": "markdown",
   "metadata": {
    "id": "VbjrqcpVFtGe"
   },
   "source": [
    "# Defining and initializing the network\n",
    "\n",
    "The steps to create a feed forward neural network are the following:\n",
    "\n",
    "1. **Number of hidden layer and hidden units**. We have to define the number of hidden units in each layer. The number of features in X and the output dimensionality (the size of Y) are given but the numbers in between are set by the researcher. Remember that for each unit in each layer beside in the input has a bias term.\n",
    "2. **Activation functions** for each hidden layer. Each hidden layer in your list must have an activation function (it can also be the linear activation which is equivalent to identity function). The power of neural networks comes from non-linear activation functions that learn representations (features) from the data allowing us to learn from it.\n",
    "3. **Parameter initialization**. We will initialize the weights to have random values. This is done in practice by drawing pseudo random numbers from a Gaussian or uniform distribution. It turns out that for deeper models we have to be careful about how we scale the random numbers. This will be the topic of the exercise below. For now we will just use unit variance Gaussians.  \n",
    "\n",
    "In order to make life easier for ourselves we define a DenseLayer class that takes care of initialization and the forward pass. We can also extend it later with print and advanced initialization capabilities. For the latter we have introduced a Initializer class.\n",
    "\n",
    "Note that we use Sequence in the code below. A Sequence is an ordered list. This means the order we insert and access items are the same."
   ]
  },
  {
   "cell_type": "code",
   "metadata": {
    "id": "ij_ieRsAt7Xt",
    "ExecuteTime": {
     "end_time": "2024-11-29T16:03:53.939867Z",
     "start_time": "2024-11-29T16:03:53.907702Z"
    }
   },
   "source": [
    "class Initializer:\n",
    "\n",
    "  def init_weights(self, n_in, n_out):\n",
    "    raise NotImplementedError\n",
    "\n",
    "  def init_bias(self, n_out):\n",
    "    raise NotImplementedError"
   ],
   "outputs": [],
   "execution_count": 176
  },
  {
   "cell_type": "code",
   "metadata": {
    "id": "eb18N5phuIha",
    "ExecuteTime": {
     "end_time": "2024-11-29T16:03:54.017644Z",
     "start_time": "2024-11-29T16:03:53.957051Z"
    }
   },
   "source": [
    "import random\n",
    "\n",
    "class NormalInitializer(Initializer):\n",
    "\n",
    "  def __init__(self, mean=0, std=0.1):\n",
    "    self.mean = mean\n",
    "    self.std = std\n",
    "\n",
    "  def init_weights(self, n_in, n_out):\n",
    "    return [[Var(random.gauss(self.mean, self.std)) for _ in range(n_out)] for _ in range(n_in)]\n",
    "\n",
    "  def init_bias(self, n_out):\n",
    "    return [Var(0.0) for _ in range(n_out)]\n",
    "\n",
    "class ConstantInitializer(Initializer):\n",
    "\n",
    "  def __init__(self, weight=1.0, bias=0.0):\n",
    "    self.weight = weight\n",
    "    self.bias = bias\n",
    "\n",
    "  def init_weights(self, n_in, n_out):\n",
    "    return [[Var(self.weight) for _ in range(n_out)] for _ in range(n_in)]\n",
    "\n",
    "  def init_bias(self, n_out):\n",
    "    return [Var(self.bias) for _ in range(n_out)]"
   ],
   "outputs": [],
   "execution_count": 177
  },
  {
   "cell_type": "code",
   "metadata": {
    "id": "jOLYGnZKuM6W",
    "ExecuteTime": {
     "end_time": "2024-11-29T16:03:54.110575Z",
     "start_time": "2024-11-29T16:03:54.044592Z"
    }
   },
   "source": [
    "from typing import Sequence\n",
    "\n",
    "class DenseLayer:\n",
    "    def __init__(self, n_in: int, n_out: int, act_fn, initializer = NormalInitializer()):\n",
    "        self.weights = initializer.init_weights(n_in, n_out)\n",
    "        self.bias = initializer.init_bias(n_out)\n",
    "        self.act_fn = act_fn\n",
    "\n",
    "    def __repr__(self):\n",
    "        return 'Weights: ' + repr(self.weights) + ' Biases: ' + repr(self.bias)\n",
    "\n",
    "    def parameters(self) -> Sequence[Var]:\n",
    "      params = []\n",
    "      for r in self.weights:\n",
    "        params += r\n",
    "\n",
    "      return params + self.bias\n",
    "\n",
    "    def forward(self, single_input: Sequence[Var]) -> Sequence[Var]:\n",
    "        # self.weights is a matrix with dimension n_in x n_out. We check that the dimensionality of the input\n",
    "        # to the current layer matches the number of nodes in the current layer\n",
    "        assert len(self.weights) == len(single_input), \"weights and single_input must match in first dimension\"\n",
    "        weights = self.weights\n",
    "        out = []\n",
    "        # For some given data point single_input, we now want to calculate the resulting value in each node in the current layer\n",
    "        # We therefore loop over the (number of) nodes in the current layer:\n",
    "        for j in range(len(weights[0])):\n",
    "            # Initialize the node value depending on its corresponding parameters.\n",
    "            node = self.bias[j] # <- Insert code\n",
    "            # We now finish the linear transformation corresponding to the parameters of the currently considered node.\n",
    "            for i in range(len(single_input)):\n",
    "                node += weights[i][j] * single_input[i]  # <- Insert code\n",
    "            node = self.act_fn(node)\n",
    "            out.append(node)\n",
    "\n",
    "        return out\n",
    "    def print_parameters(self, layer_index: int):\n",
    "        print(f\"Layer {layer_index}:\")\n",
    "        print(\"Weights:\")\n",
    "        for i, row in enumerate(self.weights):\n",
    "            print(f\"  Input {i} to outputs: {[w.v for w in row]}\")\n",
    "        print(\"Biases:\")\n",
    "        print(f\"  {[bias.v for bias in self.bias]}\")"
   ],
   "outputs": [],
   "execution_count": 178
  },
  {
   "cell_type": "markdown",
   "metadata": {
    "id": "jpIZPBpNI0pO"
   },
   "source": [
    "## Exercise f) Add more activation functions\n",
    "\n",
    "To have a full definition of the neural network, we must define an activation function for every layer. Several activation functions have been proposed and have different characteristics. In the Var class we have already defined the rectified linear init (relu).\n",
    "\n",
    "Implement the following activation functions in the Var class:\n",
    "\n",
    "* Identity: $$\\mathrm{identity}(x) = x$$\n",
    "* Hyperbolic tangent: $$\\tanh(x)$$\n",
    "* Sigmoid (or logistic function): $$\\mathrm{sigmoid}(x) = \\frac{1}{1.0 + \\exp(-x ) }$$  Hint: $\\mathrm{sigmoid}'(x)= \\mathrm{sigmoid}(x)(1-\\mathrm{sigmoid}(x))$.  \n",
    "\n",
    "Hint: You can seek inspiration in the relu method in the Var class."
   ]
  },
  {
   "cell_type": "markdown",
   "metadata": {
    "id": "p_8n_SKnIW2F"
   },
   "source": [
    "## Exercise g) Complete the forward pass\n",
    "\n",
    "In the code below we initialize a 1-5-1 network and pass the training set through it. *The forward method in DenseLayer is **not** complete*. It just outputs zeros right now. The method forward should perform an [affine transformation](https://en.wikipedia.org/wiki/Affine_transformation) on the input followed by an application of the activation function."
   ]
  },
  {
   "cell_type": "code",
   "metadata": {
    "id": "xDEjtePxE7Mv",
    "ExecuteTime": {
     "end_time": "2024-11-29T16:03:54.231398Z",
     "start_time": "2024-11-29T16:03:54.131295Z"
    }
   },
   "source": [
    "NN = [\n",
    "    DenseLayer(1, 5, lambda x: x.relu()),\n",
    "    DenseLayer(5, 1, lambda x: x.identity())\n",
    "]\n",
    "\n",
    "def forward(input, network):\n",
    "\n",
    "  def forward_single(x, network):\n",
    "    for layer in network:\n",
    "        x = layer.forward(x)\n",
    "    return x\n",
    "\n",
    "  output = [ forward_single(input[n], network) for n in range(len(input))]\n",
    "  return output\n",
    "\n",
    "print(forward(x_train, NN))\n"
   ],
   "outputs": [
    {
     "name": "stdout",
     "output_type": "stream",
     "text": [
      "[[Var(v=0.0145, grad=0.0000)], [Var(v=0.0290, grad=0.0000)], [Var(v=0.0026, grad=0.0000)], [Var(v=-0.0035, grad=0.0000)], [Var(v=0.0214, grad=0.0000)], [Var(v=0.0198, grad=0.0000)], [Var(v=0.0128, grad=0.0000)], [Var(v=-0.0008, grad=0.0000)], [Var(v=-0.0036, grad=0.0000)], [Var(v=0.0080, grad=0.0000)], [Var(v=0.0223, grad=0.0000)], [Var(v=-0.0022, grad=0.0000)], [Var(v=0.0179, grad=0.0000)], [Var(v=-0.0025, grad=0.0000)], [Var(v=0.0096, grad=0.0000)], [Var(v=0.0186, grad=0.0000)], [Var(v=0.0344, grad=0.0000)], [Var(v=0.0163, grad=0.0000)], [Var(v=0.0017, grad=0.0000)], [Var(v=0.0056, grad=0.0000)], [Var(v=-0.0017, grad=0.0000)], [Var(v=-0.0007, grad=0.0000)], [Var(v=0.0251, grad=0.0000)], [Var(v=0.0253, grad=0.0000)], [Var(v=-0.0010, grad=0.0000)], [Var(v=-0.0026, grad=0.0000)], [Var(v=0.0325, grad=0.0000)], [Var(v=0.0358, grad=0.0000)], [Var(v=0.0038, grad=0.0000)], [Var(v=0.0226, grad=0.0000)], [Var(v=-0.0033, grad=0.0000)], [Var(v=0.0054, grad=0.0000)], [Var(v=-0.0029, grad=0.0000)], [Var(v=-0.0031, grad=0.0000)], [Var(v=0.0172, grad=0.0000)], [Var(v=-0.0006, grad=0.0000)], [Var(v=-0.0035, grad=0.0000)], [Var(v=-0.0013, grad=0.0000)], [Var(v=-0.0025, grad=0.0000)], [Var(v=-0.0018, grad=0.0000)], [Var(v=-0.0013, grad=0.0000)], [Var(v=-0.0017, grad=0.0000)], [Var(v=0.0337, grad=0.0000)], [Var(v=-0.0021, grad=0.0000)], [Var(v=-0.0017, grad=0.0000)], [Var(v=-0.0021, grad=0.0000)], [Var(v=0.0216, grad=0.0000)], [Var(v=0.0205, grad=0.0000)], [Var(v=-0.0008, grad=0.0000)], [Var(v=0.0209, grad=0.0000)], [Var(v=0.0091, grad=0.0000)], [Var(v=0.0008, grad=0.0000)], [Var(v=0.0228, grad=0.0000)], [Var(v=-0.0017, grad=0.0000)], [Var(v=0.0362, grad=0.0000)], [Var(v=0.0318, grad=0.0000)], [Var(v=-0.0012, grad=0.0000)], [Var(v=-0.0013, grad=0.0000)], [Var(v=0.0119, grad=0.0000)], [Var(v=-0.0031, grad=0.0000)], [Var(v=0.0212, grad=0.0000)], [Var(v=-0.0022, grad=0.0000)], [Var(v=-0.0036, grad=0.0000)], [Var(v=0.0103, grad=0.0000)], [Var(v=0.0075, grad=0.0000)], [Var(v=-0.0029, grad=0.0000)], [Var(v=-0.0031, grad=0.0000)], [Var(v=0.0267, grad=0.0000)], [Var(v=-0.0022, grad=0.0000)], [Var(v=0.0105, grad=0.0000)], [Var(v=-0.0009, grad=0.0000)], [Var(v=-0.0004, grad=0.0000)], [Var(v=0.0207, grad=0.0000)], [Var(v=0.0121, grad=0.0000)], [Var(v=-0.0003, grad=0.0000)], [Var(v=0.0328, grad=0.0000)], [Var(v=-0.0016, grad=0.0000)], [Var(v=-0.0015, grad=0.0000)], [Var(v=-0.0020, grad=0.0000)], [Var(v=0.0341, grad=0.0000)], [Var(v=0.0052, grad=0.0000)], [Var(v=0.0031, grad=0.0000)], [Var(v=-0.0032, grad=0.0000)], [Var(v=-0.0004, grad=0.0000)], [Var(v=-0.0016, grad=0.0000)], [Var(v=-0.0007, grad=0.0000)], [Var(v=-0.0006, grad=0.0000)], [Var(v=-0.0018, grad=0.0000)], [Var(v=-0.0033, grad=0.0000)], [Var(v=-0.0035, grad=0.0000)], [Var(v=0.0124, grad=0.0000)], [Var(v=-0.0010, grad=0.0000)], [Var(v=-0.0019, grad=0.0000)], [Var(v=0.0193, grad=0.0000)], [Var(v=-0.0027, grad=0.0000)], [Var(v=-0.0033, grad=0.0000)], [Var(v=0.0089, grad=0.0000)], [Var(v=0.0015, grad=0.0000)], [Var(v=0.0309, grad=0.0000)], [Var(v=-0.0020, grad=0.0000)], [Var(v=0.0202, grad=0.0000)], [Var(v=-0.0019, grad=0.0000)], [Var(v=-0.0029, grad=0.0000)], [Var(v=0.0098, grad=0.0000)], [Var(v=0.0288, grad=0.0000)]]\n"
     ]
    }
   ],
   "execution_count": 179
  },
  {
   "cell_type": "markdown",
   "metadata": {
    "id": "oLrGJytZFtGm"
   },
   "source": [
    "## Exercise h) Print all network parameters\n",
    "\n",
    "Make a function that prints all the parameters of the network (weights and biases) with information about in which layer the appear. In the object oriented spirit you should introduce a method in the DenseLayer class to print the parameters of a layer. Hint: You can take inspiration from the corresponding method in Var."
   ]
  },
  {
   "cell_type": "code",
   "metadata": {
    "id": "iac-VwYGFtGm",
    "ExecuteTime": {
     "end_time": "2024-11-29T16:03:54.277743Z",
     "start_time": "2024-11-29T16:03:54.249661Z"
    }
   },
   "source": [
    "# Insert code here and in the DenseLayer class\n",
    "def print_network_parameters(network):\n",
    "    for layer_index, layer in enumerate(network):\n",
    "        layer.print_parameters(layer_index)"
   ],
   "outputs": [],
   "execution_count": 180
  },
  {
   "cell_type": "markdown",
   "metadata": {
    "id": "_79HOAXrFtHK"
   },
   "source": [
    "## Visualization\n",
    "\n",
    "Now that we have defined our activation functions we can visualize them to see what they look like:"
   ]
  },
  {
   "cell_type": "code",
   "metadata": {
    "id": "1FcylHqLTl-Z",
    "ExecuteTime": {
     "end_time": "2024-11-29T16:06:01.964896Z",
     "start_time": "2024-11-29T16:06:00.715181Z"
    }
   },
   "source": [
    "x = np.linspace(-6, 6, 100)\n",
    "\n",
    "# convert from Var to ndarray\n",
    "def Var_to_nparray(x):\n",
    "  y = np.zeros((len(x),len(x[0])))\n",
    "  for i in range(len(x)):\n",
    "    for j in range(len(x[0])):\n",
    "      y[i,j] = x[i][j].v\n",
    "  return y\n",
    "\n",
    "# define 1-1 network with weight = 1 and relu activation\n",
    "NN = [ DenseLayer(1, 1, lambda x: x.relu(), initializer = ConstantInitializer(1.0)) ]\n",
    "y = Var_to_nparray(forward(nparray_to_Var(x), NN))\n",
    "\n",
    "#y = Var_to_nparray(relu(nparray_to_Var(x)))\n",
    "plt.plot(x,y)\n",
    "plt.show()"
   ],
   "outputs": [
    {
     "data": {
      "text/plain": [
       "<Figure size 640x480 with 1 Axes>"
      ],
      "image/png": "[encoded data removed]"
     },
     "metadata": {},
     "output_type": "display_data"
    }
   ],
   "execution_count": 201
  },
  {
   "cell_type": "code",
   "metadata": {
    "id": "oOL2UolJFtHL",
    "ExecuteTime": {
     "end_time": "2024-11-29T16:03:56.797021Z",
     "start_time": "2024-11-29T16:03:55.476799Z"
    }
   },
   "source": [
    "# Testing all activation layers\n",
    "\n",
    "x = np.linspace(-6, 6, 100)\n",
    "units = {\n",
    "    \"identity\": lambda x: x.identity(),\n",
    "    \"sigmoid\": lambda x: x.sigmoid(),\n",
    "    \"relu\": lambda x: x.relu(),\n",
    "    \"tanh\": lambda x: x.tanh()\n",
    "}\n",
    "\n",
    "plt.figure(figsize=(5, 5))\n",
    "[plt.plot(x, Var_to_nparray(forward(nparray_to_Var(x), [DenseLayer(1, 1, unit, initializer = ConstantInitializer(1.0))]) ), label=unit_name, lw=2) for unit_name, unit in units.items()] # unit(nparray_to_Var(x))), label=unit_name, lw=2) for unit_name, unit in units.items()]\n",
    "plt.legend(loc=2, fontsize=16)\n",
    "plt.title('Our activation functions', fontsize=20)\n",
    "plt.ylim([-2, 5])\n",
    "plt.xlim([-6, 6])\n",
    "plt.show()"
   ],
   "outputs": [
    {
     "data": {
      "text/plain": [
       "<Figure size 500x500 with 1 Axes>"
      ],
      "image/png": "[encoded data removed]"
     },
     "metadata": {},
     "output_type": "display_data"
    }
   ],
   "execution_count": 182
  },
  {
   "cell_type": "markdown",
   "metadata": {
    "id": "b-jdEl-7FtGs"
   },
   "source": [
    "# Advanced initialization schemes\n",
    "\n",
    "If we are not careful with initialization, the signals we propagate forward ($a^{(l)}$, $l=1,\\ldots,L$) and backward ($\\delta^l$, $l=L,L-1,\\ldots,1$) can blow up or shrink to zero. A statistical analysis of the variance of the signals for different activation functions can be found in these two papers: [Glorot initialization](http://proceedings.mlr.press/v9/glorot10a/glorot10a.pdf) and [He initialization](https://arxiv.org/pdf/1502.01852v1.pdf).\n",
    "\n",
    "The result of the analyses are proposals for how to make the initialization such that the variance of the signals (forward and backward) are kept approxmimatly constant when propagating from layer to layer. The exact expressions depend upon the non-linear activation function used. In Glorot initialization, the aim is to keep both the forward and backward variances constant whereas He only aims at keeping the variance in the forward pass constant.\n",
    "\n",
    "We define $n_{in}$ and $n_{out}$ as the number of input units and output units of a particular layer.\n",
    "\n",
    "The Glorot initialization has the form:\n",
    "\n",
    "$$w_{ij} \\sim N \\bigg( 0, \\, \\frac{2 \\alpha }{n_{in} + n_{out}} \\bigg) \\ . $$\n",
    "\n",
    "where $N(\\mu,\\sigma^2)$ is a Gaussian distribution with mean $\\mu$ and variance $\\sigma^2$ and $\\alpha$ is a parameter that depends upon the activation function used. For $\\tanh$, $\\alpha=1$ and for Rectified Linear Unit (ReLU) activations, $\\alpha=2$. (It is also possible to use a uniform distribution for initialization, see [this blog post](https://mmuratarat.github.io/2019-02-25/xavier-glorot-he-weight-init).)\n",
    "\n",
    "The He initialization is very similar\n",
    "\n",
    "$$w_{ij} \\sim N \\bigg( 0, \\, \\frac{\\alpha}{n_{in}} \\bigg) \\ . $$"
   ]
  },
  {
   "cell_type": "markdown",
   "metadata": {
    "id": "mqeyab9qFtGs"
   },
   "source": [
    "## Exercise i) Glorot and He initialization\n",
    "\n",
    "Using the Initializer class, implement functions that implement Glorot and He\n",
    "\n",
    "Explain briefly how you would test numerically that these initializations have the sought after property. Hint: See plots in Glorot paper.\n",
    "\n",
    "Comment: If you want to be more advanced then try to make a universal initializer taking both the activation function and type (Glorot or He) as argument."
   ]
  },
  {
   "cell_type": "code",
   "metadata": {
    "id": "Qyk01CgaFtGt",
    "ExecuteTime": {
     "end_time": "2024-11-29T16:03:56.854034Z",
     "start_time": "2024-11-29T16:03:56.818574Z"
    }
   },
   "source": [
    "## Glorot\n",
    "def DenseLayer_Glorot_tanh(n_in: int, n_out: int):\n",
    "  std = (2.0 / (n_in + n_out)) ** 0.5 # <- we replaced it  with proper initialization\n",
    "  return DenseLayer(n_in, n_out, lambda x: x.tanh(), initializer = NormalInitializer(std))\n",
    "\n",
    "## He\n",
    "def DenseLayer_He_relu(n_in: int, n_out: int):\n",
    "  std = (2.0 / n_in) ** 0.5  # He initialization with alpha=2 (ReLU)\n",
    "  return DenseLayer(n_in, n_out, lambda x: x.relu(), initializer = NormalInitializer(std))"
   ],
   "outputs": [],
   "execution_count": 183
  },
  {
   "cell_type": "markdown",
   "metadata": {
    "id": "-XyXBD37FtHk"
   },
   "source": [
    "## Exercise j) Forward pass unit test\n",
    "\n",
    "Write a bit of code to make a unit test that the forward pass works. This can be done by defining a simple network with for example all weights equal to one (using the ConstantInitializer method) and identity activation functions.\n",
    "\n",
    "Hints: Use the [assert](https://www.w3schools.com/python/ref_keyword_assert.asp), the nparray_to_Var and the Var_to_nparray commands."
   ]
  },
  {
   "cell_type": "code",
   "metadata": {
    "id": "k0miqRUAFtHl",
    "ExecuteTime": {
     "end_time": "2024-11-29T16:03:56.906992Z",
     "start_time": "2024-11-29T16:03:56.875238Z"
    }
   },
   "source": [
    "def test_forward_pass():\n",
    "    input = [Var(1.0), Var(1.0)]  # Example input\n",
    "    network = [DenseLayer(2, 2, lambda x: x.identity(), initializer=ConstantInitializer())]\n",
    "    output = forward([input], network)\n",
    "    expected_output = [[Var(2.0), Var(2.0)]]  # Example based on constant weights\n",
    "    assert output == expected_output, \"Forward pass test failed\"\n"
   ],
   "outputs": [],
   "execution_count": 184
  },
  {
   "cell_type": "markdown",
   "metadata": {
    "id": "faCxhfFnFtHp"
   },
   "source": [
    "# Loss functions\n",
    "\n",
    "We are only missing a loss function to we need to define a loss function and its derivative with respect to the output of the neural network $y$"
   ]
  },
  {
   "cell_type": "code",
   "metadata": {
    "id": "I2eDYKvAFtHq",
    "ExecuteTime": {
     "end_time": "2024-11-29T16:03:56.962165Z",
     "start_time": "2024-11-29T16:03:56.922688Z"
    }
   },
   "source": [
    "def squared_loss(t, y):\n",
    "\n",
    "  # add check that sizes agree\n",
    "\n",
    "  def squared_loss_single(t, y):\n",
    "    Loss = Var(0.0)\n",
    "    for i in range(len(t)): # sum over outputs\n",
    "      Loss += (t[i]-y[i]) ** 2\n",
    "    return Loss\n",
    "\n",
    "  Loss = Var(0.0)\n",
    "  for n in range(len(t)): # sum over training data\n",
    "    Loss += squared_loss_single(t[n],y[n])\n",
    "  return Loss"
   ],
   "outputs": [],
   "execution_count": 185
  },
  {
   "cell_type": "markdown",
   "metadata": {
    "id": "SrwSJ2UWFtHu"
   },
   "source": [
    "## Exercise k) Implement cross entropy loss\n",
    "\n",
    "Insert code below to implement cross-entropy loss for general dimensionality of $t$. Use a logits formulation:\n",
    "$$\n",
    "\\rm{Loss} = - \\sum_i t_i \\, log \\, p_i\n",
    "$$\n",
    "with $p$ given by the the softmax function in terms of the logits $h$:\n",
    "$$\n",
    "p_i = \\frac{\\exp(h_i)}{\\sum_{i'} \\exp(h_{i'})} .\n",
    "$$\n",
    "Inserting $p$ in the expression for the loss gives\n",
    "$$\n",
    "\\rm{Loss} = - \\sum_i t_i h_i + \\rm{LogSumExp}(h) \\ ,\n",
    "$$\n",
    "where\n",
    "$$\n",
    "\\rm{LogSumExp}(h) = \\log \\sum_i \\exp h_i \\ .\n",
    "$$\n",
    "This is true for $t$ being a one-hot vector.\n",
    "\n",
    "Call the function to convince yourself it works.\n",
    "\n",
    "In practice you want to implement a [numerically stable](https://leimao.github.io/blog/LogSumExp/) version of LogSumExp. But we will not bother about that here.\n",
    "\n",
    "Help: You can add these methods in the Var class:\n",
    "\n",
    "    def exp(self):\n",
    "        return Var(exp(self.v), lambda: [(self, exp(self.v))])\n",
    "    \n",
    "    def log(self):\n",
    "        return Var(log(self.v), lambda: [(self, self.v ** -1)])"
   ]
  },
  {
   "cell_type": "code",
   "metadata": {
    "id": "6nMuxyfzFtHv",
    "ExecuteTime": {
     "end_time": "2024-11-29T16:03:57.057679Z",
     "start_time": "2024-11-29T16:03:57.030126Z"
    }
   },
   "source": [
    "def cross_entropy_loss(t, h):\n",
    "    logsumexp = Var(0.0)\n",
    "    for i in range(len(h)):\n",
    "        logsumexp += h[i].exp()\n",
    "    logsumexp = logsumexp.log()\n",
    "    \n",
    "    loss = Var(0.0)\n",
    "    for i in range(len(t)):\n",
    "        loss += -t[i] * h[i] + logsumexp\n",
    "    return loss\n"
   ],
   "outputs": [],
   "execution_count": 186
  },
  {
   "cell_type": "markdown",
   "metadata": {
    "id": "8fAF5ew4FtHy"
   },
   "source": [
    "# Backward pass\n",
    "\n",
    "Now the magic happens! We get the calculation of the gradients for free. Just do:"
   ]
  },
  {
   "cell_type": "code",
   "metadata": {
    "id": "iHyfPPI9Qqwu",
    "ExecuteTime": {
     "end_time": "2024-11-29T16:03:58.269418Z",
     "start_time": "2024-11-29T16:03:58.000062Z"
    }
   },
   "source": [
    "NN = [\n",
    "    DenseLayer(1, 5, lambda x: x.relu()),\n",
    "    DenseLayer(5, 1, lambda x: x.identity())\n",
    "]\n",
    "\n",
    "output = forward(x_train, NN)\n",
    "\n",
    "Loss = squared_loss(y_train,output)\n",
    "Loss.backward()"
   ],
   "outputs": [],
   "execution_count": 187
  },
  {
   "cell_type": "markdown",
   "metadata": {
    "id": "49biIAYKQ1oG"
   },
   "source": [
    "and the gradients will be calculated:"
   ]
  },
  {
   "cell_type": "code",
   "metadata": {
    "id": "_rGt1bq_Q7uk",
    "ExecuteTime": {
     "end_time": "2024-11-29T16:03:59.330165Z",
     "start_time": "2024-11-29T16:03:59.260470Z"
    }
   },
   "source": [
    "[print('Layer', i, '\\n', NN[i]) for i in range(len(NN))]"
   ],
   "outputs": [
    {
     "name": "stdout",
     "output_type": "stream",
     "text": [
      "Layer 0 \n",
      " Weights: [[Var(v=-0.0041, grad=-7.5221), Var(v=-0.0885, grad=-15.1246), Var(v=0.0917, grad=7.4941), Var(v=0.1040, grad=1.5554), Var(v=-0.0358, grad=-1.5654)]] Biases: [Var(v=0.0000, grad=6.8390), Var(v=0.0000, grad=13.7511), Var(v=0.0000, grad=6.4363), Var(v=0.0000, grad=1.3358), Var(v=0.0000, grad=1.4233)]\n",
      "Layer 1 \n",
      " Weights: [[Var(v=0.0772, grad=0.3956)], [Var(v=0.1552, grad=8.6242)], [Var(v=-0.0731, grad=-9.3985)], [Var(v=-0.0152, grad=-10.6637)], [Var(v=0.0161, grad=3.4916)]] Biases: [Var(v=0.0000, grad=0.5867)]\n"
     ]
    },
    {
     "data": {
      "text/plain": [
       "[None, None]"
      ]
     },
     "execution_count": 188,
     "metadata": {},
     "output_type": "execute_result"
    }
   ],
   "execution_count": 188
  },
  {
   "cell_type": "markdown",
   "metadata": {
    "id": "D7d7qK0uFtH9"
   },
   "source": [
    "# Backward pass unit test\n",
    "\n",
    "Above we used finite differences to test that Nanograd is actually doing what it is supposed to do. We can in principle try the same for the neural network. But we will trust that the test above is enough."
   ]
  },
  {
   "cell_type": "markdown",
   "metadata": {
    "id": "WgBi8GOSFtIN"
   },
   "source": [
    "# Training and validation\n",
    "\n",
    "We are ready to train some neural networks!\n",
    "\n",
    "We initialize again:"
   ]
  },
  {
   "cell_type": "code",
   "metadata": {
    "id": "01ePmzBzRtdh",
    "ExecuteTime": {
     "end_time": "2024-11-29T16:04:14.801742Z",
     "start_time": "2024-11-29T16:03:59.707801Z"
    }
   },
   "source": [
    "NN = [\n",
    "    DenseLayer(1, 15, lambda x: x.relu()),\n",
    "    DenseLayer(15, 50, lambda x: x.relu()),\n",
    "    DenseLayer(50, 1, lambda x: x.identity())\n",
    "]\n",
    "\n",
    "output = forward(x_train, NN)\n",
    "\n",
    "Loss = squared_loss(y_train,output)\n",
    "Loss.backward()"
   ],
   "outputs": [],
   "execution_count": 189
  },
  {
   "cell_type": "markdown",
   "metadata": {
    "id": "10iRPiQ1ISHw"
   },
   "source": [
    "and make an update:\n",
    "\n",
    "We introduce a help function parameters to have a handle in all parameters in the network."
   ]
  },
  {
   "cell_type": "code",
   "metadata": {
    "id": "dhAI7eyeznia",
    "ExecuteTime": {
     "end_time": "2024-11-29T16:04:14.935687Z",
     "start_time": "2024-11-29T16:04:14.829661Z"
    }
   },
   "source": [
    "print('Network before update:')\n",
    "[print('Layer', i, '\\n', NN[i]) for i in range(len(NN))]\n",
    "\n",
    "def parameters(network):\n",
    "  params = []\n",
    "  for layer in range(len(network)):\n",
    "    params += network[layer].parameters()\n",
    "  return params\n",
    "\n",
    "def update_parameters(params, learning_rate=0.01):\n",
    "  for p in params:\n",
    "    p.v -= learning_rate*p.grad\n",
    "\n",
    "def zero_gradients(params):\n",
    "  for p in params:\n",
    "    p.grad = 0.0\n",
    "\n",
    "update_parameters(parameters(NN))\n",
    "\n",
    "print('\\nNetwork after update:')\n",
    "[print('Layer', i, '\\n', NN[i]) for i in range(len(NN))]\n",
    "\n",
    "zero_gradients(parameters(NN))\n",
    "\n",
    "print('\\nNetwork after zeroing gradients:')\n",
    "[print('Layer', i, '\\n', NN[i]) for i in range(len(NN))]"
   ],
   "outputs": [
    {
     "name": "stdout",
     "output_type": "stream",
     "text": [
      "Network before update:\n",
      "Layer 0 \n",
      " Weights: [[Var(v=-0.0401, grad=1.7822), Var(v=-0.0987, grad=-2.9651), Var(v=0.0397, grad=-10.9802), Var(v=0.0751, grad=0.2528), Var(v=0.1037, grad=8.7207), Var(v=0.1182, grad=2.9344), Var(v=-0.0569, grad=-0.0383), Var(v=0.0807, grad=-4.8166), Var(v=-0.0946, grad=1.2690), Var(v=-0.0316, grad=0.6287), Var(v=0.1441, grad=-3.4173), Var(v=-0.0459, grad=0.9037), Var(v=-0.3368, grad=4.2810), Var(v=0.1022, grad=-3.7962), Var(v=0.0133, grad=-1.7330)]] Biases: [Var(v=0.0000, grad=-1.6195), Var(v=0.0000, grad=2.6944), Var(v=0.0000, grad=-9.4329), Var(v=0.0000, grad=0.2172), Var(v=0.0000, grad=7.4917), Var(v=0.0000, grad=2.5209), Var(v=0.0000, grad=0.0348), Var(v=0.0000, grad=-4.1378), Var(v=0.0000, grad=-1.1531), Var(v=0.0000, grad=-0.5713), Var(v=0.0000, grad=-2.9357), Var(v=0.0000, grad=-0.8212), Var(v=0.0000, grad=-3.8901), Var(v=0.0000, grad=-3.2613), Var(v=0.0000, grad=-1.4888)]\n",
      "Layer 1 \n",
      " Weights: [[Var(v=0.0007, grad=0.0000), Var(v=0.0268, grad=-0.0221), Var(v=0.1147, grad=-0.4538), Var(v=-0.0656, grad=0.0000), Var(v=0.1634, grad=-0.2135), Var(v=-0.0203, grad=0.0000), Var(v=0.1164, grad=0.0000), Var(v=0.0604, grad=0.0000), Var(v=0.0297, grad=-0.2543), Var(v=-0.0400, grad=0.0000), Var(v=-0.1584, grad=0.0000), Var(v=-0.0699, grad=0.0000), Var(v=0.0314, grad=0.0000), Var(v=-0.0872, grad=0.0000), Var(v=0.0130, grad=-0.4181), Var(v=-0.0687, grad=0.0000), Var(v=0.0987, grad=-0.4216), Var(v=0.1435, grad=-0.1896), Var(v=-0.0892, grad=0.0000), Var(v=-0.0257, grad=0.0000), Var(v=0.0502, grad=0.1820), Var(v=0.0743, grad=-0.4381), Var(v=0.1339, grad=0.0925), Var(v=-0.1454, grad=0.0000), Var(v=0.0327, grad=-0.2036), Var(v=0.0791, grad=0.0000), Var(v=0.0225, grad=0.0000), Var(v=0.1769, grad=0.0000), Var(v=0.0447, grad=0.0000), Var(v=-0.0679, grad=0.0000), Var(v=0.0715, grad=0.0000), Var(v=-0.0942, grad=-0.3466), Var(v=0.1215, grad=0.2804), Var(v=-0.0732, grad=0.0000), Var(v=0.0010, grad=0.0000), Var(v=0.0212, grad=0.0000), Var(v=-0.1160, grad=0.0904), Var(v=0.0337, grad=-0.6421), Var(v=-0.0126, grad=0.7356), Var(v=0.0075, grad=0.4749), Var(v=0.0180, grad=0.6807), Var(v=0.0539, grad=0.0174), Var(v=-0.0676, grad=-0.6789), Var(v=0.0713, grad=-0.2721), Var(v=0.0186, grad=0.0000), Var(v=0.1150, grad=0.1389), Var(v=0.0497, grad=0.1026), Var(v=0.0591, grad=0.2360), Var(v=-0.0432, grad=-0.1737), Var(v=-0.0230, grad=-0.1912)], [Var(v=-0.0707, grad=0.0000), Var(v=0.0236, grad=-0.0542), Var(v=-0.1605, grad=-1.1160), Var(v=-0.0708, grad=0.0000), Var(v=-0.2452, grad=-0.5252), Var(v=-0.0776, grad=0.0000), Var(v=-0.0927, grad=0.0000), Var(v=-0.0328, grad=0.0000), Var(v=0.0133, grad=-0.6253), Var(v=0.1930, grad=0.0000), Var(v=-0.0499, grad=0.0000), Var(v=0.0736, grad=0.0000), Var(v=-0.1362, grad=0.0000), Var(v=-0.1194, grad=0.0000), Var(v=0.1089, grad=-1.0281), Var(v=-0.1109, grad=0.0000), Var(v=0.0302, grad=-1.0369), Var(v=0.0046, grad=-0.4662), Var(v=-0.1443, grad=0.0000), Var(v=0.1080, grad=0.0000), Var(v=-0.0463, grad=0.4475), Var(v=-0.0329, grad=-1.0774), Var(v=0.1374, grad=0.2274), Var(v=0.0937, grad=0.0000), Var(v=0.1017, grad=-0.5008), Var(v=0.1687, grad=0.0000), Var(v=0.0003, grad=0.0000), Var(v=-0.0546, grad=0.0000), Var(v=-0.0993, grad=0.0000), Var(v=-0.0001, grad=0.0000), Var(v=-0.0473, grad=0.0000), Var(v=0.1746, grad=-0.8523), Var(v=-0.0652, grad=0.6896), Var(v=0.0919, grad=0.0000), Var(v=0.0256, grad=0.0000), Var(v=-0.0720, grad=0.0000), Var(v=0.0616, grad=0.2223), Var(v=-0.0832, grad=-1.5790), Var(v=0.0493, grad=1.8090), Var(v=0.1527, grad=1.1678), Var(v=-0.0157, grad=1.6739), Var(v=-0.0131, grad=0.0427), Var(v=0.0188, grad=-1.6697), Var(v=-0.0828, grad=-0.6692), Var(v=-0.2906, grad=0.0000), Var(v=0.0243, grad=0.3417), Var(v=0.0850, grad=0.2522), Var(v=-0.0677, grad=0.5804), Var(v=0.2350, grad=-0.4272), Var(v=-0.0823, grad=-0.4702)], [Var(v=-0.0434, grad=0.0000), Var(v=-0.0735, grad=0.0000), Var(v=-0.0779, grad=0.0000), Var(v=0.0670, grad=0.0000), Var(v=0.1331, grad=0.0000), Var(v=-0.0231, grad=0.2030), Var(v=-0.0158, grad=0.0000), Var(v=-0.1654, grad=0.0000), Var(v=0.0857, grad=0.2691), Var(v=0.0728, grad=0.0000), Var(v=-0.0473, grad=-0.7259), Var(v=0.0783, grad=-0.0597), Var(v=0.0405, grad=0.0000), Var(v=-0.1149, grad=-0.0708), Var(v=0.0682, grad=0.4425), Var(v=-0.0387, grad=0.0513), Var(v=-0.1573, grad=0.0000), Var(v=-0.1867, grad=0.2006), Var(v=-0.1221, grad=0.0000), Var(v=0.1739, grad=0.0000), Var(v=-0.0469, grad=0.0000), Var(v=0.0322, grad=0.4637), Var(v=-0.0009, grad=-0.0979), Var(v=0.0807, grad=-0.1106), Var(v=0.1294, grad=0.2155), Var(v=-0.0441, grad=0.4520), Var(v=0.0785, grad=0.0000), Var(v=-0.0041, grad=-0.2530), Var(v=0.2768, grad=-0.8460), Var(v=0.0566, grad=-0.0207), Var(v=-0.0053, grad=0.3241), Var(v=-0.0062, grad=0.3668), Var(v=0.2147, grad=-0.2968), Var(v=0.0076, grad=-0.5701), Var(v=-0.0236, grad=0.0000), Var(v=-0.0042, grad=0.0000), Var(v=-0.0998, grad=0.0000), Var(v=0.1798, grad=0.0000), Var(v=-0.0395, grad=0.0000), Var(v=0.2210, grad=-0.5026), Var(v=0.1108, grad=-0.7204), Var(v=-0.0104, grad=-0.0184), Var(v=-0.2063, grad=0.0000), Var(v=-0.1025, grad=0.0000), Var(v=-0.0055, grad=0.0329), Var(v=-0.1157, grad=-0.1470), Var(v=-0.1133, grad=0.0000), Var(v=0.0047, grad=-0.2498), Var(v=0.0567, grad=0.0000), Var(v=-0.0769, grad=0.2024)], [Var(v=-0.0183, grad=0.0000), Var(v=-0.0289, grad=0.0000), Var(v=-0.1192, grad=0.0000), Var(v=0.0964, grad=0.0000), Var(v=-0.0895, grad=0.0000), Var(v=-0.0443, grad=0.3838), Var(v=-0.0645, grad=0.0000), Var(v=-0.1148, grad=0.0000), Var(v=0.1000, grad=0.5087), Var(v=0.0029, grad=0.0000), Var(v=-0.0063, grad=-1.3722), Var(v=-0.2234, grad=-0.1129), Var(v=0.0019, grad=0.0000), Var(v=0.0893, grad=-0.1339), Var(v=0.0153, grad=0.8364), Var(v=0.0419, grad=0.0969), Var(v=-0.0072, grad=0.0000), Var(v=-0.0521, grad=0.3793), Var(v=-0.0993, grad=0.0000), Var(v=-0.0112, grad=0.0000), Var(v=0.0667, grad=0.0000), Var(v=-0.0081, grad=0.8765), Var(v=0.0203, grad=-0.1850), Var(v=0.1320, grad=-0.2090), Var(v=-0.0663, grad=0.4074), Var(v=-0.0987, grad=0.8543), Var(v=-0.1848, grad=0.0000), Var(v=0.1408, grad=-0.4782), Var(v=-0.0099, grad=-1.5992), Var(v=-0.0129, grad=-0.0391), Var(v=0.0418, grad=0.6127), Var(v=0.1741, grad=0.6934), Var(v=-0.1243, grad=-0.5610), Var(v=-0.0568, grad=-1.0777), Var(v=-0.0740, grad=0.0000), Var(v=-0.1466, grad=0.0000), Var(v=0.1300, grad=0.0000), Var(v=-0.0894, grad=0.0000), Var(v=0.0590, grad=0.0000), Var(v=0.0566, grad=-0.9501), Var(v=0.0142, grad=-1.3618), Var(v=-0.0552, grad=-0.0347), Var(v=0.0582, grad=0.0000), Var(v=-0.0580, grad=0.0000), Var(v=0.0364, grad=0.0622), Var(v=-0.0928, grad=-0.2780), Var(v=-0.0577, grad=0.0000), Var(v=0.0851, grad=-0.4722), Var(v=-0.1454, grad=0.0000), Var(v=-0.0709, grad=0.3826)], [Var(v=-0.0802, grad=0.0000), Var(v=0.0394, grad=0.0000), Var(v=-0.1790, grad=0.0000), Var(v=-0.1206, grad=0.0000), Var(v=-0.0139, grad=0.0000), Var(v=0.0553, grad=0.5301), Var(v=0.0360, grad=0.0000), Var(v=-0.0053, grad=0.0000), Var(v=0.0561, grad=0.7026), Var(v=-0.1585, grad=0.0000), Var(v=-0.0932, grad=-1.8952), Var(v=-0.0038, grad=-0.1559), Var(v=-0.0856, grad=0.0000), Var(v=0.1039, grad=-0.1849), Var(v=0.0716, grad=1.1553), Var(v=-0.1246, grad=0.1338), Var(v=0.0660, grad=0.0000), Var(v=0.2131, grad=0.5238), Var(v=0.0157, grad=0.0000), Var(v=-0.0335, grad=0.0000), Var(v=-0.0489, grad=0.0000), Var(v=0.2127, grad=1.2106), Var(v=-0.0438, grad=-0.2555), Var(v=0.0688, grad=-0.2887), Var(v=0.0414, grad=0.5627), Var(v=0.0436, grad=1.1800), Var(v=0.0297, grad=0.0000), Var(v=-0.0819, grad=-0.6605), Var(v=-0.1789, grad=-2.2088), Var(v=-0.0062, grad=-0.0539), Var(v=0.0293, grad=0.8463), Var(v=0.1119, grad=0.9577), Var(v=0.0383, grad=-0.7748), Var(v=0.0391, grad=-1.4885), Var(v=0.1438, grad=0.0000), Var(v=-0.1348, grad=0.0000), Var(v=0.0143, grad=0.0000), Var(v=-0.0882, grad=0.0000), Var(v=-0.0109, grad=0.0000), Var(v=0.0445, grad=-1.3122), Var(v=0.0718, grad=-1.8809), Var(v=-0.0636, grad=-0.0480), Var(v=-0.1345, grad=0.0000), Var(v=-0.0779, grad=0.0000), Var(v=0.1450, grad=0.0860), Var(v=0.1319, grad=-0.3839), Var(v=-0.0813, grad=0.0000), Var(v=0.1250, grad=-0.6521), Var(v=-0.1279, grad=0.0000), Var(v=-0.0140, grad=0.5284)], [Var(v=0.0004, grad=0.0000), Var(v=-0.0322, grad=0.0000), Var(v=0.0585, grad=0.0000), Var(v=0.0033, grad=0.0000), Var(v=-0.0062, grad=0.0000), Var(v=0.0528, grad=0.6042), Var(v=0.0431, grad=0.0000), Var(v=-0.1582, grad=0.0000), Var(v=-0.1145, grad=0.8008), Var(v=0.0543, grad=0.0000), Var(v=0.0478, grad=-2.1600), Var(v=-0.0357, grad=-0.1777), Var(v=-0.0739, grad=0.0000), Var(v=-0.0349, grad=-0.2107), Var(v=0.1172, grad=1.3167), Var(v=0.2435, grad=0.1525), Var(v=0.0593, grad=0.0000), Var(v=-0.0009, grad=0.5970), Var(v=-0.0421, grad=0.0000), Var(v=0.1058, grad=0.0000), Var(v=-0.1074, grad=0.0000), Var(v=-0.0091, grad=1.3797), Var(v=0.0175, grad=-0.2912), Var(v=-0.1175, grad=-0.3291), Var(v=0.0418, grad=0.6413), Var(v=0.1118, grad=1.3448), Var(v=-0.0576, grad=0.0000), Var(v=-0.0999, grad=-0.7528), Var(v=0.1416, grad=-2.5174), Var(v=-0.0214, grad=-0.0615), Var(v=0.0741, grad=0.9645), Var(v=-0.1711, grad=1.0915), Var(v=-0.0670, grad=-0.8831), Var(v=-0.0016, grad=-1.6964), Var(v=0.0725, grad=0.0000), Var(v=-0.0204, grad=0.0000), Var(v=-0.0017, grad=0.0000), Var(v=0.0412, grad=0.0000), Var(v=0.0611, grad=0.0000), Var(v=-0.0929, grad=-1.4956), Var(v=-0.0850, grad=-2.1437), Var(v=-0.1058, grad=-0.0547), Var(v=-0.2034, grad=0.0000), Var(v=-0.0000, grad=0.0000), Var(v=0.2788, grad=0.0980), Var(v=0.0294, grad=-0.4375), Var(v=-0.1295, grad=0.0000), Var(v=-0.0639, grad=-0.7432), Var(v=0.0976, grad=0.0000), Var(v=0.0856, grad=0.6022)], [Var(v=0.0371, grad=0.0000), Var(v=-0.0612, grad=-0.0313), Var(v=-0.1651, grad=-0.6433), Var(v=0.0816, grad=0.0000), Var(v=0.0435, grad=-0.3027), Var(v=0.1169, grad=0.0000), Var(v=-0.0649, grad=0.0000), Var(v=0.0364, grad=0.0000), Var(v=0.0482, grad=-0.3605), Var(v=-0.0362, grad=0.0000), Var(v=-0.2096, grad=0.0000), Var(v=-0.0380, grad=0.0000), Var(v=0.0219, grad=0.0000), Var(v=-0.0349, grad=0.0000), Var(v=-0.0957, grad=-0.5927), Var(v=0.1206, grad=0.0000), Var(v=-0.1133, grad=-0.5977), Var(v=0.1670, grad=-0.2687), Var(v=-0.1035, grad=0.0000), Var(v=-0.0369, grad=0.0000), Var(v=-0.1569, grad=0.2580), Var(v=0.1675, grad=-0.6210), Var(v=-0.0154, grad=0.1311), Var(v=0.1202, grad=0.0000), Var(v=0.1393, grad=-0.2887), Var(v=-0.0196, grad=0.0000), Var(v=-0.0716, grad=0.0000), Var(v=0.1022, grad=0.0000), Var(v=0.1866, grad=0.0000), Var(v=0.0341, grad=0.0000), Var(v=0.0893, grad=0.0000), Var(v=0.0176, grad=-0.4913), Var(v=0.0955, grad=0.3975), Var(v=0.0437, grad=0.0000), Var(v=0.0940, grad=0.0000), Var(v=0.0225, grad=0.0000), Var(v=0.1387, grad=0.1281), Var(v=-0.0391, grad=-0.9102), Var(v=0.0114, grad=1.0428), Var(v=-0.0027, grad=0.6732), Var(v=0.1115, grad=0.9649), Var(v=0.0736, grad=0.0246), Var(v=0.1280, grad=-0.9625), Var(v=0.0788, grad=-0.3858), Var(v=0.0897, grad=0.0000), Var(v=0.0714, grad=0.1969), Var(v=0.0373, grad=0.1454), Var(v=0.0931, grad=0.3346), Var(v=0.0933, grad=-0.2462), Var(v=0.1635, grad=-0.2711)], [Var(v=-0.0768, grad=0.0000), Var(v=-0.0854, grad=0.0000), Var(v=-0.0129, grad=0.0000), Var(v=-0.1330, grad=0.0000), Var(v=-0.1093, grad=0.0000), Var(v=0.0107, grad=0.4124), Var(v=0.0881, grad=0.0000), Var(v=-0.0598, grad=0.0000), Var(v=-0.0279, grad=0.5466), Var(v=-0.0436, grad=0.0000), Var(v=-0.0083, grad=-1.4744), Var(v=0.0317, grad=-0.1213), Var(v=0.0753, grad=0.0000), Var(v=0.0868, grad=-0.1438), Var(v=-0.0187, grad=0.8988), Var(v=0.1065, grad=0.1041), Var(v=0.0060, grad=0.0000), Var(v=-0.0532, grad=0.4075), Var(v=-0.0050, grad=0.0000), Var(v=-0.0880, grad=0.0000), Var(v=-0.0435, grad=0.0000), Var(v=-0.0371, grad=0.9418), Var(v=0.1426, grad=-0.1988), Var(v=-0.0485, grad=-0.2246), Var(v=-0.0789, grad=0.4378), Var(v=0.0617, grad=0.9180), Var(v=0.0323, grad=0.0000), Var(v=0.1025, grad=-0.5139), Var(v=0.0473, grad=-1.7184), Var(v=-0.2153, grad=-0.0420), Var(v=0.0718, grad=0.6584), Var(v=0.1389, grad=0.7450), Var(v=-0.0332, grad=-0.6028), Var(v=0.0848, grad=-1.1580), Var(v=-0.0448, grad=0.0000), Var(v=-0.0517, grad=0.0000), Var(v=0.0089, grad=0.0000), Var(v=-0.1135, grad=0.0000), Var(v=0.0309, grad=0.0000), Var(v=0.0845, grad=-1.0209), Var(v=0.1860, grad=-1.4633), Var(v=0.0304, grad=-0.0373), Var(v=-0.1619, grad=0.0000), Var(v=-0.0189, grad=0.0000), Var(v=0.0585, grad=0.0669), Var(v=0.0679, grad=-0.2987), Var(v=-0.0632, grad=0.0000), Var(v=-0.1214, grad=-0.5073), Var(v=-0.0412, grad=0.0000), Var(v=0.1236, grad=0.4111)], [Var(v=0.1415, grad=0.0000), Var(v=0.0696, grad=-0.0520), Var(v=-0.0017, grad=-1.0703), Var(v=-0.1499, grad=0.0000), Var(v=0.1826, grad=-0.5037), Var(v=0.2131, grad=0.0000), Var(v=-0.0494, grad=0.0000), Var(v=-0.0810, grad=0.0000), Var(v=0.1338, grad=-0.5997), Var(v=-0.0341, grad=0.0000), Var(v=-0.0562, grad=0.0000), Var(v=-0.0752, grad=0.0000), Var(v=-0.0756, grad=0.0000), Var(v=-0.0311, grad=0.0000), Var(v=0.0533, grad=-0.9861), Var(v=-0.1508, grad=0.0000), Var(v=-0.1030, grad=-0.9944), Var(v=-0.0357, grad=-0.4471), Var(v=0.2445, grad=0.0000), Var(v=-0.0163, grad=0.0000), Var(v=-0.0437, grad=0.4292), Var(v=0.0279, grad=-1.0333), Var(v=-0.0091, grad=0.2181), Var(v=-0.0741, grad=0.0000), Var(v=-0.0047, grad=-0.4803), Var(v=-0.0523, grad=0.0000), Var(v=-0.0862, grad=0.0000), Var(v=0.0538, grad=0.0000), Var(v=-0.3038, grad=0.0000), Var(v=0.0291, grad=0.0000), Var(v=0.0159, grad=0.0000), Var(v=0.0832, grad=-0.8174), Var(v=-0.0221, grad=0.6613), Var(v=0.1018, grad=0.0000), Var(v=0.0662, grad=0.0000), Var(v=-0.0256, grad=0.0000), Var(v=-0.0068, grad=0.2132), Var(v=0.0795, grad=-1.5144), Var(v=0.0931, grad=1.7350), Var(v=-0.0990, grad=1.1201), Var(v=0.0214, grad=1.6054), Var(v=0.0696, grad=0.0410), Var(v=-0.0869, grad=-1.6014), Var(v=-0.0151, grad=-0.6419), Var(v=-0.0029, grad=0.0000), Var(v=0.0815, grad=0.3277), Var(v=0.0915, grad=0.2419), Var(v=-0.0616, grad=0.5566), Var(v=0.0985, grad=-0.4097), Var(v=-0.0644, grad=-0.4510)], [Var(v=-0.0768, grad=0.0000), Var(v=0.0113, grad=-0.0173), Var(v=0.0187, grad=-0.3570), Var(v=-0.0063, grad=0.0000), Var(v=0.0025, grad=-0.1680), Var(v=0.0630, grad=0.0000), Var(v=-0.0076, grad=0.0000), Var(v=-0.1843, grad=0.0000), Var(v=-0.0955, grad=-0.2000), Var(v=0.0230, grad=0.0000), Var(v=-0.0293, grad=0.0000), Var(v=0.0567, grad=0.0000), Var(v=-0.1421, grad=0.0000), Var(v=-0.2284, grad=0.0000), Var(v=-0.2698, grad=-0.3289), Var(v=0.0294, grad=0.0000), Var(v=0.0638, grad=-0.3317), Var(v=0.1775, grad=-0.1491), Var(v=-0.1350, grad=0.0000), Var(v=0.1617, grad=0.0000), Var(v=-0.0846, grad=0.1431), Var(v=-0.0183, grad=-0.3446), Var(v=-0.0724, grad=0.0727), Var(v=-0.0683, grad=0.0000), Var(v=-0.0769, grad=-0.1602), Var(v=-0.0033, grad=0.0000), Var(v=-0.1652, grad=0.0000), Var(v=-0.0054, grad=0.0000), Var(v=-0.0460, grad=0.0000), Var(v=-0.0688, grad=0.0000), Var(v=-0.0149, grad=0.0000), Var(v=0.0391, grad=-0.2726), Var(v=0.0193, grad=0.2206), Var(v=-0.0171, grad=0.0000), Var(v=-0.1536, grad=0.0000), Var(v=0.0234, grad=0.0000), Var(v=-0.0775, grad=0.0711), Var(v=0.2575, grad=-0.5051), Var(v=0.1922, grad=0.5787), Var(v=0.1069, grad=0.3736), Var(v=0.0608, grad=0.5354), Var(v=0.0085, grad=0.0137), Var(v=0.2302, grad=-0.5341), Var(v=0.0675, grad=-0.2141), Var(v=-0.1555, grad=0.0000), Var(v=-0.0350, grad=0.1093), Var(v=-0.0530, grad=0.0807), Var(v=0.0651, grad=0.1856), Var(v=0.0626, grad=-0.1366), Var(v=-0.1734, grad=-0.1504)], [Var(v=-0.0329, grad=0.0000), Var(v=-0.2116, grad=0.0000), Var(v=-0.0316, grad=0.0000), Var(v=-0.1414, grad=0.0000), Var(v=-0.0033, grad=0.0000), Var(v=-0.0058, grad=0.7370), Var(v=-0.0233, grad=0.0000), Var(v=-0.0638, grad=0.0000), Var(v=0.0845, grad=0.9768), Var(v=-0.0209, grad=0.0000), Var(v=0.0657, grad=-2.6347), Var(v=-0.0455, grad=-0.2168), Var(v=0.1259, grad=0.0000), Var(v=-0.0595, grad=-0.2570), Var(v=0.0897, grad=1.6060), Var(v=0.0532, grad=0.1860), Var(v=-0.0902, grad=0.0000), Var(v=0.0333, grad=0.7282), Var(v=-0.1052, grad=0.0000), Var(v=-0.0988, grad=0.0000), Var(v=0.0048, grad=0.0000), Var(v=0.0759, grad=1.6829), Var(v=-0.0500, grad=-0.3552), Var(v=0.0361, grad=-0.4014), Var(v=0.2591, grad=0.7823), Var(v=-0.0940, grad=1.6404), Var(v=-0.0877, grad=0.0000), Var(v=0.0052, grad=-0.9182), Var(v=0.0306, grad=-3.0706), Var(v=0.0704, grad=-0.0750), Var(v=-0.1781, grad=1.1765), Var(v=-0.0965, grad=1.3313), Var(v=0.1045, grad=-1.0771), Var(v=0.0287, grad=-2.0692), Var(v=-0.0955, grad=0.0000), Var(v=0.0512, grad=0.0000), Var(v=-0.0232, grad=0.0000), Var(v=-0.0145, grad=0.0000), Var(v=-0.1874, grad=0.0000), Var(v=0.0305, grad=-1.8242), Var(v=-0.0075, grad=-2.6147), Var(v=0.0877, grad=-0.0667), Var(v=-0.0417, grad=0.0000), Var(v=-0.0153, grad=0.0000), Var(v=-0.0477, grad=0.1195), Var(v=0.1725, grad=-0.5337), Var(v=-0.0445, grad=0.0000), Var(v=0.0245, grad=-0.9066), Var(v=-0.1386, grad=0.0000), Var(v=-0.0065, grad=0.7345)], [Var(v=-0.0136, grad=0.0000), Var(v=-0.1272, grad=-0.0252), Var(v=0.1249, grad=-0.5186), Var(v=0.0490, grad=0.0000), Var(v=-0.0572, grad=-0.2440), Var(v=-0.0160, grad=0.0000), Var(v=-0.0953, grad=0.0000), Var(v=-0.0788, grad=0.0000), Var(v=-0.1539, grad=-0.2906), Var(v=-0.1237, grad=0.0000), Var(v=-0.0004, grad=0.0000), Var(v=0.0780, grad=0.0000), Var(v=-0.0887, grad=0.0000), Var(v=0.1927, grad=0.0000), Var(v=0.0559, grad=-0.4777), Var(v=0.0073, grad=0.0000), Var(v=0.0347, grad=-0.4818), Var(v=0.0046, grad=-0.2166), Var(v=-0.0904, grad=0.0000), Var(v=0.1400, grad=0.0000), Var(v=0.0993, grad=0.2079), Var(v=0.0862, grad=-0.5006), Var(v=-0.1168, grad=0.1057), Var(v=0.0051, grad=0.0000), Var(v=-0.0419, grad=-0.2327), Var(v=0.0197, grad=0.0000), Var(v=0.1026, grad=0.0000), Var(v=0.0156, grad=0.0000), Var(v=-0.0532, grad=0.0000), Var(v=0.1317, grad=0.0000), Var(v=-0.0987, grad=0.0000), Var(v=-0.0219, grad=-0.3960), Var(v=-0.0180, grad=0.3204), Var(v=0.0422, grad=0.0000), Var(v=-0.1871, grad=0.0000), Var(v=0.1290, grad=0.0000), Var(v=-0.0384, grad=0.1033), Var(v=0.0954, grad=-0.7337), Var(v=0.0557, grad=0.8406), Var(v=-0.1022, grad=0.5427), Var(v=0.0546, grad=0.7778), Var(v=0.0460, grad=0.0198), Var(v=-0.1387, grad=-0.7758), Var(v=0.0449, grad=-0.3110), Var(v=-0.1005, grad=0.0000), Var(v=-0.0635, grad=0.1588), Var(v=0.0021, grad=0.1172), Var(v=0.0035, grad=0.2697), Var(v=-0.0187, grad=-0.1985), Var(v=0.0973, grad=-0.2185)], [Var(v=-0.0968, grad=0.0000), Var(v=0.1960, grad=-0.1851), Var(v=0.1727, grad=-3.8092), Var(v=-0.0896, grad=0.0000), Var(v=0.0083, grad=-1.7925), Var(v=-0.0599, grad=0.0000), Var(v=-0.0429, grad=0.0000), Var(v=0.0003, grad=0.0000), Var(v=0.1084, grad=-2.1343), Var(v=-0.0377, grad=0.0000), Var(v=-0.1220, grad=0.0000), Var(v=-0.0144, grad=0.0000), Var(v=-0.0883, grad=0.0000), Var(v=-0.0502, grad=0.0000), Var(v=0.2502, grad=-3.5093), Var(v=-0.0577, grad=0.0000), Var(v=0.0330, grad=-3.5391), Var(v=-0.0068, grad=-1.5912), Var(v=-0.0572, grad=0.0000), Var(v=-0.0539, grad=0.0000), Var(v=0.0706, grad=1.5274), Var(v=-0.0116, grad=-3.6773), Var(v=0.0367, grad=0.7761), Var(v=-0.0828, grad=0.0000), Var(v=-0.0314, grad=-1.7094), Var(v=-0.1597, grad=0.0000), Var(v=-0.0687, grad=0.0000), Var(v=-0.0844, grad=0.0000), Var(v=0.0145, grad=0.0000), Var(v=-0.2012, grad=0.0000), Var(v=-0.0560, grad=0.0000), Var(v=-0.0515, grad=-2.9092), Var(v=0.0534, grad=2.3537), Var(v=-0.1392, grad=0.0000), Var(v=-0.1240, grad=0.0000), Var(v=-0.1819, grad=0.0000), Var(v=0.1449, grad=0.7587), Var(v=0.0200, grad=-5.3896), Var(v=-0.0605, grad=6.1747), Var(v=0.0644, grad=3.9862), Var(v=0.0431, grad=5.7135), Var(v=-0.0345, grad=0.1458), Var(v=0.0439, grad=-5.6991), Var(v=0.0758, grad=-2.2843), Var(v=0.0350, grad=0.0000), Var(v=-0.0139, grad=1.1662), Var(v=0.0776, grad=0.8610), Var(v=0.1591, grad=1.9810), Var(v=0.0146, grad=-1.4581), Var(v=0.0455, grad=-1.6050)], [Var(v=0.0202, grad=0.0000), Var(v=0.0011, grad=0.0000), Var(v=-0.1361, grad=0.0000), Var(v=0.0522, grad=0.0000), Var(v=0.0625, grad=0.0000), Var(v=0.1594, grad=0.5226), Var(v=-0.1283, grad=0.0000), Var(v=0.1405, grad=0.0000), Var(v=-0.0516, grad=0.6927), Var(v=-0.1144, grad=0.0000), Var(v=0.1829, grad=-1.8684), Var(v=0.2446, grad=-0.1537), Var(v=-0.1070, grad=0.0000), Var(v=0.0063, grad=-0.1823), Var(v=0.0820, grad=1.1389), Var(v=0.1079, grad=0.1319), Var(v=-0.0549, grad=0.0000), Var(v=-0.0412, grad=0.5164), Var(v=-0.0538, grad=0.0000), Var(v=-0.1125, grad=0.0000), Var(v=-0.0142, grad=0.0000), Var(v=-0.0219, grad=1.1934), Var(v=-0.0177, grad=-0.2519), Var(v=0.1351, grad=-0.2846), Var(v=-0.0937, grad=0.5547), Var(v=0.1199, grad=1.1633), Var(v=0.0045, grad=0.0000), Var(v=0.0128, grad=-0.6511), Var(v=0.0769, grad=-2.1775), Var(v=0.1016, grad=-0.0532), Var(v=0.1372, grad=0.8343), Var(v=0.0286, grad=0.9441), Var(v=0.0105, grad=-0.7638), Var(v=0.0052, grad=-1.4674), Var(v=-0.0438, grad=0.0000), Var(v=0.1331, grad=0.0000), Var(v=-0.1661, grad=0.0000), Var(v=-0.0649, grad=0.0000), Var(v=0.1442, grad=0.0000), Var(v=-0.0805, grad=-1.2936), Var(v=0.1095, grad=-1.8542), Var(v=0.1516, grad=-0.0473), Var(v=0.0818, grad=0.0000), Var(v=0.0545, grad=0.0000), Var(v=0.1539, grad=0.0847), Var(v=-0.0842, grad=-0.3785), Var(v=-0.0456, grad=0.0000), Var(v=0.0483, grad=-0.6429), Var(v=-0.0870, grad=0.0000), Var(v=-0.0410, grad=0.5209)], [Var(v=-0.1269, grad=0.0000), Var(v=-0.1866, grad=0.0000), Var(v=0.1515, grad=0.0000), Var(v=-0.0474, grad=0.0000), Var(v=-0.0974, grad=0.0000), Var(v=-0.3112, grad=0.0679), Var(v=0.0724, grad=0.0000), Var(v=0.0113, grad=0.0000), Var(v=-0.0631, grad=0.0899), Var(v=-0.2223, grad=0.0000), Var(v=-0.0832, grad=-0.2426), Var(v=-0.0627, grad=-0.0200), Var(v=0.1062, grad=0.0000), Var(v=0.0891, grad=-0.0237), Var(v=0.0844, grad=0.1479), Var(v=-0.0948, grad=0.0171), Var(v=-0.0599, grad=0.0000), Var(v=-0.0203, grad=0.0671), Var(v=0.0991, grad=0.0000), Var(v=-0.1444, grad=0.0000), Var(v=-0.0531, grad=0.0000), Var(v=0.1480, grad=0.1550), Var(v=0.0308, grad=-0.0327), Var(v=0.1806, grad=-0.0370), Var(v=0.2652, grad=0.0720), Var(v=0.0977, grad=0.1511), Var(v=0.1723, grad=0.0000), Var(v=0.1375, grad=-0.0846), Var(v=0.1310, grad=-0.2828), Var(v=0.0316, grad=-0.0069), Var(v=-0.0980, grad=0.1083), Var(v=0.0355, grad=0.1226), Var(v=0.0121, grad=-0.0992), Var(v=-0.0819, grad=-0.1906), Var(v=0.1204, grad=0.0000), Var(v=-0.1715, grad=0.0000), Var(v=-0.0344, grad=0.0000), Var(v=0.1793, grad=0.0000), Var(v=-0.2790, grad=0.0000), Var(v=0.1514, grad=-0.1680), Var(v=0.0889, grad=-0.2408), Var(v=-0.1624, grad=-0.0061), Var(v=-0.1253, grad=0.0000), Var(v=0.1171, grad=0.0000), Var(v=0.0409, grad=0.0110), Var(v=-0.0805, grad=-0.0491), Var(v=0.1315, grad=0.0000), Var(v=-0.0247, grad=-0.0835), Var(v=0.0353, grad=0.0000), Var(v=0.0879, grad=0.0676)]] Biases: [Var(v=0.0000, grad=0.0000), Var(v=0.0000, grad=-0.4994), Var(v=0.0000, grad=-10.2771), Var(v=0.0000, grad=0.0000), Var(v=0.0000, grad=-4.8363), Var(v=0.0000, grad=4.3928), Var(v=0.0000, grad=0.0000), Var(v=0.0000, grad=0.0000), Var(v=0.0000, grad=0.0638), Var(v=0.0000, grad=0.0000), Var(v=0.0000, grad=-15.7047), Var(v=0.0000, grad=-1.2921), Var(v=0.0000, grad=0.0000), Var(v=0.0000, grad=-1.5321), Var(v=0.0000, grad=0.1049), Var(v=0.0000, grad=1.1088), Var(v=0.0000, grad=-9.5485), Var(v=0.0000, grad=0.0476), Var(v=0.0000, grad=0.0000), Var(v=0.0000, grad=0.0000), Var(v=0.0000, grad=4.1209), Var(v=0.0000, grad=0.1099), Var(v=0.0000, grad=-0.0232), Var(v=0.0000, grad=-2.3925), Var(v=0.0000, grad=0.0511), Var(v=0.0000, grad=9.7779), Var(v=0.0000, grad=0.0000), Var(v=0.0000, grad=-5.4733), Var(v=0.0000, grad=-18.3033), Var(v=0.0000, grad=-0.4470), Var(v=0.0000, grad=7.0127), Var(v=0.0000, grad=0.0870), Var(v=0.0000, grad=-0.0704), Var(v=0.0000, grad=-12.3342), Var(v=0.0000, grad=0.0000), Var(v=0.0000, grad=0.0000), Var(v=0.0000, grad=2.0469), Var(v=0.0000, grad=-14.5412), Var(v=0.0000, grad=16.6592), Var(v=0.0000, grad=-0.1192), Var(v=0.0000, grad=-0.1708), Var(v=0.0000, grad=-0.0044), Var(v=0.0000, grad=-15.3760), Var(v=0.0000, grad=-6.1631), Var(v=0.0000, grad=0.7123), Var(v=0.0000, grad=-0.0349), Var(v=0.0000, grad=2.3230), Var(v=0.0000, grad=-0.0592), Var(v=0.0000, grad=-3.9338), Var(v=0.0000, grad=0.0480)]\n",
      "Layer 2 \n",
      " Weights: [[Var(v=-0.0145, grad=0.0000)], [Var(v=-0.0058, grad=6.3379)], [Var(v=-0.1196, grad=4.1311)], [Var(v=0.0482, grad=0.0000)], [Var(v=-0.0563, grad=0.2257)], [Var(v=-0.0506, grad=-2.0133)], [Var(v=0.0776, grad=0.0000)], [Var(v=0.0943, grad=0.0000)], [Var(v=-0.0670, grad=3.4834)], [Var(v=-0.0589, grad=0.0000)], [Var(v=0.1808, grad=-2.0230)], [Var(v=0.0149, grad=-0.1921)], [Var(v=-0.0047, grad=0.0000)], [Var(v=0.0176, grad=-0.9143)], [Var(v=-0.1102, grad=3.7756)], [Var(v=-0.0128, grad=-4.3964)], [Var(v=-0.1112, grad=0.5184)], [Var(v=-0.0500, grad=0.8227)], [Var(v=-0.1693, grad=0.0000)], [Var(v=0.1865, grad=0.0000)], [Var(v=0.0480, grad=0.9512)], [Var(v=-0.1155, grad=-1.8887)], [Var(v=0.0244, grad=1.8795)], [Var(v=0.0275, grad=-2.4115)], [Var(v=-0.0537, grad=-3.1004)], [Var(v=-0.1126, grad=-1.3706)], [Var(v=0.1312, grad=0.0000)], [Var(v=0.0630, grad=-0.2292)], [Var(v=0.2107, grad=-2.6542)], [Var(v=0.0051, grad=-0.1715)], [Var(v=-0.0807, grad=-0.7649)], [Var(v=-0.0914, grad=-0.0032)], [Var(v=0.0739, grad=0.9509)], [Var(v=0.1420, grad=-1.0433)], [Var(v=0.0584, grad=0.0000)], [Var(v=-0.1051, grad=0.0000)], [Var(v=0.0238, grad=5.0343)], [Var(v=-0.1693, grad=1.6712)], [Var(v=0.1939, grad=0.1945)], [Var(v=0.1252, grad=1.3036)], [Var(v=0.1795, grad=-0.4449)], [Var(v=0.0046, grad=-0.2549)], [Var(v=-0.1790, grad=1.3142)], [Var(v=-0.0718, grad=2.5965)], [Var(v=-0.0082, grad=-6.5310)], [Var(v=0.0366, grad=-1.7008)], [Var(v=0.0270, grad=4.3223)], [Var(v=0.0622, grad=3.7712)], [Var(v=-0.0458, grad=3.9807)], [Var(v=-0.0504, grad=0.1671)]] Biases: [Var(v=0.0000, grad=-0.9519)]\n",
      "\n",
      "Network after update:\n",
      "Layer 0 \n",
      " Weights: [[Var(v=-0.0579, grad=1.7822), Var(v=-0.0690, grad=-2.9651), Var(v=0.1495, grad=-10.9802), Var(v=0.0725, grad=0.2528), Var(v=0.0165, grad=8.7207), Var(v=0.0888, grad=2.9344), Var(v=-0.0565, grad=-0.0383), Var(v=0.1288, grad=-4.8166), Var(v=-0.1073, grad=1.2690), Var(v=-0.0379, grad=0.6287), Var(v=0.1783, grad=-3.4173), Var(v=-0.0549, grad=0.9037), Var(v=-0.3796, grad=4.2810), Var(v=0.1402, grad=-3.7962), Var(v=0.0306, grad=-1.7330)]] Biases: [Var(v=0.0162, grad=-1.6195), Var(v=-0.0269, grad=2.6944), Var(v=0.0943, grad=-9.4329), Var(v=-0.0022, grad=0.2172), Var(v=-0.0749, grad=7.4917), Var(v=-0.0252, grad=2.5209), Var(v=-0.0003, grad=0.0348), Var(v=0.0414, grad=-4.1378), Var(v=0.0115, grad=-1.1531), Var(v=0.0057, grad=-0.5713), Var(v=0.0294, grad=-2.9357), Var(v=0.0082, grad=-0.8212), Var(v=0.0389, grad=-3.8901), Var(v=0.0326, grad=-3.2613), Var(v=0.0149, grad=-1.4888)]\n",
      "Layer 1 \n",
      " Weights: [[Var(v=0.0007, grad=0.0000), Var(v=0.0270, grad=-0.0221), Var(v=0.1192, grad=-0.4538), Var(v=-0.0656, grad=0.0000), Var(v=0.1655, grad=-0.2135), Var(v=-0.0203, grad=0.0000), Var(v=0.1164, grad=0.0000), Var(v=0.0604, grad=0.0000), Var(v=0.0323, grad=-0.2543), Var(v=-0.0400, grad=0.0000), Var(v=-0.1584, grad=0.0000), Var(v=-0.0699, grad=0.0000), Var(v=0.0314, grad=0.0000), Var(v=-0.0872, grad=0.0000), Var(v=0.0171, grad=-0.4181), Var(v=-0.0687, grad=0.0000), Var(v=0.1029, grad=-0.4216), Var(v=0.1454, grad=-0.1896), Var(v=-0.0892, grad=0.0000), Var(v=-0.0257, grad=0.0000), Var(v=0.0484, grad=0.1820), Var(v=0.0787, grad=-0.4381), Var(v=0.1329, grad=0.0925), Var(v=-0.1454, grad=0.0000), Var(v=0.0348, grad=-0.2036), Var(v=0.0791, grad=0.0000), Var(v=0.0225, grad=0.0000), Var(v=0.1769, grad=0.0000), Var(v=0.0447, grad=0.0000), Var(v=-0.0679, grad=0.0000), Var(v=0.0715, grad=0.0000), Var(v=-0.0908, grad=-0.3466), Var(v=0.1187, grad=0.2804), Var(v=-0.0732, grad=0.0000), Var(v=0.0010, grad=0.0000), Var(v=0.0212, grad=0.0000), Var(v=-0.1169, grad=0.0904), Var(v=0.0401, grad=-0.6421), Var(v=-0.0199, grad=0.7356), Var(v=0.0028, grad=0.4749), Var(v=0.0112, grad=0.6807), Var(v=0.0537, grad=0.0174), Var(v=-0.0608, grad=-0.6789), Var(v=0.0740, grad=-0.2721), Var(v=0.0186, grad=0.0000), Var(v=0.1136, grad=0.1389), Var(v=0.0487, grad=0.1026), Var(v=0.0567, grad=0.2360), Var(v=-0.0414, grad=-0.1737), Var(v=-0.0211, grad=-0.1912)], [Var(v=-0.0707, grad=0.0000), Var(v=0.0241, grad=-0.0542), Var(v=-0.1493, grad=-1.1160), Var(v=-0.0708, grad=0.0000), Var(v=-0.2399, grad=-0.5252), Var(v=-0.0776, grad=0.0000), Var(v=-0.0927, grad=0.0000), Var(v=-0.0328, grad=0.0000), Var(v=0.0196, grad=-0.6253), Var(v=0.1930, grad=0.0000), Var(v=-0.0499, grad=0.0000), Var(v=0.0736, grad=0.0000), Var(v=-0.1362, grad=0.0000), Var(v=-0.1194, grad=0.0000), Var(v=0.1192, grad=-1.0281), Var(v=-0.1109, grad=0.0000), Var(v=0.0405, grad=-1.0369), Var(v=0.0093, grad=-0.4662), Var(v=-0.1443, grad=0.0000), Var(v=0.1080, grad=0.0000), Var(v=-0.0508, grad=0.4475), Var(v=-0.0221, grad=-1.0774), Var(v=0.1351, grad=0.2274), Var(v=0.0937, grad=0.0000), Var(v=0.1067, grad=-0.5008), Var(v=0.1687, grad=0.0000), Var(v=0.0003, grad=0.0000), Var(v=-0.0546, grad=0.0000), Var(v=-0.0993, grad=0.0000), Var(v=-0.0001, grad=0.0000), Var(v=-0.0473, grad=0.0000), Var(v=0.1831, grad=-0.8523), Var(v=-0.0721, grad=0.6896), Var(v=0.0919, grad=0.0000), Var(v=0.0256, grad=0.0000), Var(v=-0.0720, grad=0.0000), Var(v=0.0594, grad=0.2223), Var(v=-0.0674, grad=-1.5790), Var(v=0.0313, grad=1.8090), Var(v=0.1411, grad=1.1678), Var(v=-0.0325, grad=1.6739), Var(v=-0.0135, grad=0.0427), Var(v=0.0355, grad=-1.6697), Var(v=-0.0761, grad=-0.6692), Var(v=-0.2906, grad=0.0000), Var(v=0.0209, grad=0.3417), Var(v=0.0825, grad=0.2522), Var(v=-0.0735, grad=0.5804), Var(v=0.2393, grad=-0.4272), Var(v=-0.0775, grad=-0.4702)], [Var(v=-0.0434, grad=0.0000), Var(v=-0.0735, grad=0.0000), Var(v=-0.0779, grad=0.0000), Var(v=0.0670, grad=0.0000), Var(v=0.1331, grad=0.0000), Var(v=-0.0251, grad=0.2030), Var(v=-0.0158, grad=0.0000), Var(v=-0.1654, grad=0.0000), Var(v=0.0830, grad=0.2691), Var(v=0.0728, grad=0.0000), Var(v=-0.0400, grad=-0.7259), Var(v=0.0789, grad=-0.0597), Var(v=0.0405, grad=0.0000), Var(v=-0.1142, grad=-0.0708), Var(v=0.0638, grad=0.4425), Var(v=-0.0392, grad=0.0513), Var(v=-0.1573, grad=0.0000), Var(v=-0.1887, grad=0.2006), Var(v=-0.1221, grad=0.0000), Var(v=0.1739, grad=0.0000), Var(v=-0.0469, grad=0.0000), Var(v=0.0276, grad=0.4637), Var(v=0.0000, grad=-0.0979), Var(v=0.0818, grad=-0.1106), Var(v=0.1273, grad=0.2155), Var(v=-0.0486, grad=0.4520), Var(v=0.0785, grad=0.0000), Var(v=-0.0016, grad=-0.2530), Var(v=0.2853, grad=-0.8460), Var(v=0.0568, grad=-0.0207), Var(v=-0.0085, grad=0.3241), Var(v=-0.0099, grad=0.3668), Var(v=0.2176, grad=-0.2968), Var(v=0.0133, grad=-0.5701), Var(v=-0.0236, grad=0.0000), Var(v=-0.0042, grad=0.0000), Var(v=-0.0998, grad=0.0000), Var(v=0.1798, grad=0.0000), Var(v=-0.0395, grad=0.0000), Var(v=0.2260, grad=-0.5026), Var(v=0.1180, grad=-0.7204), Var(v=-0.0102, grad=-0.0184), Var(v=-0.2063, grad=0.0000), Var(v=-0.1025, grad=0.0000), Var(v=-0.0058, grad=0.0329), Var(v=-0.1142, grad=-0.1470), Var(v=-0.1133, grad=0.0000), Var(v=0.0072, grad=-0.2498), Var(v=0.0567, grad=0.0000), Var(v=-0.0789, grad=0.2024)], [Var(v=-0.0183, grad=0.0000), Var(v=-0.0289, grad=0.0000), Var(v=-0.1192, grad=0.0000), Var(v=0.0964, grad=0.0000), Var(v=-0.0895, grad=0.0000), Var(v=-0.0482, grad=0.3838), Var(v=-0.0645, grad=0.0000), Var(v=-0.1148, grad=0.0000), Var(v=0.0949, grad=0.5087), Var(v=0.0029, grad=0.0000), Var(v=0.0074, grad=-1.3722), Var(v=-0.2223, grad=-0.1129), Var(v=0.0019, grad=0.0000), Var(v=0.0906, grad=-0.1339), Var(v=0.0069, grad=0.8364), Var(v=0.0410, grad=0.0969), Var(v=-0.0072, grad=0.0000), Var(v=-0.0558, grad=0.3793), Var(v=-0.0993, grad=0.0000), Var(v=-0.0112, grad=0.0000), Var(v=0.0667, grad=0.0000), Var(v=-0.0169, grad=0.8765), Var(v=0.0221, grad=-0.1850), Var(v=0.1340, grad=-0.2090), Var(v=-0.0704, grad=0.4074), Var(v=-0.1072, grad=0.8543), Var(v=-0.1848, grad=0.0000), Var(v=0.1456, grad=-0.4782), Var(v=0.0061, grad=-1.5992), Var(v=-0.0125, grad=-0.0391), Var(v=0.0357, grad=0.6127), Var(v=0.1672, grad=0.6934), Var(v=-0.1187, grad=-0.5610), Var(v=-0.0460, grad=-1.0777), Var(v=-0.0740, grad=0.0000), Var(v=-0.1466, grad=0.0000), Var(v=0.1300, grad=0.0000), Var(v=-0.0894, grad=0.0000), Var(v=0.0590, grad=0.0000), Var(v=0.0661, grad=-0.9501), Var(v=0.0279, grad=-1.3618), Var(v=-0.0549, grad=-0.0347), Var(v=0.0582, grad=0.0000), Var(v=-0.0580, grad=0.0000), Var(v=0.0357, grad=0.0622), Var(v=-0.0900, grad=-0.2780), Var(v=-0.0577, grad=0.0000), Var(v=0.0898, grad=-0.4722), Var(v=-0.1454, grad=0.0000), Var(v=-0.0748, grad=0.3826)], [Var(v=-0.0802, grad=0.0000), Var(v=0.0394, grad=0.0000), Var(v=-0.1790, grad=0.0000), Var(v=-0.1206, grad=0.0000), Var(v=-0.0139, grad=0.0000), Var(v=0.0500, grad=0.5301), Var(v=0.0360, grad=0.0000), Var(v=-0.0053, grad=0.0000), Var(v=0.0490, grad=0.7026), Var(v=-0.1585, grad=0.0000), Var(v=-0.0743, grad=-1.8952), Var(v=-0.0022, grad=-0.1559), Var(v=-0.0856, grad=0.0000), Var(v=0.1058, grad=-0.1849), Var(v=0.0600, grad=1.1553), Var(v=-0.1259, grad=0.1338), Var(v=0.0660, grad=0.0000), Var(v=0.2079, grad=0.5238), Var(v=0.0157, grad=0.0000), Var(v=-0.0335, grad=0.0000), Var(v=-0.0489, grad=0.0000), Var(v=0.2006, grad=1.2106), Var(v=-0.0413, grad=-0.2555), Var(v=0.0717, grad=-0.2887), Var(v=0.0358, grad=0.5627), Var(v=0.0318, grad=1.1800), Var(v=0.0297, grad=0.0000), Var(v=-0.0753, grad=-0.6605), Var(v=-0.1568, grad=-2.2088), Var(v=-0.0057, grad=-0.0539), Var(v=0.0208, grad=0.8463), Var(v=0.1023, grad=0.9577), Var(v=0.0461, grad=-0.7748), Var(v=0.0540, grad=-1.4885), Var(v=0.1438, grad=0.0000), Var(v=-0.1348, grad=0.0000), Var(v=0.0143, grad=0.0000), Var(v=-0.0882, grad=0.0000), Var(v=-0.0109, grad=0.0000), Var(v=0.0576, grad=-1.3122), Var(v=0.0906, grad=-1.8809), Var(v=-0.0631, grad=-0.0480), Var(v=-0.1345, grad=0.0000), Var(v=-0.0779, grad=0.0000), Var(v=0.1442, grad=0.0860), Var(v=0.1358, grad=-0.3839), Var(v=-0.0813, grad=0.0000), Var(v=0.1315, grad=-0.6521), Var(v=-0.1279, grad=0.0000), Var(v=-0.0192, grad=0.5284)], [Var(v=0.0004, grad=0.0000), Var(v=-0.0322, grad=0.0000), Var(v=0.0585, grad=0.0000), Var(v=0.0033, grad=0.0000), Var(v=-0.0062, grad=0.0000), Var(v=0.0467, grad=0.6042), Var(v=0.0431, grad=0.0000), Var(v=-0.1582, grad=0.0000), Var(v=-0.1225, grad=0.8008), Var(v=0.0543, grad=0.0000), Var(v=0.0694, grad=-2.1600), Var(v=-0.0339, grad=-0.1777), Var(v=-0.0739, grad=0.0000), Var(v=-0.0328, grad=-0.2107), Var(v=0.1041, grad=1.3167), Var(v=0.2419, grad=0.1525), Var(v=0.0593, grad=0.0000), Var(v=-0.0069, grad=0.5970), Var(v=-0.0421, grad=0.0000), Var(v=0.1058, grad=0.0000), Var(v=-0.1074, grad=0.0000), Var(v=-0.0229, grad=1.3797), Var(v=0.0204, grad=-0.2912), Var(v=-0.1142, grad=-0.3291), Var(v=0.0353, grad=0.6413), Var(v=0.0984, grad=1.3448), Var(v=-0.0576, grad=0.0000), Var(v=-0.0923, grad=-0.7528), Var(v=0.1667, grad=-2.5174), Var(v=-0.0207, grad=-0.0615), Var(v=0.0644, grad=0.9645), Var(v=-0.1820, grad=1.0915), Var(v=-0.0581, grad=-0.8831), Var(v=0.0153, grad=-1.6964), Var(v=0.0725, grad=0.0000), Var(v=-0.0204, grad=0.0000), Var(v=-0.0017, grad=0.0000), Var(v=0.0412, grad=0.0000), Var(v=0.0611, grad=0.0000), Var(v=-0.0780, grad=-1.4956), Var(v=-0.0635, grad=-2.1437), Var(v=-0.1053, grad=-0.0547), Var(v=-0.2034, grad=0.0000), Var(v=-0.0000, grad=0.0000), Var(v=0.2778, grad=0.0980), Var(v=0.0338, grad=-0.4375), Var(v=-0.1295, grad=0.0000), Var(v=-0.0564, grad=-0.7432), Var(v=0.0976, grad=0.0000), Var(v=0.0795, grad=0.6022)], [Var(v=0.0371, grad=0.0000), Var(v=-0.0608, grad=-0.0313), Var(v=-0.1586, grad=-0.6433), Var(v=0.0816, grad=0.0000), Var(v=0.0466, grad=-0.3027), Var(v=0.1169, grad=0.0000), Var(v=-0.0649, grad=0.0000), Var(v=0.0364, grad=0.0000), Var(v=0.0518, grad=-0.3605), Var(v=-0.0362, grad=0.0000), Var(v=-0.2096, grad=0.0000), Var(v=-0.0380, grad=0.0000), Var(v=0.0219, grad=0.0000), Var(v=-0.0349, grad=0.0000), Var(v=-0.0898, grad=-0.5927), Var(v=0.1206, grad=0.0000), Var(v=-0.1073, grad=-0.5977), Var(v=0.1696, grad=-0.2687), Var(v=-0.1035, grad=0.0000), Var(v=-0.0369, grad=0.0000), Var(v=-0.1594, grad=0.2580), Var(v=0.1737, grad=-0.6210), Var(v=-0.0167, grad=0.1311), Var(v=0.1202, grad=0.0000), Var(v=0.1422, grad=-0.2887), Var(v=-0.0196, grad=0.0000), Var(v=-0.0716, grad=0.0000), Var(v=0.1022, grad=0.0000), Var(v=0.1866, grad=0.0000), Var(v=0.0341, grad=0.0000), Var(v=0.0893, grad=0.0000), Var(v=0.0225, grad=-0.4913), Var(v=0.0916, grad=0.3975), Var(v=0.0437, grad=0.0000), Var(v=0.0940, grad=0.0000), Var(v=0.0225, grad=0.0000), Var(v=0.1374, grad=0.1281), Var(v=-0.0300, grad=-0.9102), Var(v=0.0009, grad=1.0428), Var(v=-0.0095, grad=0.6732), Var(v=0.1019, grad=0.9649), Var(v=0.0733, grad=0.0246), Var(v=0.1376, grad=-0.9625), Var(v=0.0827, grad=-0.3858), Var(v=0.0897, grad=0.0000), Var(v=0.0694, grad=0.1969), Var(v=0.0358, grad=0.1454), Var(v=0.0897, grad=0.3346), Var(v=0.0958, grad=-0.2462), Var(v=0.1662, grad=-0.2711)], [Var(v=-0.0768, grad=0.0000), Var(v=-0.0854, grad=0.0000), Var(v=-0.0129, grad=0.0000), Var(v=-0.1330, grad=0.0000), Var(v=-0.1093, grad=0.0000), Var(v=0.0066, grad=0.4124), Var(v=0.0881, grad=0.0000), Var(v=-0.0598, grad=0.0000), Var(v=-0.0334, grad=0.5466), Var(v=-0.0436, grad=0.0000), Var(v=0.0064, grad=-1.4744), Var(v=0.0329, grad=-0.1213), Var(v=0.0753, grad=0.0000), Var(v=0.0883, grad=-0.1438), Var(v=-0.0277, grad=0.8988), Var(v=0.1055, grad=0.1041), Var(v=0.0060, grad=0.0000), Var(v=-0.0573, grad=0.4075), Var(v=-0.0050, grad=0.0000), Var(v=-0.0880, grad=0.0000), Var(v=-0.0435, grad=0.0000), Var(v=-0.0465, grad=0.9418), Var(v=0.1446, grad=-0.1988), Var(v=-0.0463, grad=-0.2246), Var(v=-0.0832, grad=0.4378), Var(v=0.0525, grad=0.9180), Var(v=0.0323, grad=0.0000), Var(v=0.1076, grad=-0.5139), Var(v=0.0645, grad=-1.7184), Var(v=-0.2149, grad=-0.0420), Var(v=0.0652, grad=0.6584), Var(v=0.1315, grad=0.7450), Var(v=-0.0271, grad=-0.6028), Var(v=0.0964, grad=-1.1580), Var(v=-0.0448, grad=0.0000), Var(v=-0.0517, grad=0.0000), Var(v=0.0089, grad=0.0000), Var(v=-0.1135, grad=0.0000), Var(v=0.0309, grad=0.0000), Var(v=0.0947, grad=-1.0209), Var(v=0.2007, grad=-1.4633), Var(v=0.0307, grad=-0.0373), Var(v=-0.1619, grad=0.0000), Var(v=-0.0189, grad=0.0000), Var(v=0.0578, grad=0.0669), Var(v=0.0709, grad=-0.2987), Var(v=-0.0632, grad=0.0000), Var(v=-0.1163, grad=-0.5073), Var(v=-0.0412, grad=0.0000), Var(v=0.1195, grad=0.4111)], [Var(v=0.1415, grad=0.0000), Var(v=0.0701, grad=-0.0520), Var(v=0.0090, grad=-1.0703), Var(v=-0.1499, grad=0.0000), Var(v=0.1877, grad=-0.5037), Var(v=0.2131, grad=0.0000), Var(v=-0.0494, grad=0.0000), Var(v=-0.0810, grad=0.0000), Var(v=0.1397, grad=-0.5997), Var(v=-0.0341, grad=0.0000), Var(v=-0.0562, grad=0.0000), Var(v=-0.0752, grad=0.0000), Var(v=-0.0756, grad=0.0000), Var(v=-0.0311, grad=0.0000), Var(v=0.0632, grad=-0.9861), Var(v=-0.1508, grad=0.0000), Var(v=-0.0930, grad=-0.9944), Var(v=-0.0312, grad=-0.4471), Var(v=0.2445, grad=0.0000), Var(v=-0.0163, grad=0.0000), Var(v=-0.0480, grad=0.4292), Var(v=0.0383, grad=-1.0333), Var(v=-0.0113, grad=0.2181), Var(v=-0.0741, grad=0.0000), Var(v=0.0001, grad=-0.4803), Var(v=-0.0523, grad=0.0000), Var(v=-0.0862, grad=0.0000), Var(v=0.0538, grad=0.0000), Var(v=-0.3038, grad=0.0000), Var(v=0.0291, grad=0.0000), Var(v=0.0159, grad=0.0000), Var(v=0.0914, grad=-0.8174), Var(v=-0.0287, grad=0.6613), Var(v=0.1018, grad=0.0000), Var(v=0.0662, grad=0.0000), Var(v=-0.0256, grad=0.0000), Var(v=-0.0089, grad=0.2132), Var(v=0.0946, grad=-1.5144), Var(v=0.0758, grad=1.7350), Var(v=-0.1102, grad=1.1201), Var(v=0.0054, grad=1.6054), Var(v=0.0692, grad=0.0410), Var(v=-0.0709, grad=-1.6014), Var(v=-0.0087, grad=-0.6419), Var(v=-0.0029, grad=0.0000), Var(v=0.0782, grad=0.3277), Var(v=0.0891, grad=0.2419), Var(v=-0.0672, grad=0.5566), Var(v=0.1026, grad=-0.4097), Var(v=-0.0599, grad=-0.4510)], [Var(v=-0.0768, grad=0.0000), Var(v=0.0114, grad=-0.0173), Var(v=0.0223, grad=-0.3570), Var(v=-0.0063, grad=0.0000), Var(v=0.0042, grad=-0.1680), Var(v=0.0630, grad=0.0000), Var(v=-0.0076, grad=0.0000), Var(v=-0.1843, grad=0.0000), Var(v=-0.0935, grad=-0.2000), Var(v=0.0230, grad=0.0000), Var(v=-0.0293, grad=0.0000), Var(v=0.0567, grad=0.0000), Var(v=-0.1421, grad=0.0000), Var(v=-0.2284, grad=0.0000), Var(v=-0.2666, grad=-0.3289), Var(v=0.0294, grad=0.0000), Var(v=0.0672, grad=-0.3317), Var(v=0.1790, grad=-0.1491), Var(v=-0.1350, grad=0.0000), Var(v=0.1617, grad=0.0000), Var(v=-0.0860, grad=0.1431), Var(v=-0.0149, grad=-0.3446), Var(v=-0.0732, grad=0.0727), Var(v=-0.0683, grad=0.0000), Var(v=-0.0753, grad=-0.1602), Var(v=-0.0033, grad=0.0000), Var(v=-0.1652, grad=0.0000), Var(v=-0.0054, grad=0.0000), Var(v=-0.0460, grad=0.0000), Var(v=-0.0688, grad=0.0000), Var(v=-0.0149, grad=0.0000), Var(v=0.0418, grad=-0.2726), Var(v=0.0171, grad=0.2206), Var(v=-0.0171, grad=0.0000), Var(v=-0.1536, grad=0.0000), Var(v=0.0234, grad=0.0000), Var(v=-0.0782, grad=0.0711), Var(v=0.2626, grad=-0.5051), Var(v=0.1864, grad=0.5787), Var(v=0.1032, grad=0.3736), Var(v=0.0555, grad=0.5354), Var(v=0.0083, grad=0.0137), Var(v=0.2355, grad=-0.5341), Var(v=0.0696, grad=-0.2141), Var(v=-0.1555, grad=0.0000), Var(v=-0.0361, grad=0.1093), Var(v=-0.0538, grad=0.0807), Var(v=0.0632, grad=0.1856), Var(v=0.0640, grad=-0.1366), Var(v=-0.1719, grad=-0.1504)], [Var(v=-0.0329, grad=0.0000), Var(v=-0.2116, grad=0.0000), Var(v=-0.0316, grad=0.0000), Var(v=-0.1414, grad=0.0000), Var(v=-0.0033, grad=0.0000), Var(v=-0.0131, grad=0.7370), Var(v=-0.0233, grad=0.0000), Var(v=-0.0638, grad=0.0000), Var(v=0.0748, grad=0.9768), Var(v=-0.0209, grad=0.0000), Var(v=0.0920, grad=-2.6347), Var(v=-0.0433, grad=-0.2168), Var(v=0.1259, grad=0.0000), Var(v=-0.0569, grad=-0.2570), Var(v=0.0736, grad=1.6060), Var(v=0.0513, grad=0.1860), Var(v=-0.0902, grad=0.0000), Var(v=0.0260, grad=0.7282), Var(v=-0.1052, grad=0.0000), Var(v=-0.0988, grad=0.0000), Var(v=0.0048, grad=0.0000), Var(v=0.0591, grad=1.6829), Var(v=-0.0465, grad=-0.3552), Var(v=0.0401, grad=-0.4014), Var(v=0.2513, grad=0.7823), Var(v=-0.1104, grad=1.6404), Var(v=-0.0877, grad=0.0000), Var(v=0.0144, grad=-0.9182), Var(v=0.0613, grad=-3.0706), Var(v=0.0712, grad=-0.0750), Var(v=-0.1898, grad=1.1765), Var(v=-0.1099, grad=1.3313), Var(v=0.1153, grad=-1.0771), Var(v=0.0494, grad=-2.0692), Var(v=-0.0955, grad=0.0000), Var(v=0.0512, grad=0.0000), Var(v=-0.0232, grad=0.0000), Var(v=-0.0145, grad=0.0000), Var(v=-0.1874, grad=0.0000), Var(v=0.0487, grad=-1.8242), Var(v=0.0187, grad=-2.6147), Var(v=0.0883, grad=-0.0667), Var(v=-0.0417, grad=0.0000), Var(v=-0.0153, grad=0.0000), Var(v=-0.0489, grad=0.1195), Var(v=0.1779, grad=-0.5337), Var(v=-0.0445, grad=0.0000), Var(v=0.0335, grad=-0.9066), Var(v=-0.1386, grad=0.0000), Var(v=-0.0139, grad=0.7345)], [Var(v=-0.0136, grad=0.0000), Var(v=-0.1270, grad=-0.0252), Var(v=0.1301, grad=-0.5186), Var(v=0.0490, grad=0.0000), Var(v=-0.0548, grad=-0.2440), Var(v=-0.0160, grad=0.0000), Var(v=-0.0953, grad=0.0000), Var(v=-0.0788, grad=0.0000), Var(v=-0.1510, grad=-0.2906), Var(v=-0.1237, grad=0.0000), Var(v=-0.0004, grad=0.0000), Var(v=0.0780, grad=0.0000), Var(v=-0.0887, grad=0.0000), Var(v=0.1927, grad=0.0000), Var(v=0.0606, grad=-0.4777), Var(v=0.0073, grad=0.0000), Var(v=0.0395, grad=-0.4818), Var(v=0.0068, grad=-0.2166), Var(v=-0.0904, grad=0.0000), Var(v=0.1400, grad=0.0000), Var(v=0.0973, grad=0.2079), Var(v=0.0912, grad=-0.5006), Var(v=-0.1179, grad=0.1057), Var(v=0.0051, grad=0.0000), Var(v=-0.0396, grad=-0.2327), Var(v=0.0197, grad=0.0000), Var(v=0.1026, grad=0.0000), Var(v=0.0156, grad=0.0000), Var(v=-0.0532, grad=0.0000), Var(v=0.1317, grad=0.0000), Var(v=-0.0987, grad=0.0000), Var(v=-0.0179, grad=-0.3960), Var(v=-0.0212, grad=0.3204), Var(v=0.0422, grad=0.0000), Var(v=-0.1871, grad=0.0000), Var(v=0.1290, grad=0.0000), Var(v=-0.0395, grad=0.1033), Var(v=0.1027, grad=-0.7337), Var(v=0.0473, grad=0.8406), Var(v=-0.1076, grad=0.5427), Var(v=0.0468, grad=0.7778), Var(v=0.0459, grad=0.0198), Var(v=-0.1309, grad=-0.7758), Var(v=0.0480, grad=-0.3110), Var(v=-0.1005, grad=0.0000), Var(v=-0.0651, grad=0.1588), Var(v=0.0009, grad=0.1172), Var(v=0.0008, grad=0.2697), Var(v=-0.0167, grad=-0.1985), Var(v=0.0995, grad=-0.2185)], [Var(v=-0.0968, grad=0.0000), Var(v=0.1979, grad=-0.1851), Var(v=0.2108, grad=-3.8092), Var(v=-0.0896, grad=0.0000), Var(v=0.0263, grad=-1.7925), Var(v=-0.0599, grad=0.0000), Var(v=-0.0429, grad=0.0000), Var(v=0.0003, grad=0.0000), Var(v=0.1298, grad=-2.1343), Var(v=-0.0377, grad=0.0000), Var(v=-0.1220, grad=0.0000), Var(v=-0.0144, grad=0.0000), Var(v=-0.0883, grad=0.0000), Var(v=-0.0502, grad=0.0000), Var(v=0.2853, grad=-3.5093), Var(v=-0.0577, grad=0.0000), Var(v=0.0684, grad=-3.5391), Var(v=0.0091, grad=-1.5912), Var(v=-0.0572, grad=0.0000), Var(v=-0.0539, grad=0.0000), Var(v=0.0554, grad=1.5274), Var(v=0.0252, grad=-3.6773), Var(v=0.0290, grad=0.7761), Var(v=-0.0828, grad=0.0000), Var(v=-0.0143, grad=-1.7094), Var(v=-0.1597, grad=0.0000), Var(v=-0.0687, grad=0.0000), Var(v=-0.0844, grad=0.0000), Var(v=0.0145, grad=0.0000), Var(v=-0.2012, grad=0.0000), Var(v=-0.0560, grad=0.0000), Var(v=-0.0224, grad=-2.9092), Var(v=0.0298, grad=2.3537), Var(v=-0.1392, grad=0.0000), Var(v=-0.1240, grad=0.0000), Var(v=-0.1819, grad=0.0000), Var(v=0.1373, grad=0.7587), Var(v=0.0739, grad=-5.3896), Var(v=-0.1223, grad=6.1747), Var(v=0.0246, grad=3.9862), Var(v=-0.0140, grad=5.7135), Var(v=-0.0360, grad=0.1458), Var(v=0.1009, grad=-5.6991), Var(v=0.0987, grad=-2.2843), Var(v=0.0350, grad=0.0000), Var(v=-0.0255, grad=1.1662), Var(v=0.0690, grad=0.8610), Var(v=0.1392, grad=1.9810), Var(v=0.0291, grad=-1.4581), Var(v=0.0616, grad=-1.6050)], [Var(v=0.0202, grad=0.0000), Var(v=0.0011, grad=0.0000), Var(v=-0.1361, grad=0.0000), Var(v=0.0522, grad=0.0000), Var(v=0.0625, grad=0.0000), Var(v=0.1542, grad=0.5226), Var(v=-0.1283, grad=0.0000), Var(v=0.1405, grad=0.0000), Var(v=-0.0585, grad=0.6927), Var(v=-0.1144, grad=0.0000), Var(v=0.2016, grad=-1.8684), Var(v=0.2461, grad=-0.1537), Var(v=-0.1070, grad=0.0000), Var(v=0.0081, grad=-0.1823), Var(v=0.0706, grad=1.1389), Var(v=0.1066, grad=0.1319), Var(v=-0.0549, grad=0.0000), Var(v=-0.0464, grad=0.5164), Var(v=-0.0538, grad=0.0000), Var(v=-0.1125, grad=0.0000), Var(v=-0.0142, grad=0.0000), Var(v=-0.0339, grad=1.1934), Var(v=-0.0151, grad=-0.2519), Var(v=0.1379, grad=-0.2846), Var(v=-0.0993, grad=0.5547), Var(v=0.1082, grad=1.1633), Var(v=0.0045, grad=0.0000), Var(v=0.0193, grad=-0.6511), Var(v=0.0987, grad=-2.1775), Var(v=0.1021, grad=-0.0532), Var(v=0.1288, grad=0.8343), Var(v=0.0192, grad=0.9441), Var(v=0.0181, grad=-0.7638), Var(v=0.0198, grad=-1.4674), Var(v=-0.0438, grad=0.0000), Var(v=0.1331, grad=0.0000), Var(v=-0.1661, grad=0.0000), Var(v=-0.0649, grad=0.0000), Var(v=0.1442, grad=0.0000), Var(v=-0.0676, grad=-1.2936), Var(v=0.1280, grad=-1.8542), Var(v=0.1520, grad=-0.0473), Var(v=0.0818, grad=0.0000), Var(v=0.0545, grad=0.0000), Var(v=0.1531, grad=0.0847), Var(v=-0.0804, grad=-0.3785), Var(v=-0.0456, grad=0.0000), Var(v=0.0547, grad=-0.6429), Var(v=-0.0870, grad=0.0000), Var(v=-0.0462, grad=0.5209)], [Var(v=-0.1269, grad=0.0000), Var(v=-0.1866, grad=0.0000), Var(v=0.1515, grad=0.0000), Var(v=-0.0474, grad=0.0000), Var(v=-0.0974, grad=0.0000), Var(v=-0.3119, grad=0.0679), Var(v=0.0724, grad=0.0000), Var(v=0.0113, grad=0.0000), Var(v=-0.0640, grad=0.0899), Var(v=-0.2223, grad=0.0000), Var(v=-0.0808, grad=-0.2426), Var(v=-0.0625, grad=-0.0200), Var(v=0.1062, grad=0.0000), Var(v=0.0893, grad=-0.0237), Var(v=0.0829, grad=0.1479), Var(v=-0.0949, grad=0.0171), Var(v=-0.0599, grad=0.0000), Var(v=-0.0210, grad=0.0671), Var(v=0.0991, grad=0.0000), Var(v=-0.1444, grad=0.0000), Var(v=-0.0531, grad=0.0000), Var(v=0.1465, grad=0.1550), Var(v=0.0311, grad=-0.0327), Var(v=0.1810, grad=-0.0370), Var(v=0.2645, grad=0.0720), Var(v=0.0962, grad=0.1511), Var(v=0.1723, grad=0.0000), Var(v=0.1383, grad=-0.0846), Var(v=0.1338, grad=-0.2828), Var(v=0.0316, grad=-0.0069), Var(v=-0.0991, grad=0.1083), Var(v=0.0342, grad=0.1226), Var(v=0.0131, grad=-0.0992), Var(v=-0.0800, grad=-0.1906), Var(v=0.1204, grad=0.0000), Var(v=-0.1715, grad=0.0000), Var(v=-0.0344, grad=0.0000), Var(v=0.1793, grad=0.0000), Var(v=-0.2790, grad=0.0000), Var(v=0.1531, grad=-0.1680), Var(v=0.0913, grad=-0.2408), Var(v=-0.1623, grad=-0.0061), Var(v=-0.1253, grad=0.0000), Var(v=0.1171, grad=0.0000), Var(v=0.0407, grad=0.0110), Var(v=-0.0800, grad=-0.0491), Var(v=0.1315, grad=0.0000), Var(v=-0.0239, grad=-0.0835), Var(v=0.0353, grad=0.0000), Var(v=0.0873, grad=0.0676)]] Biases: [Var(v=0.0000, grad=0.0000), Var(v=0.0050, grad=-0.4994), Var(v=0.1028, grad=-10.2771), Var(v=0.0000, grad=0.0000), Var(v=0.0484, grad=-4.8363), Var(v=-0.0439, grad=4.3928), Var(v=0.0000, grad=0.0000), Var(v=0.0000, grad=0.0000), Var(v=-0.0006, grad=0.0638), Var(v=0.0000, grad=0.0000), Var(v=0.1570, grad=-15.7047), Var(v=0.0129, grad=-1.2921), Var(v=0.0000, grad=0.0000), Var(v=0.0153, grad=-1.5321), Var(v=-0.0010, grad=0.1049), Var(v=-0.0111, grad=1.1088), Var(v=0.0955, grad=-9.5485), Var(v=-0.0005, grad=0.0476), Var(v=0.0000, grad=0.0000), Var(v=0.0000, grad=0.0000), Var(v=-0.0412, grad=4.1209), Var(v=-0.0011, grad=0.1099), Var(v=0.0002, grad=-0.0232), Var(v=0.0239, grad=-2.3925), Var(v=-0.0005, grad=0.0511), Var(v=-0.0978, grad=9.7779), Var(v=0.0000, grad=0.0000), Var(v=0.0547, grad=-5.4733), Var(v=0.1830, grad=-18.3033), Var(v=0.0045, grad=-0.4470), Var(v=-0.0701, grad=7.0127), Var(v=-0.0009, grad=0.0870), Var(v=0.0007, grad=-0.0704), Var(v=0.1233, grad=-12.3342), Var(v=0.0000, grad=0.0000), Var(v=0.0000, grad=0.0000), Var(v=-0.0205, grad=2.0469), Var(v=0.1454, grad=-14.5412), Var(v=-0.1666, grad=16.6592), Var(v=0.0012, grad=-0.1192), Var(v=0.0017, grad=-0.1708), Var(v=0.0000, grad=-0.0044), Var(v=0.1538, grad=-15.3760), Var(v=0.0616, grad=-6.1631), Var(v=-0.0071, grad=0.7123), Var(v=0.0003, grad=-0.0349), Var(v=-0.0232, grad=2.3230), Var(v=0.0006, grad=-0.0592), Var(v=0.0393, grad=-3.9338), Var(v=-0.0005, grad=0.0480)]\n",
      "Layer 2 \n",
      " Weights: [[Var(v=-0.0145, grad=0.0000)], [Var(v=-0.0692, grad=6.3379)], [Var(v=-0.1610, grad=4.1311)], [Var(v=0.0482, grad=0.0000)], [Var(v=-0.0586, grad=0.2257)], [Var(v=-0.0304, grad=-2.0133)], [Var(v=0.0776, grad=0.0000)], [Var(v=0.0943, grad=0.0000)], [Var(v=-0.1019, grad=3.4834)], [Var(v=-0.0589, grad=0.0000)], [Var(v=0.2011, grad=-2.0230)], [Var(v=0.0168, grad=-0.1921)], [Var(v=-0.0047, grad=0.0000)], [Var(v=0.0268, grad=-0.9143)], [Var(v=-0.1480, grad=3.7756)], [Var(v=0.0312, grad=-4.3964)], [Var(v=-0.1163, grad=0.5184)], [Var(v=-0.0582, grad=0.8227)], [Var(v=-0.1693, grad=0.0000)], [Var(v=0.1865, grad=0.0000)], [Var(v=0.0385, grad=0.9512)], [Var(v=-0.0966, grad=-1.8887)], [Var(v=0.0056, grad=1.8795)], [Var(v=0.0517, grad=-2.4115)], [Var(v=-0.0227, grad=-3.1004)], [Var(v=-0.0989, grad=-1.3706)], [Var(v=0.1312, grad=0.0000)], [Var(v=0.0653, grad=-0.2292)], [Var(v=0.2373, grad=-2.6542)], [Var(v=0.0069, grad=-0.1715)], [Var(v=-0.0731, grad=-0.7649)], [Var(v=-0.0913, grad=-0.0032)], [Var(v=0.0644, grad=0.9509)], [Var(v=0.1525, grad=-1.0433)], [Var(v=0.0584, grad=0.0000)], [Var(v=-0.1051, grad=0.0000)], [Var(v=-0.0265, grad=5.0343)], [Var(v=-0.1860, grad=1.6712)], [Var(v=0.1920, grad=0.1945)], [Var(v=0.1122, grad=1.3036)], [Var(v=0.1839, grad=-0.4449)], [Var(v=0.0071, grad=-0.2549)], [Var(v=-0.1921, grad=1.3142)], [Var(v=-0.0977, grad=2.5965)], [Var(v=0.0571, grad=-6.5310)], [Var(v=0.0536, grad=-1.7008)], [Var(v=-0.0162, grad=4.3223)], [Var(v=0.0245, grad=3.7712)], [Var(v=-0.0856, grad=3.9807)], [Var(v=-0.0521, grad=0.1671)]] Biases: [Var(v=0.0095, grad=-0.9519)]\n",
      "\n",
      "Network after zeroing gradients:\n",
      "Layer 0 \n",
      " Weights: [[Var(v=-0.0579, grad=0.0000), Var(v=-0.0690, grad=0.0000), Var(v=0.1495, grad=0.0000), Var(v=0.0725, grad=0.0000), Var(v=0.0165, grad=0.0000), Var(v=0.0888, grad=0.0000), Var(v=-0.0565, grad=0.0000), Var(v=0.1288, grad=0.0000), Var(v=-0.1073, grad=0.0000), Var(v=-0.0379, grad=0.0000), Var(v=0.1783, grad=0.0000), Var(v=-0.0549, grad=0.0000), Var(v=-0.3796, grad=0.0000), Var(v=0.1402, grad=0.0000), Var(v=0.0306, grad=0.0000)]] Biases: [Var(v=0.0162, grad=0.0000), Var(v=-0.0269, grad=0.0000), Var(v=0.0943, grad=0.0000), Var(v=-0.0022, grad=0.0000), Var(v=-0.0749, grad=0.0000), Var(v=-0.0252, grad=0.0000), Var(v=-0.0003, grad=0.0000), Var(v=0.0414, grad=0.0000), Var(v=0.0115, grad=0.0000), Var(v=0.0057, grad=0.0000), Var(v=0.0294, grad=0.0000), Var(v=0.0082, grad=0.0000), Var(v=0.0389, grad=0.0000), Var(v=0.0326, grad=0.0000), Var(v=0.0149, grad=0.0000)]\n",
      "Layer 1 \n",
      " Weights: [[Var(v=0.0007, grad=0.0000), Var(v=0.0270, grad=0.0000), Var(v=0.1192, grad=0.0000), Var(v=-0.0656, grad=0.0000), Var(v=0.1655, grad=0.0000), Var(v=-0.0203, grad=0.0000), Var(v=0.1164, grad=0.0000), Var(v=0.0604, grad=0.0000), Var(v=0.0323, grad=0.0000), Var(v=-0.0400, grad=0.0000), Var(v=-0.1584, grad=0.0000), Var(v=-0.0699, grad=0.0000), Var(v=0.0314, grad=0.0000), Var(v=-0.0872, grad=0.0000), Var(v=0.0171, grad=0.0000), Var(v=-0.0687, grad=0.0000), Var(v=0.1029, grad=0.0000), Var(v=0.1454, grad=0.0000), Var(v=-0.0892, grad=0.0000), Var(v=-0.0257, grad=0.0000), Var(v=0.0484, grad=0.0000), Var(v=0.0787, grad=0.0000), Var(v=0.1329, grad=0.0000), Var(v=-0.1454, grad=0.0000), Var(v=0.0348, grad=0.0000), Var(v=0.0791, grad=0.0000), Var(v=0.0225, grad=0.0000), Var(v=0.1769, grad=0.0000), Var(v=0.0447, grad=0.0000), Var(v=-0.0679, grad=0.0000), Var(v=0.0715, grad=0.0000), Var(v=-0.0908, grad=0.0000), Var(v=0.1187, grad=0.0000), Var(v=-0.0732, grad=0.0000), Var(v=0.0010, grad=0.0000), Var(v=0.0212, grad=0.0000), Var(v=-0.1169, grad=0.0000), Var(v=0.0401, grad=0.0000), Var(v=-0.0199, grad=0.0000), Var(v=0.0028, grad=0.0000), Var(v=0.0112, grad=0.0000), Var(v=0.0537, grad=0.0000), Var(v=-0.0608, grad=0.0000), Var(v=0.0740, grad=0.0000), Var(v=0.0186, grad=0.0000), Var(v=0.1136, grad=0.0000), Var(v=0.0487, grad=0.0000), Var(v=0.0567, grad=0.0000), Var(v=-0.0414, grad=0.0000), Var(v=-0.0211, grad=0.0000)], [Var(v=-0.0707, grad=0.0000), Var(v=0.0241, grad=0.0000), Var(v=-0.1493, grad=0.0000), Var(v=-0.0708, grad=0.0000), Var(v=-0.2399, grad=0.0000), Var(v=-0.0776, grad=0.0000), Var(v=-0.0927, grad=0.0000), Var(v=-0.0328, grad=0.0000), Var(v=0.0196, grad=0.0000), Var(v=0.1930, grad=0.0000), Var(v=-0.0499, grad=0.0000), Var(v=0.0736, grad=0.0000), Var(v=-0.1362, grad=0.0000), Var(v=-0.1194, grad=0.0000), Var(v=0.1192, grad=0.0000), Var(v=-0.1109, grad=0.0000), Var(v=0.0405, grad=0.0000), Var(v=0.0093, grad=0.0000), Var(v=-0.1443, grad=0.0000), Var(v=0.1080, grad=0.0000), Var(v=-0.0508, grad=0.0000), Var(v=-0.0221, grad=0.0000), Var(v=0.1351, grad=0.0000), Var(v=0.0937, grad=0.0000), Var(v=0.1067, grad=0.0000), Var(v=0.1687, grad=0.0000), Var(v=0.0003, grad=0.0000), Var(v=-0.0546, grad=0.0000), Var(v=-0.0993, grad=0.0000), Var(v=-0.0001, grad=0.0000), Var(v=-0.0473, grad=0.0000), Var(v=0.1831, grad=0.0000), Var(v=-0.0721, grad=0.0000), Var(v=0.0919, grad=0.0000), Var(v=0.0256, grad=0.0000), Var(v=-0.0720, grad=0.0000), Var(v=0.0594, grad=0.0000), Var(v=-0.0674, grad=0.0000), Var(v=0.0313, grad=0.0000), Var(v=0.1411, grad=0.0000), Var(v=-0.0325, grad=0.0000), Var(v=-0.0135, grad=0.0000), Var(v=0.0355, grad=0.0000), Var(v=-0.0761, grad=0.0000), Var(v=-0.2906, grad=0.0000), Var(v=0.0209, grad=0.0000), Var(v=0.0825, grad=0.0000), Var(v=-0.0735, grad=0.0000), Var(v=0.2393, grad=0.0000), Var(v=-0.0775, grad=0.0000)], [Var(v=-0.0434, grad=0.0000), Var(v=-0.0735, grad=0.0000), Var(v=-0.0779, grad=0.0000), Var(v=0.0670, grad=0.0000), Var(v=0.1331, grad=0.0000), Var(v=-0.0251, grad=0.0000), Var(v=-0.0158, grad=0.0000), Var(v=-0.1654, grad=0.0000), Var(v=0.0830, grad=0.0000), Var(v=0.0728, grad=0.0000), Var(v=-0.0400, grad=0.0000), Var(v=0.0789, grad=0.0000), Var(v=0.0405, grad=0.0000), Var(v=-0.1142, grad=0.0000), Var(v=0.0638, grad=0.0000), Var(v=-0.0392, grad=0.0000), Var(v=-0.1573, grad=0.0000), Var(v=-0.1887, grad=0.0000), Var(v=-0.1221, grad=0.0000), Var(v=0.1739, grad=0.0000), Var(v=-0.0469, grad=0.0000), Var(v=0.0276, grad=0.0000), Var(v=0.0000, grad=0.0000), Var(v=0.0818, grad=0.0000), Var(v=0.1273, grad=0.0000), Var(v=-0.0486, grad=0.0000), Var(v=0.0785, grad=0.0000), Var(v=-0.0016, grad=0.0000), Var(v=0.2853, grad=0.0000), Var(v=0.0568, grad=0.0000), Var(v=-0.0085, grad=0.0000), Var(v=-0.0099, grad=0.0000), Var(v=0.2176, grad=0.0000), Var(v=0.0133, grad=0.0000), Var(v=-0.0236, grad=0.0000), Var(v=-0.0042, grad=0.0000), Var(v=-0.0998, grad=0.0000), Var(v=0.1798, grad=0.0000), Var(v=-0.0395, grad=0.0000), Var(v=0.2260, grad=0.0000), Var(v=0.1180, grad=0.0000), Var(v=-0.0102, grad=0.0000), Var(v=-0.2063, grad=0.0000), Var(v=-0.1025, grad=0.0000), Var(v=-0.0058, grad=0.0000), Var(v=-0.1142, grad=0.0000), Var(v=-0.1133, grad=0.0000), Var(v=0.0072, grad=0.0000), Var(v=0.0567, grad=0.0000), Var(v=-0.0789, grad=0.0000)], [Var(v=-0.0183, grad=0.0000), Var(v=-0.0289, grad=0.0000), Var(v=-0.1192, grad=0.0000), Var(v=0.0964, grad=0.0000), Var(v=-0.0895, grad=0.0000), Var(v=-0.0482, grad=0.0000), Var(v=-0.0645, grad=0.0000), Var(v=-0.1148, grad=0.0000), Var(v=0.0949, grad=0.0000), Var(v=0.0029, grad=0.0000), Var(v=0.0074, grad=0.0000), Var(v=-0.2223, grad=0.0000), Var(v=0.0019, grad=0.0000), Var(v=0.0906, grad=0.0000), Var(v=0.0069, grad=0.0000), Var(v=0.0410, grad=0.0000), Var(v=-0.0072, grad=0.0000), Var(v=-0.0558, grad=0.0000), Var(v=-0.0993, grad=0.0000), Var(v=-0.0112, grad=0.0000), Var(v=0.0667, grad=0.0000), Var(v=-0.0169, grad=0.0000), Var(v=0.0221, grad=0.0000), Var(v=0.1340, grad=0.0000), Var(v=-0.0704, grad=0.0000), Var(v=-0.1072, grad=0.0000), Var(v=-0.1848, grad=0.0000), Var(v=0.1456, grad=0.0000), Var(v=0.0061, grad=0.0000), Var(v=-0.0125, grad=0.0000), Var(v=0.0357, grad=0.0000), Var(v=0.1672, grad=0.0000), Var(v=-0.1187, grad=0.0000), Var(v=-0.0460, grad=0.0000), Var(v=-0.0740, grad=0.0000), Var(v=-0.1466, grad=0.0000), Var(v=0.1300, grad=0.0000), Var(v=-0.0894, grad=0.0000), Var(v=0.0590, grad=0.0000), Var(v=0.0661, grad=0.0000), Var(v=0.0279, grad=0.0000), Var(v=-0.0549, grad=0.0000), Var(v=0.0582, grad=0.0000), Var(v=-0.0580, grad=0.0000), Var(v=0.0357, grad=0.0000), Var(v=-0.0900, grad=0.0000), Var(v=-0.0577, grad=0.0000), Var(v=0.0898, grad=0.0000), Var(v=-0.1454, grad=0.0000), Var(v=-0.0748, grad=0.0000)], [Var(v=-0.0802, grad=0.0000), Var(v=0.0394, grad=0.0000), Var(v=-0.1790, grad=0.0000), Var(v=-0.1206, grad=0.0000), Var(v=-0.0139, grad=0.0000), Var(v=0.0500, grad=0.0000), Var(v=0.0360, grad=0.0000), Var(v=-0.0053, grad=0.0000), Var(v=0.0490, grad=0.0000), Var(v=-0.1585, grad=0.0000), Var(v=-0.0743, grad=0.0000), Var(v=-0.0022, grad=0.0000), Var(v=-0.0856, grad=0.0000), Var(v=0.1058, grad=0.0000), Var(v=0.0600, grad=0.0000), Var(v=-0.1259, grad=0.0000), Var(v=0.0660, grad=0.0000), Var(v=0.2079, grad=0.0000), Var(v=0.0157, grad=0.0000), Var(v=-0.0335, grad=0.0000), Var(v=-0.0489, grad=0.0000), Var(v=0.2006, grad=0.0000), Var(v=-0.0413, grad=0.0000), Var(v=0.0717, grad=0.0000), Var(v=0.0358, grad=0.0000), Var(v=0.0318, grad=0.0000), Var(v=0.0297, grad=0.0000), Var(v=-0.0753, grad=0.0000), Var(v=-0.1568, grad=0.0000), Var(v=-0.0057, grad=0.0000), Var(v=0.0208, grad=0.0000), Var(v=0.1023, grad=0.0000), Var(v=0.0461, grad=0.0000), Var(v=0.0540, grad=0.0000), Var(v=0.1438, grad=0.0000), Var(v=-0.1348, grad=0.0000), Var(v=0.0143, grad=0.0000), Var(v=-0.0882, grad=0.0000), Var(v=-0.0109, grad=0.0000), Var(v=0.0576, grad=0.0000), Var(v=0.0906, grad=0.0000), Var(v=-0.0631, grad=0.0000), Var(v=-0.1345, grad=0.0000), Var(v=-0.0779, grad=0.0000), Var(v=0.1442, grad=0.0000), Var(v=0.1358, grad=0.0000), Var(v=-0.0813, grad=0.0000), Var(v=0.1315, grad=0.0000), Var(v=-0.1279, grad=0.0000), Var(v=-0.0192, grad=0.0000)], [Var(v=0.0004, grad=0.0000), Var(v=-0.0322, grad=0.0000), Var(v=0.0585, grad=0.0000), Var(v=0.0033, grad=0.0000), Var(v=-0.0062, grad=0.0000), Var(v=0.0467, grad=0.0000), Var(v=0.0431, grad=0.0000), Var(v=-0.1582, grad=0.0000), Var(v=-0.1225, grad=0.0000), Var(v=0.0543, grad=0.0000), Var(v=0.0694, grad=0.0000), Var(v=-0.0339, grad=0.0000), Var(v=-0.0739, grad=0.0000), Var(v=-0.0328, grad=0.0000), Var(v=0.1041, grad=0.0000), Var(v=0.2419, grad=0.0000), Var(v=0.0593, grad=0.0000), Var(v=-0.0069, grad=0.0000), Var(v=-0.0421, grad=0.0000), Var(v=0.1058, grad=0.0000), Var(v=-0.1074, grad=0.0000), Var(v=-0.0229, grad=0.0000), Var(v=0.0204, grad=0.0000), Var(v=-0.1142, grad=0.0000), Var(v=0.0353, grad=0.0000), Var(v=0.0984, grad=0.0000), Var(v=-0.0576, grad=0.0000), Var(v=-0.0923, grad=0.0000), Var(v=0.1667, grad=0.0000), Var(v=-0.0207, grad=0.0000), Var(v=0.0644, grad=0.0000), Var(v=-0.1820, grad=0.0000), Var(v=-0.0581, grad=0.0000), Var(v=0.0153, grad=0.0000), Var(v=0.0725, grad=0.0000), Var(v=-0.0204, grad=0.0000), Var(v=-0.0017, grad=0.0000), Var(v=0.0412, grad=0.0000), Var(v=0.0611, grad=0.0000), Var(v=-0.0780, grad=0.0000), Var(v=-0.0635, grad=0.0000), Var(v=-0.1053, grad=0.0000), Var(v=-0.2034, grad=0.0000), Var(v=-0.0000, grad=0.0000), Var(v=0.2778, grad=0.0000), Var(v=0.0338, grad=0.0000), Var(v=-0.1295, grad=0.0000), Var(v=-0.0564, grad=0.0000), Var(v=0.0976, grad=0.0000), Var(v=0.0795, grad=0.0000)], [Var(v=0.0371, grad=0.0000), Var(v=-0.0608, grad=0.0000), Var(v=-0.1586, grad=0.0000), Var(v=0.0816, grad=0.0000), Var(v=0.0466, grad=0.0000), Var(v=0.1169, grad=0.0000), Var(v=-0.0649, grad=0.0000), Var(v=0.0364, grad=0.0000), Var(v=0.0518, grad=0.0000), Var(v=-0.0362, grad=0.0000), Var(v=-0.2096, grad=0.0000), Var(v=-0.0380, grad=0.0000), Var(v=0.0219, grad=0.0000), Var(v=-0.0349, grad=0.0000), Var(v=-0.0898, grad=0.0000), Var(v=0.1206, grad=0.0000), Var(v=-0.1073, grad=0.0000), Var(v=0.1696, grad=0.0000), Var(v=-0.1035, grad=0.0000), Var(v=-0.0369, grad=0.0000), Var(v=-0.1594, grad=0.0000), Var(v=0.1737, grad=0.0000), Var(v=-0.0167, grad=0.0000), Var(v=0.1202, grad=0.0000), Var(v=0.1422, grad=0.0000), Var(v=-0.0196, grad=0.0000), Var(v=-0.0716, grad=0.0000), Var(v=0.1022, grad=0.0000), Var(v=0.1866, grad=0.0000), Var(v=0.0341, grad=0.0000), Var(v=0.0893, grad=0.0000), Var(v=0.0225, grad=0.0000), Var(v=0.0916, grad=0.0000), Var(v=0.0437, grad=0.0000), Var(v=0.0940, grad=0.0000), Var(v=0.0225, grad=0.0000), Var(v=0.1374, grad=0.0000), Var(v=-0.0300, grad=0.0000), Var(v=0.0009, grad=0.0000), Var(v=-0.0095, grad=0.0000), Var(v=0.1019, grad=0.0000), Var(v=0.0733, grad=0.0000), Var(v=0.1376, grad=0.0000), Var(v=0.0827, grad=0.0000), Var(v=0.0897, grad=0.0000), Var(v=0.0694, grad=0.0000), Var(v=0.0358, grad=0.0000), Var(v=0.0897, grad=0.0000), Var(v=0.0958, grad=0.0000), Var(v=0.1662, grad=0.0000)], [Var(v=-0.0768, grad=0.0000), Var(v=-0.0854, grad=0.0000), Var(v=-0.0129, grad=0.0000), Var(v=-0.1330, grad=0.0000), Var(v=-0.1093, grad=0.0000), Var(v=0.0066, grad=0.0000), Var(v=0.0881, grad=0.0000), Var(v=-0.0598, grad=0.0000), Var(v=-0.0334, grad=0.0000), Var(v=-0.0436, grad=0.0000), Var(v=0.0064, grad=0.0000), Var(v=0.0329, grad=0.0000), Var(v=0.0753, grad=0.0000), Var(v=0.0883, grad=0.0000), Var(v=-0.0277, grad=0.0000), Var(v=0.1055, grad=0.0000), Var(v=0.0060, grad=0.0000), Var(v=-0.0573, grad=0.0000), Var(v=-0.0050, grad=0.0000), Var(v=-0.0880, grad=0.0000), Var(v=-0.0435, grad=0.0000), Var(v=-0.0465, grad=0.0000), Var(v=0.1446, grad=0.0000), Var(v=-0.0463, grad=0.0000), Var(v=-0.0832, grad=0.0000), Var(v=0.0525, grad=0.0000), Var(v=0.0323, grad=0.0000), Var(v=0.1076, grad=0.0000), Var(v=0.0645, grad=0.0000), Var(v=-0.2149, grad=0.0000), Var(v=0.0652, grad=0.0000), Var(v=0.1315, grad=0.0000), Var(v=-0.0271, grad=0.0000), Var(v=0.0964, grad=0.0000), Var(v=-0.0448, grad=0.0000), Var(v=-0.0517, grad=0.0000), Var(v=0.0089, grad=0.0000), Var(v=-0.1135, grad=0.0000), Var(v=0.0309, grad=0.0000), Var(v=0.0947, grad=0.0000), Var(v=0.2007, grad=0.0000), Var(v=0.0307, grad=0.0000), Var(v=-0.1619, grad=0.0000), Var(v=-0.0189, grad=0.0000), Var(v=0.0578, grad=0.0000), Var(v=0.0709, grad=0.0000), Var(v=-0.0632, grad=0.0000), Var(v=-0.1163, grad=0.0000), Var(v=-0.0412, grad=0.0000), Var(v=0.1195, grad=0.0000)], [Var(v=0.1415, grad=0.0000), Var(v=0.0701, grad=0.0000), Var(v=0.0090, grad=0.0000), Var(v=-0.1499, grad=0.0000), Var(v=0.1877, grad=0.0000), Var(v=0.2131, grad=0.0000), Var(v=-0.0494, grad=0.0000), Var(v=-0.0810, grad=0.0000), Var(v=0.1397, grad=0.0000), Var(v=-0.0341, grad=0.0000), Var(v=-0.0562, grad=0.0000), Var(v=-0.0752, grad=0.0000), Var(v=-0.0756, grad=0.0000), Var(v=-0.0311, grad=0.0000), Var(v=0.0632, grad=0.0000), Var(v=-0.1508, grad=0.0000), Var(v=-0.0930, grad=0.0000), Var(v=-0.0312, grad=0.0000), Var(v=0.2445, grad=0.0000), Var(v=-0.0163, grad=0.0000), Var(v=-0.0480, grad=0.0000), Var(v=0.0383, grad=0.0000), Var(v=-0.0113, grad=0.0000), Var(v=-0.0741, grad=0.0000), Var(v=0.0001, grad=0.0000), Var(v=-0.0523, grad=0.0000), Var(v=-0.0862, grad=0.0000), Var(v=0.0538, grad=0.0000), Var(v=-0.3038, grad=0.0000), Var(v=0.0291, grad=0.0000), Var(v=0.0159, grad=0.0000), Var(v=0.0914, grad=0.0000), Var(v=-0.0287, grad=0.0000), Var(v=0.1018, grad=0.0000), Var(v=0.0662, grad=0.0000), Var(v=-0.0256, grad=0.0000), Var(v=-0.0089, grad=0.0000), Var(v=0.0946, grad=0.0000), Var(v=0.0758, grad=0.0000), Var(v=-0.1102, grad=0.0000), Var(v=0.0054, grad=0.0000), Var(v=0.0692, grad=0.0000), Var(v=-0.0709, grad=0.0000), Var(v=-0.0087, grad=0.0000), Var(v=-0.0029, grad=0.0000), Var(v=0.0782, grad=0.0000), Var(v=0.0891, grad=0.0000), Var(v=-0.0672, grad=0.0000), Var(v=0.1026, grad=0.0000), Var(v=-0.0599, grad=0.0000)], [Var(v=-0.0768, grad=0.0000), Var(v=0.0114, grad=0.0000), Var(v=0.0223, grad=0.0000), Var(v=-0.0063, grad=0.0000), Var(v=0.0042, grad=0.0000), Var(v=0.0630, grad=0.0000), Var(v=-0.0076, grad=0.0000), Var(v=-0.1843, grad=0.0000), Var(v=-0.0935, grad=0.0000), Var(v=0.0230, grad=0.0000), Var(v=-0.0293, grad=0.0000), Var(v=0.0567, grad=0.0000), Var(v=-0.1421, grad=0.0000), Var(v=-0.2284, grad=0.0000), Var(v=-0.2666, grad=0.0000), Var(v=0.0294, grad=0.0000), Var(v=0.0672, grad=0.0000), Var(v=0.1790, grad=0.0000), Var(v=-0.1350, grad=0.0000), Var(v=0.1617, grad=0.0000), Var(v=-0.0860, grad=0.0000), Var(v=-0.0149, grad=0.0000), Var(v=-0.0732, grad=0.0000), Var(v=-0.0683, grad=0.0000), Var(v=-0.0753, grad=0.0000), Var(v=-0.0033, grad=0.0000), Var(v=-0.1652, grad=0.0000), Var(v=-0.0054, grad=0.0000), Var(v=-0.0460, grad=0.0000), Var(v=-0.0688, grad=0.0000), Var(v=-0.0149, grad=0.0000), Var(v=0.0418, grad=0.0000), Var(v=0.0171, grad=0.0000), Var(v=-0.0171, grad=0.0000), Var(v=-0.1536, grad=0.0000), Var(v=0.0234, grad=0.0000), Var(v=-0.0782, grad=0.0000), Var(v=0.2626, grad=0.0000), Var(v=0.1864, grad=0.0000), Var(v=0.1032, grad=0.0000), Var(v=0.0555, grad=0.0000), Var(v=0.0083, grad=0.0000), Var(v=0.2355, grad=0.0000), Var(v=0.0696, grad=0.0000), Var(v=-0.1555, grad=0.0000), Var(v=-0.0361, grad=0.0000), Var(v=-0.0538, grad=0.0000), Var(v=0.0632, grad=0.0000), Var(v=0.0640, grad=0.0000), Var(v=-0.1719, grad=0.0000)], [Var(v=-0.0329, grad=0.0000), Var(v=-0.2116, grad=0.0000), Var(v=-0.0316, grad=0.0000), Var(v=-0.1414, grad=0.0000), Var(v=-0.0033, grad=0.0000), Var(v=-0.0131, grad=0.0000), Var(v=-0.0233, grad=0.0000), Var(v=-0.0638, grad=0.0000), Var(v=0.0748, grad=0.0000), Var(v=-0.0209, grad=0.0000), Var(v=0.0920, grad=0.0000), Var(v=-0.0433, grad=0.0000), Var(v=0.1259, grad=0.0000), Var(v=-0.0569, grad=0.0000), Var(v=0.0736, grad=0.0000), Var(v=0.0513, grad=0.0000), Var(v=-0.0902, grad=0.0000), Var(v=0.0260, grad=0.0000), Var(v=-0.1052, grad=0.0000), Var(v=-0.0988, grad=0.0000), Var(v=0.0048, grad=0.0000), Var(v=0.0591, grad=0.0000), Var(v=-0.0465, grad=0.0000), Var(v=0.0401, grad=0.0000), Var(v=0.2513, grad=0.0000), Var(v=-0.1104, grad=0.0000), Var(v=-0.0877, grad=0.0000), Var(v=0.0144, grad=0.0000), Var(v=0.0613, grad=0.0000), Var(v=0.0712, grad=0.0000), Var(v=-0.1898, grad=0.0000), Var(v=-0.1099, grad=0.0000), Var(v=0.1153, grad=0.0000), Var(v=0.0494, grad=0.0000), Var(v=-0.0955, grad=0.0000), Var(v=0.0512, grad=0.0000), Var(v=-0.0232, grad=0.0000), Var(v=-0.0145, grad=0.0000), Var(v=-0.1874, grad=0.0000), Var(v=0.0487, grad=0.0000), Var(v=0.0187, grad=0.0000), Var(v=0.0883, grad=0.0000), Var(v=-0.0417, grad=0.0000), Var(v=-0.0153, grad=0.0000), Var(v=-0.0489, grad=0.0000), Var(v=0.1779, grad=0.0000), Var(v=-0.0445, grad=0.0000), Var(v=0.0335, grad=0.0000), Var(v=-0.1386, grad=0.0000), Var(v=-0.0139, grad=0.0000)], [Var(v=-0.0136, grad=0.0000), Var(v=-0.1270, grad=0.0000), Var(v=0.1301, grad=0.0000), Var(v=0.0490, grad=0.0000), Var(v=-0.0548, grad=0.0000), Var(v=-0.0160, grad=0.0000), Var(v=-0.0953, grad=0.0000), Var(v=-0.0788, grad=0.0000), Var(v=-0.1510, grad=0.0000), Var(v=-0.1237, grad=0.0000), Var(v=-0.0004, grad=0.0000), Var(v=0.0780, grad=0.0000), Var(v=-0.0887, grad=0.0000), Var(v=0.1927, grad=0.0000), Var(v=0.0606, grad=0.0000), Var(v=0.0073, grad=0.0000), Var(v=0.0395, grad=0.0000), Var(v=0.0068, grad=0.0000), Var(v=-0.0904, grad=0.0000), Var(v=0.1400, grad=0.0000), Var(v=0.0973, grad=0.0000), Var(v=0.0912, grad=0.0000), Var(v=-0.1179, grad=0.0000), Var(v=0.0051, grad=0.0000), Var(v=-0.0396, grad=0.0000), Var(v=0.0197, grad=0.0000), Var(v=0.1026, grad=0.0000), Var(v=0.0156, grad=0.0000), Var(v=-0.0532, grad=0.0000), Var(v=0.1317, grad=0.0000), Var(v=-0.0987, grad=0.0000), Var(v=-0.0179, grad=0.0000), Var(v=-0.0212, grad=0.0000), Var(v=0.0422, grad=0.0000), Var(v=-0.1871, grad=0.0000), Var(v=0.1290, grad=0.0000), Var(v=-0.0395, grad=0.0000), Var(v=0.1027, grad=0.0000), Var(v=0.0473, grad=0.0000), Var(v=-0.1076, grad=0.0000), Var(v=0.0468, grad=0.0000), Var(v=0.0459, grad=0.0000), Var(v=-0.1309, grad=0.0000), Var(v=0.0480, grad=0.0000), Var(v=-0.1005, grad=0.0000), Var(v=-0.0651, grad=0.0000), Var(v=0.0009, grad=0.0000), Var(v=0.0008, grad=0.0000), Var(v=-0.0167, grad=0.0000), Var(v=0.0995, grad=0.0000)], [Var(v=-0.0968, grad=0.0000), Var(v=0.1979, grad=0.0000), Var(v=0.2108, grad=0.0000), Var(v=-0.0896, grad=0.0000), Var(v=0.0263, grad=0.0000), Var(v=-0.0599, grad=0.0000), Var(v=-0.0429, grad=0.0000), Var(v=0.0003, grad=0.0000), Var(v=0.1298, grad=0.0000), Var(v=-0.0377, grad=0.0000), Var(v=-0.1220, grad=0.0000), Var(v=-0.0144, grad=0.0000), Var(v=-0.0883, grad=0.0000), Var(v=-0.0502, grad=0.0000), Var(v=0.2853, grad=0.0000), Var(v=-0.0577, grad=0.0000), Var(v=0.0684, grad=0.0000), Var(v=0.0091, grad=0.0000), Var(v=-0.0572, grad=0.0000), Var(v=-0.0539, grad=0.0000), Var(v=0.0554, grad=0.0000), Var(v=0.0252, grad=0.0000), Var(v=0.0290, grad=0.0000), Var(v=-0.0828, grad=0.0000), Var(v=-0.0143, grad=0.0000), Var(v=-0.1597, grad=0.0000), Var(v=-0.0687, grad=0.0000), Var(v=-0.0844, grad=0.0000), Var(v=0.0145, grad=0.0000), Var(v=-0.2012, grad=0.0000), Var(v=-0.0560, grad=0.0000), Var(v=-0.0224, grad=0.0000), Var(v=0.0298, grad=0.0000), Var(v=-0.1392, grad=0.0000), Var(v=-0.1240, grad=0.0000), Var(v=-0.1819, grad=0.0000), Var(v=0.1373, grad=0.0000), Var(v=0.0739, grad=0.0000), Var(v=-0.1223, grad=0.0000), Var(v=0.0246, grad=0.0000), Var(v=-0.0140, grad=0.0000), Var(v=-0.0360, grad=0.0000), Var(v=0.1009, grad=0.0000), Var(v=0.0987, grad=0.0000), Var(v=0.0350, grad=0.0000), Var(v=-0.0255, grad=0.0000), Var(v=0.0690, grad=0.0000), Var(v=0.1392, grad=0.0000), Var(v=0.0291, grad=0.0000), Var(v=0.0616, grad=0.0000)], [Var(v=0.0202, grad=0.0000), Var(v=0.0011, grad=0.0000), Var(v=-0.1361, grad=0.0000), Var(v=0.0522, grad=0.0000), Var(v=0.0625, grad=0.0000), Var(v=0.1542, grad=0.0000), Var(v=-0.1283, grad=0.0000), Var(v=0.1405, grad=0.0000), Var(v=-0.0585, grad=0.0000), Var(v=-0.1144, grad=0.0000), Var(v=0.2016, grad=0.0000), Var(v=0.2461, grad=0.0000), Var(v=-0.1070, grad=0.0000), Var(v=0.0081, grad=0.0000), Var(v=0.0706, grad=0.0000), Var(v=0.1066, grad=0.0000), Var(v=-0.0549, grad=0.0000), Var(v=-0.0464, grad=0.0000), Var(v=-0.0538, grad=0.0000), Var(v=-0.1125, grad=0.0000), Var(v=-0.0142, grad=0.0000), Var(v=-0.0339, grad=0.0000), Var(v=-0.0151, grad=0.0000), Var(v=0.1379, grad=0.0000), Var(v=-0.0993, grad=0.0000), Var(v=0.1082, grad=0.0000), Var(v=0.0045, grad=0.0000), Var(v=0.0193, grad=0.0000), Var(v=0.0987, grad=0.0000), Var(v=0.1021, grad=0.0000), Var(v=0.1288, grad=0.0000), Var(v=0.0192, grad=0.0000), Var(v=0.0181, grad=0.0000), Var(v=0.0198, grad=0.0000), Var(v=-0.0438, grad=0.0000), Var(v=0.1331, grad=0.0000), Var(v=-0.1661, grad=0.0000), Var(v=-0.0649, grad=0.0000), Var(v=0.1442, grad=0.0000), Var(v=-0.0676, grad=0.0000), Var(v=0.1280, grad=0.0000), Var(v=0.1520, grad=0.0000), Var(v=0.0818, grad=0.0000), Var(v=0.0545, grad=0.0000), Var(v=0.1531, grad=0.0000), Var(v=-0.0804, grad=0.0000), Var(v=-0.0456, grad=0.0000), Var(v=0.0547, grad=0.0000), Var(v=-0.0870, grad=0.0000), Var(v=-0.0462, grad=0.0000)], [Var(v=-0.1269, grad=0.0000), Var(v=-0.1866, grad=0.0000), Var(v=0.1515, grad=0.0000), Var(v=-0.0474, grad=0.0000), Var(v=-0.0974, grad=0.0000), Var(v=-0.3119, grad=0.0000), Var(v=0.0724, grad=0.0000), Var(v=0.0113, grad=0.0000), Var(v=-0.0640, grad=0.0000), Var(v=-0.2223, grad=0.0000), Var(v=-0.0808, grad=0.0000), Var(v=-0.0625, grad=0.0000), Var(v=0.1062, grad=0.0000), Var(v=0.0893, grad=0.0000), Var(v=0.0829, grad=0.0000), Var(v=-0.0949, grad=0.0000), Var(v=-0.0599, grad=0.0000), Var(v=-0.0210, grad=0.0000), Var(v=0.0991, grad=0.0000), Var(v=-0.1444, grad=0.0000), Var(v=-0.0531, grad=0.0000), Var(v=0.1465, grad=0.0000), Var(v=0.0311, grad=0.0000), Var(v=0.1810, grad=0.0000), Var(v=0.2645, grad=0.0000), Var(v=0.0962, grad=0.0000), Var(v=0.1723, grad=0.0000), Var(v=0.1383, grad=0.0000), Var(v=0.1338, grad=0.0000), Var(v=0.0316, grad=0.0000), Var(v=-0.0991, grad=0.0000), Var(v=0.0342, grad=0.0000), Var(v=0.0131, grad=0.0000), Var(v=-0.0800, grad=0.0000), Var(v=0.1204, grad=0.0000), Var(v=-0.1715, grad=0.0000), Var(v=-0.0344, grad=0.0000), Var(v=0.1793, grad=0.0000), Var(v=-0.2790, grad=0.0000), Var(v=0.1531, grad=0.0000), Var(v=0.0913, grad=0.0000), Var(v=-0.1623, grad=0.0000), Var(v=-0.1253, grad=0.0000), Var(v=0.1171, grad=0.0000), Var(v=0.0407, grad=0.0000), Var(v=-0.0800, grad=0.0000), Var(v=0.1315, grad=0.0000), Var(v=-0.0239, grad=0.0000), Var(v=0.0353, grad=0.0000), Var(v=0.0873, grad=0.0000)]] Biases: [Var(v=0.0000, grad=0.0000), Var(v=0.0050, grad=0.0000), Var(v=0.1028, grad=0.0000), Var(v=0.0000, grad=0.0000), Var(v=0.0484, grad=0.0000), Var(v=-0.0439, grad=0.0000), Var(v=0.0000, grad=0.0000), Var(v=0.0000, grad=0.0000), Var(v=-0.0006, grad=0.0000), Var(v=0.0000, grad=0.0000), Var(v=0.1570, grad=0.0000), Var(v=0.0129, grad=0.0000), Var(v=0.0000, grad=0.0000), Var(v=0.0153, grad=0.0000), Var(v=-0.0010, grad=0.0000), Var(v=-0.0111, grad=0.0000), Var(v=0.0955, grad=0.0000), Var(v=-0.0005, grad=0.0000), Var(v=0.0000, grad=0.0000), Var(v=0.0000, grad=0.0000), Var(v=-0.0412, grad=0.0000), Var(v=-0.0011, grad=0.0000), Var(v=0.0002, grad=0.0000), Var(v=0.0239, grad=0.0000), Var(v=-0.0005, grad=0.0000), Var(v=-0.0978, grad=0.0000), Var(v=0.0000, grad=0.0000), Var(v=0.0547, grad=0.0000), Var(v=0.1830, grad=0.0000), Var(v=0.0045, grad=0.0000), Var(v=-0.0701, grad=0.0000), Var(v=-0.0009, grad=0.0000), Var(v=0.0007, grad=0.0000), Var(v=0.1233, grad=0.0000), Var(v=0.0000, grad=0.0000), Var(v=0.0000, grad=0.0000), Var(v=-0.0205, grad=0.0000), Var(v=0.1454, grad=0.0000), Var(v=-0.1666, grad=0.0000), Var(v=0.0012, grad=0.0000), Var(v=0.0017, grad=0.0000), Var(v=0.0000, grad=0.0000), Var(v=0.1538, grad=0.0000), Var(v=0.0616, grad=0.0000), Var(v=-0.0071, grad=0.0000), Var(v=0.0003, grad=0.0000), Var(v=-0.0232, grad=0.0000), Var(v=0.0006, grad=0.0000), Var(v=0.0393, grad=0.0000), Var(v=-0.0005, grad=0.0000)]\n",
      "Layer 2 \n",
      " Weights: [[Var(v=-0.0145, grad=0.0000)], [Var(v=-0.0692, grad=0.0000)], [Var(v=-0.1610, grad=0.0000)], [Var(v=0.0482, grad=0.0000)], [Var(v=-0.0586, grad=0.0000)], [Var(v=-0.0304, grad=0.0000)], [Var(v=0.0776, grad=0.0000)], [Var(v=0.0943, grad=0.0000)], [Var(v=-0.1019, grad=0.0000)], [Var(v=-0.0589, grad=0.0000)], [Var(v=0.2011, grad=0.0000)], [Var(v=0.0168, grad=0.0000)], [Var(v=-0.0047, grad=0.0000)], [Var(v=0.0268, grad=0.0000)], [Var(v=-0.1480, grad=0.0000)], [Var(v=0.0312, grad=0.0000)], [Var(v=-0.1163, grad=0.0000)], [Var(v=-0.0582, grad=0.0000)], [Var(v=-0.1693, grad=0.0000)], [Var(v=0.1865, grad=0.0000)], [Var(v=0.0385, grad=0.0000)], [Var(v=-0.0966, grad=0.0000)], [Var(v=0.0056, grad=0.0000)], [Var(v=0.0517, grad=0.0000)], [Var(v=-0.0227, grad=0.0000)], [Var(v=-0.0989, grad=0.0000)], [Var(v=0.1312, grad=0.0000)], [Var(v=0.0653, grad=0.0000)], [Var(v=0.2373, grad=0.0000)], [Var(v=0.0069, grad=0.0000)], [Var(v=-0.0731, grad=0.0000)], [Var(v=-0.0913, grad=0.0000)], [Var(v=0.0644, grad=0.0000)], [Var(v=0.1525, grad=0.0000)], [Var(v=0.0584, grad=0.0000)], [Var(v=-0.1051, grad=0.0000)], [Var(v=-0.0265, grad=0.0000)], [Var(v=-0.1860, grad=0.0000)], [Var(v=0.1920, grad=0.0000)], [Var(v=0.1122, grad=0.0000)], [Var(v=0.1839, grad=0.0000)], [Var(v=0.0071, grad=0.0000)], [Var(v=-0.1921, grad=0.0000)], [Var(v=-0.0977, grad=0.0000)], [Var(v=0.0571, grad=0.0000)], [Var(v=0.0536, grad=0.0000)], [Var(v=-0.0162, grad=0.0000)], [Var(v=0.0245, grad=0.0000)], [Var(v=-0.0856, grad=0.0000)], [Var(v=-0.0521, grad=0.0000)]] Biases: [Var(v=0.0095, grad=0.0000)]\n"
     ]
    },
    {
     "data": {
      "text/plain": [
       "[None, None, None]"
      ]
     },
     "execution_count": 190,
     "metadata": {},
     "output_type": "execute_result"
    }
   ],
   "execution_count": 190
  },
  {
   "cell_type": "code",
   "metadata": {
    "id": "woWYpdw6FtIO",
    "ExecuteTime": {
     "end_time": "2024-11-29T16:04:14.976119Z",
     "start_time": "2024-11-29T16:04:14.949304Z"
    }
   },
   "source": [
    "# Initialize an arbitrary neural network\n",
    "NN = [\n",
    "    DenseLayer(1, 8, lambda x: x.relu()),\n",
    "    DenseLayer(8, 1, lambda x: x.identity())\n",
    "]\n",
    "\n",
    "# Recommended hyper-parameters for 3-D:\n",
    "#NN = [\n",
    "#    DenseLayer(3, 16, lambda x: x.relu()),\n",
    "#    DenseLayer(16, 1, lambda x: x.identity())\n",
    "#]\n",
    "\n",
    "\n",
    "### Notice that, when we switch from tanh to relu activation, we decrease the learning rate. This is due the stability of the gradients\n",
    "## of the activation functions."
   ],
   "outputs": [],
   "execution_count": 191
  },
  {
   "cell_type": "code",
   "metadata": {
    "id": "mdqaqYBVFtIR",
    "ExecuteTime": {
     "end_time": "2024-11-29T16:04:15.019565Z",
     "start_time": "2024-11-29T16:04:14.995623Z"
    }
   },
   "source": [
    "# Initialize training hyperparameters\n",
    "EPOCHS = 200\n",
    "LEARN_R = 2e-3"
   ],
   "outputs": [],
   "execution_count": 192
  },
  {
   "cell_type": "code",
   "metadata": {
    "id": "5kfg76GMFtIW",
    "scrolled": true,
    "ExecuteTime": {
     "end_time": "2024-11-29T16:05:14.583559Z",
     "start_time": "2024-11-29T16:04:15.051936Z"
    }
   },
   "source": [
    "train_loss = []\n",
    "val_loss = []\n",
    "\n",
    "for e in range(EPOCHS):\n",
    "\n",
    "    # Forward pass and loss computation\n",
    "    Loss = squared_loss(y_train, forward(x_train, NN))\n",
    "\n",
    "    # Backward pass\n",
    "    Loss.backward()\n",
    "\n",
    "    # gradient descent update\n",
    "    update_parameters(parameters(NN), LEARN_R)\n",
    "    zero_gradients(parameters(NN))\n",
    "\n",
    "    # Training loss\n",
    "    train_loss.append(Loss.v)\n",
    "\n",
    "    # Validation\n",
    "    Loss_validation = squared_loss(y_validation, forward(x_validation, NN))\n",
    "    val_loss.append(Loss_validation.v)\n",
    "\n",
    "    if e%10==0:\n",
    "        print(\"{:4d}\".format(e),\n",
    "              \"({:5.2f}%)\".format(e/EPOCHS*100),\n",
    "              \"Train loss: {:4.3f} \\t Validation loss: {:4.3f}\".format(train_loss[-1], val_loss[-1]))\n",
    "\n"
   ],
   "outputs": [
    {
     "name": "stdout",
     "output_type": "stream",
     "text": [
      "   0 ( 0.00%) Train loss: 106.719 \t Validation loss: 107.429\n",
      "  10 ( 5.00%) Train loss: 39.348 \t Validation loss: 28.607\n",
      "  20 (10.00%) Train loss: 13.724 \t Validation loss: 10.439\n",
      "  30 (15.00%) Train loss: 13.210 \t Validation loss: 10.008\n",
      "  40 (20.00%) Train loss: 12.855 \t Validation loss: 9.651\n",
      "  50 (25.00%) Train loss: 12.638 \t Validation loss: 9.414\n",
      "  60 (30.00%) Train loss: 12.467 \t Validation loss: 9.208\n",
      "  70 (35.00%) Train loss: 12.308 \t Validation loss: 9.045\n",
      "  80 (40.00%) Train loss: 12.187 \t Validation loss: 8.926\n",
      "  90 (45.00%) Train loss: 12.071 \t Validation loss: 8.876\n",
      " 100 (50.00%) Train loss: 11.980 \t Validation loss: 8.862\n",
      " 110 (55.00%) Train loss: 11.942 \t Validation loss: 8.871\n",
      " 120 (60.00%) Train loss: 11.919 \t Validation loss: 8.893\n",
      " 130 (65.00%) Train loss: 11.905 \t Validation loss: 8.915\n",
      " 140 (70.00%) Train loss: 11.898 \t Validation loss: 8.931\n",
      " 150 (75.00%) Train loss: 11.894 \t Validation loss: 8.946\n",
      " 160 (80.00%) Train loss: 11.892 \t Validation loss: 8.951\n",
      " 170 (85.00%) Train loss: 11.891 \t Validation loss: 8.956\n",
      " 180 (90.00%) Train loss: 11.891 \t Validation loss: 8.960\n",
      " 190 (95.00%) Train loss: 11.891 \t Validation loss: 8.963\n"
     ]
    }
   ],
   "execution_count": 193
  },
  {
   "cell_type": "code",
   "metadata": {
    "id": "VetyRWFwFtIY",
    "ExecuteTime": {
     "end_time": "2024-11-29T16:05:14.931126Z",
     "start_time": "2024-11-29T16:05:14.589175Z"
    }
   },
   "source": [
    "plt.plot(range(len(train_loss)), train_loss)\n",
    "plt.plot(range(len(val_loss)), val_loss)"
   ],
   "outputs": [
    {
     "data": {
      "text/plain": [
       "[<matplotlib.lines.Line2D at 0x1e300485910>]"
      ]
     },
     "execution_count": 194,
     "metadata": {},
     "output_type": "execute_result"
    },
    {
     "data": {
      "text/plain": [
       "<Figure size 640x480 with 1 Axes>"
      ],
      "image/png": "[encoded data removed]"
     },
     "metadata": {},
     "output_type": "display_data"
    }
   ],
   "execution_count": 194
  },
  {
   "cell_type": "markdown",
   "metadata": {
    "id": "8OgmIrM9FtIb"
   },
   "source": [
    "# Testing\n",
    "\n",
    "We have kept the calculation of the test error separate in order to emphasize that you should not use the test set in optimization."
   ]
  },
  {
   "cell_type": "code",
   "metadata": {
    "id": "HmNi7S-vFtIc",
    "ExecuteTime": {
     "end_time": "2024-11-29T16:05:14.967329Z",
     "start_time": "2024-11-29T16:05:14.935175Z"
    }
   },
   "source": [
    "output_test = forward(x_test, NN)"
   ],
   "outputs": [],
   "execution_count": 195
  },
  {
   "cell_type": "code",
   "metadata": {
    "id": "7mmJOTSEFtIf",
    "ExecuteTime": {
     "end_time": "2024-11-29T16:05:16.929390Z",
     "start_time": "2024-11-29T16:05:14.972982Z"
    }
   },
   "source": [
    "y_test_np = Var_to_nparray(y_test)\n",
    "plt.scatter(y_test_np, Var_to_nparray(output_test))\n",
    "plt.plot([np.min(y_test_np), np.max(y_test_np)], [np.min(y_test_np), np.max(y_test_np)], color='k')\n",
    "plt.xlabel(\"y\")\n",
    "plt.ylabel(\"$\\\\hat{y}$\")\n",
    "plt.title(\"Model prediction vs real in the test set, the close to the line the better\")\n",
    "plt.grid(True)\n",
    "plt.axis('equal')\n",
    "plt.tight_layout()\n",
    "\n",
    "Loss_test = squared_loss(y_test, forward(x_test, NN))\n",
    "\n",
    "print(\"Test loss:  {:4.3f}\".format(Loss_test.v))"
   ],
   "outputs": [
    {
     "name": "stdout",
     "output_type": "stream",
     "text": [
      "Test loss:  9.784\n"
     ]
    },
    {
     "data": {
      "text/plain": [
       "<Figure size 640x480 with 1 Axes>"
      ],
      "image/png": "[encoded data removed]"
     },
     "metadata": {},
     "output_type": "display_data"
    }
   ],
   "execution_count": 196
  },
  {
   "cell_type": "code",
   "metadata": {
    "id": "ODi0WlmQFtIh",
    "ExecuteTime": {
     "end_time": "2024-11-29T16:05:19.085876Z",
     "start_time": "2024-11-29T16:05:16.946711Z"
    }
   },
   "source": [
    "x_test_np = Var_to_nparray(x_test)\n",
    "x_train_np = Var_to_nparray(x_train)\n",
    "y_train_np = Var_to_nparray(y_train)\n",
    "if D1:\n",
    "    plt.scatter(x_train_np, y_train_np, label=\"train data\");\n",
    "    plt.scatter(x_test_np, Var_to_nparray(output_test), label=\"test prediction\");\n",
    "    plt.scatter(x_test_np, y_test_np, label=\"test data\");\n",
    "    plt.legend();\n",
    "    plt.xlabel(\"x\");\n",
    "    plt.ylabel(\"y\");\n",
    "else:\n",
    "    plt.scatter(x_train_np[:,1], y_train, label=\"train data\");\n",
    "    plt.scatter(x_test_np[:,1], Var_to_nparray(output_test), label=\"test data prediction\");\n",
    "    plt.scatter(x_test_np[:,1], y_test_np, label=\"test data\");\n",
    "    plt.legend();\n",
    "    plt.xlabel(\"x\");\n",
    "    plt.ylabel(\"y\");"
   ],
   "outputs": [
    {
     "data": {
      "text/plain": [
       "<Figure size 640x480 with 1 Axes>"
      ],
      "image/png": "[encoded data removed]"
     },
     "metadata": {},
     "output_type": "display_data"
    }
   ],
   "execution_count": 197
  },
  {
   "cell_type": "markdown",
   "metadata": {
    "id": "zTBAmjsAFtIk"
   },
   "source": [
    "## Exercise l) Show overfitting, underfitting and just right fitting\n",
    "\n",
    "Vary the architecture and other things to show clear signs of overfitting (=training loss significantly lower than test loss) and underfitting (=not fitting enoung to training data so that test performance is also hurt).\n",
    "\n",
    "See also if you can get a good compromise which leads to a low validation loss.\n",
    "\n",
    "For this problem do you see any big difference between validation and test loss? The answer here will probably be no. Discuss cases where it is important to keep the two separate.\n",
    "\n",
    "_Insert written answer here._\n"
   ]
  },
  {
   "cell_type": "code",
   "metadata": {
    "id": "tQZCn2dxFtIl",
    "ExecuteTime": {
     "end_time": "2024-11-29T16:05:19.106449Z",
     "start_time": "2024-11-29T16:05:19.092430Z"
    }
   },
   "source": [
    "NN_overfit = [\n",
    "    DenseLayer(1, 100, lambda x: x.relu()),\n",
    "    DenseLayer(100, 1, lambda x: x.identity())\n",
    "]\n",
    "\n",
    "NN_underfit = [\n",
    "    DenseLayer(1, 2, lambda x: x.relu()),\n",
    "    DenseLayer(2, 1, lambda x: x.identity())\n",
    "]\n",
    "\n",
    "NN_balanced = [\n",
    "    DenseLayer(1, 10, lambda x: x.relu()),\n",
    "    DenseLayer(10, 1, lambda x: x.identity())\n",
    "]\n"
   ],
   "outputs": [],
   "execution_count": 198
  },
  {
   "cell_type": "markdown",
   "metadata": {
    "id": "fYPZP-eTFtIo"
   },
   "source": [
    "# Next steps - classification\n",
    "\n",
    "It is straight forward to extend what we have done to classification.\n",
    "\n",
    "For numerical stability it is better to make softmax and cross-entropy as one function so we write the cross entropy loss as a function of the logits we talked about last week.\n",
    "\n",
    "Next week we will see how to perform classification in PyTorch."
   ]
  },
  {
   "cell_type": "markdown",
   "metadata": {
    "id": "qsVPul3QFtIo"
   },
   "source": [
    "## Exercise m) optional - Implement backpropagation for classification\n",
    "\n",
    "Should be possible with very few lines of code. :-)"
   ]
  },
  {
   "cell_type": "code",
   "metadata": {
    "id": "oC8QrI2tFtIp",
    "ExecuteTime": {
     "end_time": "2024-11-29T16:05:19.126448Z",
     "start_time": "2024-11-29T16:05:19.112928Z"
    }
   },
   "source": [
    "# Just add code."
   ],
   "outputs": [],
   "execution_count": 199
  },
  {
   "cell_type": "markdown",
   "metadata": {
    "id": "APqhJv3tta1O"
   },
   "source": [
    "## Exercise n) optional - Introduce a NeuralNetwork class\n",
    "\n",
    "The functions we applied on the neural network (parameters, update_parameters and zero_gradients) can more naturally be included as methods in a NeuralNetwork class. Make such a class and modify the code to use it."
   ]
  },
  {
   "cell_type": "code",
   "metadata": {
    "id": "Dqfnor1ouMLq",
    "ExecuteTime": {
     "end_time": "2024-11-29T16:05:19.143287Z",
     "start_time": "2024-11-29T16:05:19.134062Z"
    }
   },
   "source": [
    "# just add some code"
   ],
   "outputs": [],
   "execution_count": 200
  }
 ],
 "metadata": {
  "anaconda-cloud": {},
  "colab": {
   "collapsed_sections": [
    "U4057_ljNvWB",
    "jpIZPBpNI0pO",
    "p_8n_SKnIW2F",
    "oLrGJytZFtGm",
    "_79HOAXrFtHK",
    "mqeyab9qFtGs",
    "-XyXBD37FtHk",
    "SrwSJ2UWFtHu",
    "zTBAmjsAFtIk",
    "qsVPul3QFtIo",
    "APqhJv3tta1O"
   ],
   "provenance": []
  },
  "kernelspec": {
   "display_name": "Python 3 (ipykernel)",
   "language": "python",
   "name": "python3"
  },
  "language_info": {
   "codemirror_mode": {
    "name": "ipython",
    "version": 3
   },
   "file_extension": ".py",
   "mimetype": "text/x-python",
   "name": "python",
   "nbconvert_exporter": "python",
   "pygments_lexer": "ipython3",
   "version": "3.11.7"
  }
 },
 "nbformat": 4,
 "nbformat_minor": 0
}
